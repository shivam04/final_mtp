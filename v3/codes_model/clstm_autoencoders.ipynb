{
 "cells": [
  {
   "cell_type": "code",
   "execution_count": 1,
   "metadata": {},
   "outputs": [
    {
     "name": "stdout",
     "output_type": "stream",
     "text": [
      "g\n",
      "d\n"
     ]
    }
   ],
   "source": [
    "import pickle\n",
    "with open(\"finalset/datasets_og.pickle\",'rb') as handle:\n",
    "    [X_train,Y_train,X_test,Y_test] = pickle.load(handle)\n",
    "    print(\"g\")\n",
    "print(\"d\")"
   ]
  },
  {
   "cell_type": "code",
   "execution_count": 2,
   "metadata": {},
   "outputs": [
    {
     "data": {
      "text/plain": [
       "(4800, 98, 37)"
      ]
     },
     "metadata": {},
     "output_type": "display_data"
    },
    {
     "data": {
      "text/plain": [
       "(1787, 98, 37)"
      ]
     },
     "metadata": {},
     "output_type": "display_data"
    },
    {
     "data": {
      "text/plain": [
       "(4800, 1)"
      ]
     },
     "metadata": {},
     "output_type": "display_data"
    },
    {
     "data": {
      "text/plain": [
       "(1787, 1)"
      ]
     },
     "metadata": {},
     "output_type": "display_data"
    }
   ],
   "source": [
    "display(X_train.shape)\n",
    "display(X_test.shape)\n",
    "display(Y_train.shape)\n",
    "display(Y_test.shape)"
   ]
  },
  {
   "cell_type": "code",
   "execution_count": 61,
   "metadata": {},
   "outputs": [
    {
     "data": {
      "text/plain": [
       "array([[False],\n",
       "       [False],\n",
       "       [ True],\n",
       "       ...,\n",
       "       [ True],\n",
       "       [False],\n",
       "       [False]])"
      ]
     },
     "execution_count": 61,
     "metadata": {},
     "output_type": "execute_result"
    }
   ],
   "source": [
    "tt = Y_train==1\n",
    "tt"
   ]
  },
  {
   "cell_type": "code",
   "execution_count": 62,
   "metadata": {},
   "outputs": [
    {
     "data": {
      "text/plain": [
       "array([False, False,  True, ...,  True, False, False])"
      ]
     },
     "execution_count": 62,
     "metadata": {},
     "output_type": "execute_result"
    }
   ],
   "source": [
    "tt = tt.reshape((4800))\n",
    "tt"
   ]
  },
  {
   "cell_type": "code",
   "execution_count": 63,
   "metadata": {},
   "outputs": [
    {
     "data": {
      "text/plain": [
       "array([[[0.70967742, 0.        , 0.00173718, ..., 0.        ,\n",
       "         0.01247637, 0.        ],\n",
       "        [0.70967742, 0.        , 0.00173718, ..., 0.        ,\n",
       "         0.01247637, 0.        ],\n",
       "        [0.70967742, 0.        , 0.00173718, ..., 0.        ,\n",
       "         0.01247637, 0.        ],\n",
       "        ...,\n",
       "        [0.70967742, 0.        , 0.00173718, ..., 0.        ,\n",
       "         0.01247637, 0.        ],\n",
       "        [0.70967742, 0.        , 0.00173718, ..., 0.        ,\n",
       "         0.01247637, 0.        ],\n",
       "        [0.70967742, 0.        , 0.00173718, ..., 0.        ,\n",
       "         0.01247637, 0.        ]],\n",
       "\n",
       "       [[0.        , 0.        , 0.        , ..., 0.        ,\n",
       "         0.04347826, 0.27079039],\n",
       "        [0.        , 0.        , 0.        , ..., 0.        ,\n",
       "         0.04347826, 0.27079039],\n",
       "        [0.        , 0.        , 0.        , ..., 0.        ,\n",
       "         0.04347826, 0.27079039],\n",
       "        ...,\n",
       "        [0.        , 0.        , 0.        , ..., 0.        ,\n",
       "         0.04007561, 0.27079039],\n",
       "        [0.        , 0.        , 0.        , ..., 0.        ,\n",
       "         0.04007561, 0.27079039],\n",
       "        [0.        , 0.        , 0.        , ..., 0.        ,\n",
       "         0.04007561, 0.27079039]],\n",
       "\n",
       "       [[0.        , 0.        , 0.        , ..., 0.        ,\n",
       "         0.01644612, 0.25532647],\n",
       "        [0.        , 0.        , 0.        , ..., 0.        ,\n",
       "         0.01644612, 0.25532647],\n",
       "        [0.        , 0.        , 0.        , ..., 0.        ,\n",
       "         0.01644612, 0.25532647],\n",
       "        ...,\n",
       "        [0.        , 0.        , 0.        , ..., 0.        ,\n",
       "         0.01644612, 0.25532647],\n",
       "        [0.        , 0.        , 0.        , ..., 0.        ,\n",
       "         0.01644612, 0.25532647],\n",
       "        [0.        , 0.        , 0.        , ..., 0.        ,\n",
       "         0.01644612, 0.25532647]],\n",
       "\n",
       "       ...,\n",
       "\n",
       "       [[0.56451613, 0.02288775, 0.00551809, ..., 0.        ,\n",
       "         0.03062382, 0.33608248],\n",
       "        [0.56451613, 0.02288775, 0.00551809, ..., 0.        ,\n",
       "         0.03062382, 0.33608248],\n",
       "        [0.56451613, 0.02288775, 0.00551809, ..., 0.        ,\n",
       "         0.03062382, 0.33608248],\n",
       "        ...,\n",
       "        [0.59677419, 0.02532262, 0.00766401, ..., 0.        ,\n",
       "         0.02703214, 0.33608248],\n",
       "        [0.59677419, 0.02532262, 0.00766401, ..., 0.        ,\n",
       "         0.02703214, 0.33608248],\n",
       "        [0.59677419, 0.02532262, 0.00766401, ..., 0.        ,\n",
       "         0.03062382, 0.33608248]],\n",
       "\n",
       "       [[0.        , 0.        , 0.        , ..., 0.        ,\n",
       "         0.        , 0.79175256],\n",
       "        [0.        , 0.        , 0.        , ..., 0.        ,\n",
       "         0.        , 0.79175256],\n",
       "        [0.        , 0.        , 0.        , ..., 0.        ,\n",
       "         0.        , 0.79175256],\n",
       "        ...,\n",
       "        [0.        , 0.        , 0.        , ..., 0.        ,\n",
       "         0.        , 0.79175256],\n",
       "        [0.        , 0.        , 0.        , ..., 0.        ,\n",
       "         0.        , 0.79175256],\n",
       "        [0.        , 0.        , 0.        , ..., 0.        ,\n",
       "         0.        , 0.79175256]],\n",
       "\n",
       "       [[0.        , 0.        , 0.        , ..., 0.        ,\n",
       "         0.02741021, 0.28316152],\n",
       "        [0.        , 0.        , 0.        , ..., 0.        ,\n",
       "         0.02741021, 0.32233678],\n",
       "        [0.        , 0.        , 0.        , ..., 0.        ,\n",
       "         0.02741021, 0.32233678],\n",
       "        ...,\n",
       "        [0.        , 0.        , 0.        , ..., 0.        ,\n",
       "         0.02741021, 0.28316152],\n",
       "        [0.        , 0.        , 0.        , ..., 0.        ,\n",
       "         0.02741021, 0.28316152],\n",
       "        [0.        , 0.        , 0.        , ..., 0.        ,\n",
       "         0.02741021, 0.28316152]]])"
      ]
     },
     "execution_count": 63,
     "metadata": {},
     "output_type": "execute_result"
    }
   ],
   "source": [
    "X_tr = X_train[tt]\n",
    "X_tr"
   ]
  },
  {
   "cell_type": "code",
   "execution_count": 64,
   "metadata": {},
   "outputs": [
    {
     "data": {
      "text/plain": [
       "(1825, 98, 37)"
      ]
     },
     "execution_count": 64,
     "metadata": {},
     "output_type": "execute_result"
    }
   ],
   "source": [
    "X_tr.shape"
   ]
  },
  {
   "cell_type": "code",
   "execution_count": 65,
   "metadata": {},
   "outputs": [
    {
     "data": {
      "text/plain": [
       "(6625, 98, 37)"
      ]
     },
     "execution_count": 65,
     "metadata": {},
     "output_type": "execute_result"
    }
   ],
   "source": [
    "X_train = np.concatenate((X_train,X_tr))\n",
    "X_train.shape"
   ]
  },
  {
   "cell_type": "code",
   "execution_count": 66,
   "metadata": {},
   "outputs": [],
   "source": [
    "Y_tr = Y_train[tt]"
   ]
  },
  {
   "cell_type": "code",
   "execution_count": 67,
   "metadata": {},
   "outputs": [
    {
     "data": {
      "text/plain": [
       "(6625, 1)"
      ]
     },
     "execution_count": 67,
     "metadata": {},
     "output_type": "execute_result"
    }
   ],
   "source": [
    "Y_train = np.concatenate((Y_train,Y_tr))\n",
    "Y_train.shape"
   ]
  },
  {
   "cell_type": "code",
   "execution_count": 68,
   "metadata": {},
   "outputs": [
    {
     "data": {
      "text/plain": [
       "array([ True,  True,  True, ..., False, False,  True])"
      ]
     },
     "execution_count": 68,
     "metadata": {},
     "output_type": "execute_result"
    }
   ],
   "source": [
    "tt = Y_test==1\n",
    "tt = tt.reshape((tt.shape[0]))\n",
    "tt"
   ]
  },
  {
   "cell_type": "code",
   "execution_count": 69,
   "metadata": {},
   "outputs": [
    {
     "data": {
      "text/plain": [
       "array([[[0.        , 0.        , 0.00071531, ..., 0.        ,\n",
       "         0.0342155 , 0.        ],\n",
       "        [0.        , 0.        , 0.00071531, ..., 0.        ,\n",
       "         0.0342155 , 0.        ],\n",
       "        [0.        , 0.        , 0.00071531, ..., 0.        ,\n",
       "         0.0342155 , 0.        ],\n",
       "        ...,\n",
       "        [0.        , 0.        , 0.00071531, ..., 0.        ,\n",
       "         0.02854442, 0.        ],\n",
       "        [0.        , 0.        , 0.00071531, ..., 0.        ,\n",
       "         0.02570888, 0.        ],\n",
       "        [0.        , 0.        , 0.00071531, ..., 0.        ,\n",
       "         0.02854442, 0.        ]],\n",
       "\n",
       "       [[0.        , 0.        , 0.        , ..., 0.        ,\n",
       "         0.03780718, 0.36288659],\n",
       "        [0.        , 0.        , 0.        , ..., 0.        ,\n",
       "         0.03780718, 0.36288659],\n",
       "        [0.        , 0.        , 0.        , ..., 0.        ,\n",
       "         0.03780718, 0.36288659],\n",
       "        ...,\n",
       "        [0.        , 0.        , 0.        , ..., 0.        ,\n",
       "         0.03969754, 0.36288659],\n",
       "        [0.        , 0.        , 0.        , ..., 0.        ,\n",
       "         0.03780718, 0.36288659],\n",
       "        [0.        , 0.        , 0.        , ..., 0.        ,\n",
       "         0.03969754, 0.36288659]],\n",
       "\n",
       "       [[0.        , 0.        , 0.01134273, ..., 0.        ,\n",
       "         0.01871456, 0.        ],\n",
       "        [0.        , 0.        , 0.01134273, ..., 0.        ,\n",
       "         0.01871456, 0.        ],\n",
       "        [0.        , 0.        , 0.01134273, ..., 0.        ,\n",
       "         0.01871456, 0.        ],\n",
       "        ...,\n",
       "        [0.        , 0.        , 0.01134273, ..., 0.        ,\n",
       "         0.01833648, 0.        ],\n",
       "        [0.        , 0.        , 0.01134273, ..., 0.        ,\n",
       "         0.01833648, 0.        ],\n",
       "        [0.        , 0.        , 0.01134273, ..., 0.        ,\n",
       "         0.01833648, 0.        ]],\n",
       "\n",
       "       ...,\n",
       "\n",
       "       [[0.        , 0.        , 0.        , ..., 0.        ,\n",
       "         0.01909263, 0.31237114],\n",
       "        [0.        , 0.        , 0.        , ..., 0.        ,\n",
       "         0.01909263, 0.31237114],\n",
       "        [0.        , 0.        , 0.        , ..., 0.        ,\n",
       "         0.01909263, 0.31237114],\n",
       "        ...,\n",
       "        [0.        , 0.        , 0.        , ..., 0.        ,\n",
       "         0.03005671, 0.31237114],\n",
       "        [0.        , 0.        , 0.        , ..., 0.        ,\n",
       "         0.03005671, 0.31237114],\n",
       "        [0.        , 0.        , 0.        , ..., 0.        ,\n",
       "         0.02722117, 0.31237114]],\n",
       "\n",
       "       [[0.        , 0.        , 0.        , ..., 0.        ,\n",
       "         0.        , 0.        ],\n",
       "        [0.        , 0.        , 0.        , ..., 0.        ,\n",
       "         0.        , 0.        ],\n",
       "        [0.        , 0.        , 0.        , ..., 0.        ,\n",
       "         0.        , 0.        ],\n",
       "        ...,\n",
       "        [0.        , 0.        , 0.        , ..., 0.        ,\n",
       "         0.        , 0.        ],\n",
       "        [0.        , 0.        , 0.        , ..., 0.        ,\n",
       "         0.        , 0.        ],\n",
       "        [0.        , 0.        , 0.        , ..., 0.        ,\n",
       "         0.        , 0.        ]],\n",
       "\n",
       "       [[0.        , 0.        , 0.        , ..., 0.        ,\n",
       "         0.        , 0.3161512 ],\n",
       "        [0.        , 0.        , 0.        , ..., 0.        ,\n",
       "         0.        , 0.3161512 ],\n",
       "        [0.        , 0.        , 0.        , ..., 0.        ,\n",
       "         0.        , 0.3161512 ],\n",
       "        ...,\n",
       "        [0.        , 0.        , 0.        , ..., 0.        ,\n",
       "         0.        , 0.31924399],\n",
       "        [0.        , 0.        , 0.        , ..., 0.        ,\n",
       "         0.        , 0.31924399],\n",
       "        [0.        , 0.        , 0.        , ..., 0.        ,\n",
       "         0.        , 0.31924399]]])"
      ]
     },
     "execution_count": 69,
     "metadata": {},
     "output_type": "execute_result"
    }
   ],
   "source": [
    "X_te = X_test[tt]\n",
    "X_te"
   ]
  },
  {
   "cell_type": "code",
   "execution_count": 70,
   "metadata": {},
   "outputs": [
    {
     "data": {
      "text/plain": [
       "(636, 98, 37)"
      ]
     },
     "execution_count": 70,
     "metadata": {},
     "output_type": "execute_result"
    }
   ],
   "source": [
    "X_te.shape"
   ]
  },
  {
   "cell_type": "code",
   "execution_count": 71,
   "metadata": {},
   "outputs": [
    {
     "data": {
      "text/plain": [
       "(2423, 98, 37)"
      ]
     },
     "execution_count": 71,
     "metadata": {},
     "output_type": "execute_result"
    }
   ],
   "source": [
    "X_test = np.concatenate((X_test,X_te))\n",
    "X_test.shape"
   ]
  },
  {
   "cell_type": "code",
   "execution_count": 72,
   "metadata": {},
   "outputs": [],
   "source": [
    "Y_te = Y_test[tt]"
   ]
  },
  {
   "cell_type": "code",
   "execution_count": 73,
   "metadata": {},
   "outputs": [
    {
     "data": {
      "text/plain": [
       "(2423, 1)"
      ]
     },
     "execution_count": 73,
     "metadata": {},
     "output_type": "execute_result"
    }
   ],
   "source": [
    "Y_test = np.concatenate((Y_test,Y_te))\n",
    "Y_test.shape"
   ]
  },
  {
   "cell_type": "code",
   "execution_count": 76,
   "metadata": {},
   "outputs": [],
   "source": [
    "def suffle_data(X,Y):\n",
    "    X_new = X.reshape(X.shape[0],1,X.shape[1],X.shape[2])\n",
    "    display(X_new.shape)\n",
    "    Y_new = Y.reshape(Y.shape[0],1,Y.shape[1])\n",
    "    display(Y_new.shape)\n",
    "    X_new = np.insert(X_new, 1, Y_new, axis=1)\n",
    "    display(X_new.shape)\n",
    "    np.random.shuffle(X_new)\n",
    "    display(X_new.shape)\n",
    "    X = X_new[:,0]\n",
    "    Y = X_new[:,1]\n",
    "    Y = Y[:,0]\n",
    "    Y = Y[:,0]\n",
    "    Y = Y.reshape(Y.shape[0],1)\n",
    "    return X,Y"
   ]
  },
  {
   "cell_type": "code",
   "execution_count": 129,
   "metadata": {},
   "outputs": [
    {
     "data": {
      "text/plain": [
       "(6625, 1, 98, 37)"
      ]
     },
     "metadata": {},
     "output_type": "display_data"
    },
    {
     "data": {
      "text/plain": [
       "(6625, 1, 1)"
      ]
     },
     "metadata": {},
     "output_type": "display_data"
    },
    {
     "data": {
      "text/plain": [
       "(6625, 2, 98, 37)"
      ]
     },
     "metadata": {},
     "output_type": "display_data"
    },
    {
     "data": {
      "text/plain": [
       "(6625, 2, 98, 37)"
      ]
     },
     "metadata": {},
     "output_type": "display_data"
    },
    {
     "data": {
      "text/plain": [
       "(6625, 98, 37)"
      ]
     },
     "metadata": {},
     "output_type": "display_data"
    },
    {
     "data": {
      "text/plain": [
       "(6625, 1)"
      ]
     },
     "execution_count": 129,
     "metadata": {},
     "output_type": "execute_result"
    }
   ],
   "source": [
    "X_train,Y_train = suffle_data(X_train,Y_train)\n",
    "display(X_train.shape)\n",
    "Y_train.shape"
   ]
  },
  {
   "cell_type": "code",
   "execution_count": 141,
   "metadata": {},
   "outputs": [
    {
     "data": {
      "text/plain": [
       "(2423, 1, 98, 37)"
      ]
     },
     "metadata": {},
     "output_type": "display_data"
    },
    {
     "data": {
      "text/plain": [
       "(2423, 1, 1)"
      ]
     },
     "metadata": {},
     "output_type": "display_data"
    },
    {
     "data": {
      "text/plain": [
       "(2423, 2, 98, 37)"
      ]
     },
     "metadata": {},
     "output_type": "display_data"
    },
    {
     "data": {
      "text/plain": [
       "(2423, 2, 98, 37)"
      ]
     },
     "metadata": {},
     "output_type": "display_data"
    },
    {
     "data": {
      "text/plain": [
       "(2423, 98, 37)"
      ]
     },
     "metadata": {},
     "output_type": "display_data"
    },
    {
     "data": {
      "text/plain": [
       "(2423, 1)"
      ]
     },
     "execution_count": 141,
     "metadata": {},
     "output_type": "execute_result"
    }
   ],
   "source": [
    "X_test,Y_test = suffle_data(X_test,Y_test )\n",
    "display(X_test.shape)\n",
    "Y_test.shape"
   ]
  },
  {
   "cell_type": "code",
   "execution_count": 142,
   "metadata": {},
   "outputs": [],
   "source": [
    "from keras.models import Sequential\n",
    "from keras.layers import Dense\n",
    "from keras.layers import LSTM\n",
    "from keras.layers import Dropout,RepeatVector,TimeDistributed,Conv1D,MaxPooling1D\n",
    "from keras.utils import plot_model"
   ]
  },
  {
   "cell_type": "code",
   "execution_count": null,
   "metadata": {},
   "outputs": [
    {
     "name": "stdout",
     "output_type": "stream",
     "text": [
      "_________________________________________________________________\n",
      "Layer (type)                 Output Shape              Param #   \n",
      "=================================================================\n",
      "conv1d_13 (Conv1D)           (None, 98, 32)            5952      \n",
      "_________________________________________________________________\n",
      "conv1d_14 (Conv1D)           (None, 98, 32)            5152      \n",
      "_________________________________________________________________\n",
      "conv1d_15 (Conv1D)           (None, 98, 64)            10304     \n",
      "_________________________________________________________________\n",
      "max_pooling1d_5 (MaxPooling1 (None, 98, 32)            0         \n",
      "_________________________________________________________________\n",
      "lstm_46 (LSTM)               (None, 98, 100)           53200     \n",
      "_________________________________________________________________\n",
      "lstm_47 (LSTM)               (None, 100)               80400     \n",
      "_________________________________________________________________\n",
      "repeat_vector_16 (RepeatVect (None, 98, 100)           0         \n",
      "_________________________________________________________________\n",
      "lstm_48 (LSTM)               (None, 100)               80400     \n",
      "_________________________________________________________________\n",
      "dropout_16 (Dropout)         (None, 100)               0         \n",
      "_________________________________________________________________\n",
      "dense_61 (Dense)             (None, 100)               10100     \n",
      "_________________________________________________________________\n",
      "dense_62 (Dense)             (None, 25)                2525      \n",
      "_________________________________________________________________\n",
      "dense_63 (Dense)             (None, 10)                260       \n",
      "_________________________________________________________________\n",
      "dense_64 (Dense)             (None, 1)                 11        \n",
      "=================================================================\n",
      "Total params: 248,304\n",
      "Trainable params: 248,304\n",
      "Non-trainable params: 0\n",
      "_________________________________________________________________\n",
      "None\n",
      "Train on 6625 samples, validate on 2423 samples\n",
      "Epoch 1/30\n",
      "6625/6625 [==============================] - 18s 3ms/step - loss: 0.6885 - acc: 0.5280 - val_loss: 0.6882 - val_acc: 0.5316\n",
      "Epoch 2/30\n",
      "6625/6625 [==============================] - 12s 2ms/step - loss: 0.6762 - acc: 0.5576 - val_loss: 0.6842 - val_acc: 0.5411\n",
      "Epoch 3/30\n",
      "6625/6625 [==============================] - 12s 2ms/step - loss: 0.6735 - acc: 0.5632 - val_loss: 0.6857 - val_acc: 0.5390\n",
      "Epoch 4/30\n",
      "6625/6625 [==============================] - 12s 2ms/step - loss: 0.6698 - acc: 0.5746 - val_loss: 0.6834 - val_acc: 0.5501\n",
      "Epoch 5/30\n",
      "6625/6625 [==============================] - 12s 2ms/step - loss: 0.6690 - acc: 0.5728 - val_loss: 0.6791 - val_acc: 0.5386\n",
      "Epoch 6/30\n",
      "6625/6625 [==============================] - 12s 2ms/step - loss: 0.6701 - acc: 0.5707 - val_loss: 0.6806 - val_acc: 0.5411\n",
      "Epoch 7/30\n",
      "6625/6625 [==============================] - 12s 2ms/step - loss: 0.6678 - acc: 0.5701 - val_loss: 0.6827 - val_acc: 0.5497\n",
      "Epoch 8/30\n",
      "6625/6625 [==============================] - 12s 2ms/step - loss: 0.6663 - acc: 0.5807 - val_loss: 0.6785 - val_acc: 0.5481\n",
      "Epoch 9/30\n",
      "6625/6625 [==============================] - 12s 2ms/step - loss: 0.6659 - acc: 0.5867 - val_loss: 0.6881 - val_acc: 0.5497\n",
      "Epoch 10/30\n",
      "6625/6625 [==============================] - 12s 2ms/step - loss: 0.6628 - acc: 0.5863 - val_loss: 0.6855 - val_acc: 0.5390\n",
      "Epoch 11/30\n",
      "6625/6625 [==============================] - 12s 2ms/step - loss: 0.6611 - acc: 0.5900 - val_loss: 0.6904 - val_acc: 0.5336\n",
      "Epoch 12/30\n",
      "6625/6625 [==============================] - 12s 2ms/step - loss: 0.6573 - acc: 0.5946 - val_loss: 0.6919 - val_acc: 0.5345\n",
      "Epoch 13/30\n",
      "6625/6625 [==============================] - 12s 2ms/step - loss: 0.6556 - acc: 0.5971 - val_loss: 0.7027 - val_acc: 0.5299\n",
      "Epoch 14/30\n",
      "6000/6625 [==========================>...] - ETA: 0s - loss: 0.6562 - acc: 0.5968"
     ]
    }
   ],
   "source": [
    "model = Sequential()\n",
    "model.add(Conv1D(32, kernel_size=5, input_shape=(X_train.shape[1],X_train.shape[2]), activation='relu', padding='same',data_format=\"channels_last\"))\n",
    "model.add(Conv1D(32, 5, activation='tanh', padding='same'))\n",
    "model.add(Conv1D(64, 5, activation='tanh', padding='same'))\n",
    "model.add(MaxPooling1D(pool_size=2,data_format=\"channels_first\"))\n",
    "model.add(LSTM(100, activation='tanh',input_shape=(98,32),return_sequences=True))\n",
    "model.add(LSTM(100, activation='tanh'))\n",
    "model.add(RepeatVector(X_train.shape[1]))\n",
    "model.add(LSTM(100, activation='tanh'))\n",
    "model.add(Dropout(0.2))\n",
    "#model.add(BatchNormalization(axis=1, momentum=0.99, epsilon=0.001, center=True, scale=True, beta_initializer='zeros', gamma_initializer='ones', moving_mean_initializer='zeros', moving_variance_initializer='ones', beta_regularizer=None, gamma_regularizer=None, beta_constraint=None, gamma_constraint=None))\n",
    "model.add(Dense(100,activation='tanh'))\n",
    "model.add(Dense(25,activation='tanh'))\n",
    "#model.add(Dense(20,activation='tanh'))\n",
    "model.add(Dense(10,activation='tanh'))\n",
    "model.add(Dense(1, activation='sigmoid'))\n",
    "model.compile(loss='binary_crossentropy', optimizer='adam', metrics=['accuracy'])\n",
    "print(model.summary())\n",
    "model.fit(X_train, Y_train, validation_data=(X_test, Y_test), epochs=30,batch_size=1000,verbose=1)"
   ]
  },
  {
   "cell_type": "code",
   "execution_count": null,
   "metadata": {},
   "outputs": [],
   "source": [
    "scores = model.evaluate(X_test, Y_test)\n",
    "scores[1]*100"
   ]
  },
  {
   "cell_type": "code",
   "execution_count": null,
   "metadata": {},
   "outputs": [],
   "source": [
    "y_pred = model.predict(X_test)\n",
    "y_pred"
   ]
  },
  {
   "cell_type": "code",
   "execution_count": null,
   "metadata": {},
   "outputs": [],
   "source": [
    "from sklearn.metrics import mean_squared_error\n",
    "from hyperopt import fmin, tpe, hp, STATUS_OK, Trials\n",
    "from sklearn.ensemble import ExtraTreesClassifier\n",
    "from sklearn.model_selection import StratifiedKFold\n",
    "import pandas as pd;\n",
    "import numpy as np;\n",
    "from sklearn import model_selection\n",
    "from sklearn.metrics import roc_auc_score, f1_score,precision_recall_fscore_support\n",
    "from sklearn.metrics import confusion_matrix\n",
    "import numpy as np\n",
    "import matplotlib.pyplot as plt\n",
    "from itertools import cycle\n",
    "\n",
    "from sklearn import svm, datasets\n",
    "from sklearn.metrics import roc_curve, auc\n",
    "from sklearn.model_selection import train_test_split\n",
    "from sklearn.preprocessing import label_binarize\n",
    "from sklearn.multiclass import OneVsRestClassifier\n",
    "from scipy import interp"
   ]
  },
  {
   "cell_type": "code",
   "execution_count": null,
   "metadata": {},
   "outputs": [],
   "source": [
    "score = 1.0 - roc_auc_score(Y_test, y_pred)\n",
    "\n",
    "\n",
    "\n",
    "display(score)\n",
    "\n",
    "\n",
    "f_score=f1_score(Y_test,y_pred.round())\n",
    "\n",
    "display(f_score)\n",
    "\n",
    "\n",
    "\n",
    "\n",
    "\n",
    "prfs=precision_recall_fscore_support(Y_test,y_pred.round())\n",
    "\n",
    "\n",
    "display(prfs)\n",
    "\n",
    "\n",
    "\n",
    "\n",
    "f_score_micro=f1_score(Y_test,y_pred.round(),average='micro')\n",
    "f_score_macro=f1_score(Y_test,y_pred.round(),average='macro')\n",
    "\n",
    "display(f_score_micro)\n",
    "display(f_score_macro)\n",
    "\n",
    "\n",
    "\n",
    "\n",
    "cf=confusion_matrix(Y_test,y_pred.round())\n",
    "\n",
    "display(cf)\n",
    "\n",
    "\n",
    "\n",
    "\n",
    "print(\"AUC : \"+str(1.0 - score)+\",  Score/Loss : \"+str(score)+\", F1_Score_average: \"+str(f_score)+\", Precision, Recall, F1_score, Support: \"+str(prfs))\n",
    "print(\"F1_score_micro: \"+str(f_score_micro))\n",
    "print(\"F1_score_macro: \"+str(f_score_macro))\n",
    "print(\"Confusion Matrix\")\n",
    "print(cf)\n",
    "print(\"END\\n\\n\")\n",
    "\n"
   ]
  },
  {
   "cell_type": "code",
   "execution_count": null,
   "metadata": {},
   "outputs": [],
   "source": [
    "\n",
    "fpr = dict()\n",
    "tpr = dict()\n",
    "roc_auc = dict()\n",
    "fpr[1], tpr[1], _ = roc_curve(Y_test[:, 0], y_pred[:, 0])\n",
    "roc_auc[1] = auc(fpr[1], tpr[1])\n",
    "\n",
    "\n",
    "# In[272]:\n",
    "\n",
    "\n",
    "display(roc_auc)\n",
    "\n",
    "\n",
    "# In[275]:\n",
    "\n",
    "\n",
    "plt.figure()\n",
    "lw = 2\n",
    "plt.plot(fpr[1], tpr[1], color='darkorange',\n",
    "         lw=lw, label='ROC curve (area = %0.2f)' % roc_auc[1])\n",
    "plt.plot([0, 1], [0, 1], color='navy', lw=lw, linestyle='--')\n",
    "plt.xlim([0.0, 1.0])\n",
    "plt.ylim([0.0, 1.05])\n",
    "plt.xlabel('False Positive Rate')\n",
    "plt.ylabel('True Positive Rate')\n",
    "plt.title('Receiver operating characteristic')\n",
    "plt.legend(loc=\"lower right\")\n",
    "plt.show()"
   ]
  },
  {
   "cell_type": "code",
   "execution_count": null,
   "metadata": {},
   "outputs": [],
   "source": [
    "def sigmoid(x):\n",
    "    return 1/(1+np.exp(-x))"
   ]
  },
  {
   "cell_type": "code",
   "execution_count": null,
   "metadata": {},
   "outputs": [],
   "source": [
    "ans = []\n",
    "cnt = 0\n",
    "anss = []\n",
    "class LSTM(object):\n",
    "    def __init__(self):\n",
    "        # define lower bound of benchmark function\n",
    "        self.Lower = -10\n",
    "        # define upper bound of benchmark function\n",
    "        self.Upper = 10\n",
    "\n",
    "    # function which returns evaluate function\n",
    "    def function(self):\n",
    "        def evalute(D,sol):\n",
    "            global cnt\n",
    "            cnt = cnt +1\n",
    "            print(cnt,end=\" \")\n",
    "            from keras.models import Sequential\n",
    "            from keras.layers import Dense\n",
    "            from keras.layers import LSTM\n",
    "            from keras.layers import Dropout,Bidirectional\n",
    "            from keras.layers import Reshape,MaxPooling1D,Conv1D\n",
    "            sol = np.array(sol)\n",
    "            sol = sigmoid(sol)\n",
    "            #display(sol)\n",
    "            op = sol>=0.6\n",
    "            X_tr = X_train[:,:,op]\n",
    "            X_te = X_test[:,:,op]\n",
    "            model = Sequential()\n",
    "            model.add(LSTM(100, input_shape=(X_tr.shape[1],X_tr.shape[2]),return_sequences=True))\n",
    "            model.add(LSTM(100))\n",
    "            model.add(RepeatVector(X_train.shape[1]))\n",
    "            model.add(LSTM(100))\n",
    "            model.add(Dropout(0.2))\n",
    "            #model.add(BatchNormalization(axis=1, momentum=0.99, epsilon=0.001, center=True, scale=True, beta_initializer='zeros', gamma_initializer='ones', moving_mean_initializer='zeros', moving_variance_initializer='ones', beta_regularizer=None, gamma_regularizer=None, beta_constraint=None, gamma_constraint=None))\n",
    "            model.add(Dense(100,activation='tanh'))\n",
    "            model.add(Dense(25,activation='tanh'))\n",
    "            #model.add(Dense(20,activation='tanh'))\n",
    "            model.add(Dense(10,activation='tanh'))\n",
    "            model.add(Dense(1, activation='sigmoid'))\n",
    "            model.compile(loss='binary_crossentropy', optimizer='adam', metrics=['accuracy'])\n",
    "            model.fit(X_tr, Y_train, validation_data=(X_te, Y_test), epochs=10,batch_size=500,verbose=0)\n",
    "            scores = model.evaluate(X_te, Y_test, verbose=0)\n",
    "            anss.append((scores[1],model,op))\n",
    "            k = -1*scores[1]\n",
    "            return k\n",
    "        return evalute"
   ]
  },
  {
   "cell_type": "code",
   "execution_count": null,
   "metadata": {},
   "outputs": [],
   "source": [
    "from NiaPy.algorithms.basic import DifferentialEvolution\n",
    "for i in range(10):\n",
    "    algorithm = DifferentialEvolution(D=37, NP=60, nFES=10, benchmark=LSTM(),F=0.5,CR=0.3)\n",
    "    best = algorithm.run()\n",
    "    print(-1*best[1])\n",
    "    ans.append(best)"
   ]
  },
  {
   "cell_type": "code",
   "execution_count": null,
   "metadata": {},
   "outputs": [],
   "source": [
    "ans"
   ]
  },
  {
   "cell_type": "code",
   "execution_count": null,
   "metadata": {},
   "outputs": [],
   "source": [
    "anss"
   ]
  },
  {
   "cell_type": "code",
   "execution_count": null,
   "metadata": {},
   "outputs": [],
   "source": [
    "k = max(anss)\n",
    "k"
   ]
  },
  {
   "cell_type": "code",
   "execution_count": null,
   "metadata": {},
   "outputs": [],
   "source": [
    "X_teee = X_test[:,:,og]\n",
    "X_teee.shape"
   ]
  },
  {
   "cell_type": "code",
   "execution_count": null,
   "metadata": {},
   "outputs": [],
   "source": [
    "s = model.evaluate(X_teee,Y_test)\n",
    "s"
   ]
  },
  {
   "cell_type": "code",
   "execution_count": null,
   "metadata": {},
   "outputs": [],
   "source": [
    "y_pred = model.predict(X_teee)\n",
    "y_pred"
   ]
  },
  {
   "cell_type": "code",
   "execution_count": null,
   "metadata": {},
   "outputs": [],
   "source": [
    "from sklearn.metrics import mean_squared_error\n",
    "from hyperopt import fmin, tpe, hp, STATUS_OK, Trials\n",
    "from sklearn.ensemble import ExtraTreesClassifier\n",
    "from sklearn.model_selection import StratifiedKFold\n",
    "import pandas as pd;\n",
    "import numpy as np;\n",
    "from sklearn import model_selection\n",
    "from sklearn.metrics import roc_auc_score, f1_score,precision_recall_fscore_support\n",
    "from sklearn.metrics import confusion_matrix\n",
    "import numpy as np\n",
    "import matplotlib.pyplot as plt\n",
    "from itertools import cycle\n",
    "\n",
    "from sklearn import svm, datasets\n",
    "from sklearn.metrics import roc_curve, auc\n",
    "from sklearn.model_selection import train_test_split\n",
    "from sklearn.preprocessing import label_binarize\n",
    "from sklearn.multiclass import OneVsRestClassifier\n",
    "from scipy import interp"
   ]
  },
  {
   "cell_type": "code",
   "execution_count": null,
   "metadata": {},
   "outputs": [],
   "source": [
    "score = 1.0 - roc_auc_score(Y_test, y_pred)\n",
    "\n",
    "\n",
    "\n",
    "display(score)\n",
    "\n",
    "\n",
    "f_score=f1_score(Y_test,y_pred.round())\n",
    "\n",
    "display(f_score)\n",
    "\n",
    "\n",
    "\n",
    "\n",
    "\n",
    "prfs=precision_recall_fscore_support(Y_test,y_pred.round())\n",
    "\n",
    "\n",
    "display(prfs)\n",
    "\n",
    "\n",
    "\n",
    "\n",
    "f_score_micro=f1_score(Y_test,y_pred.round(),average='micro')\n",
    "f_score_macro=f1_score(Y_test,y_pred.round(),average='macro')\n",
    "\n",
    "display(f_score_micro)\n",
    "display(f_score_macro)\n",
    "\n",
    "\n",
    "\n",
    "\n",
    "cf=confusion_matrix(Y_test,y_pred.round())\n",
    "\n",
    "display(cf)\n",
    "\n",
    "\n",
    "\n",
    "\n",
    "print(\"AUC : \"+str(1.0 - score)+\",  Score/Loss : \"+str(score)+\", F1_Score_average: \"+str(f_score)+\", Precision, Recall, F1_score, Support: \"+str(prfs))\n",
    "print(\"F1_score_micro: \"+str(f_score_micro))\n",
    "print(\"F1_score_macro: \"+str(f_score_macro))\n",
    "print(\"Confusion Matrix\")\n",
    "print(cf)\n",
    "print(\"END\\n\\n\")\n",
    "\n"
   ]
  },
  {
   "cell_type": "code",
   "execution_count": null,
   "metadata": {},
   "outputs": [],
   "source": [
    "\n",
    "\n",
    "\n",
    "# In[271]:\n",
    "\n",
    "\n",
    "fpr = dict()\n",
    "tpr = dict()\n",
    "roc_auc = dict()\n",
    "fpr[1], tpr[1], _ = roc_curve(Y_test[:, 0], y_pred[:, 0])\n",
    "roc_auc[1] = auc(fpr[1], tpr[1])\n",
    "\n",
    "\n",
    "# In[272]:\n",
    "\n",
    "\n",
    "display(roc_auc)\n",
    "\n",
    "\n",
    "# In[275]:\n",
    "\n",
    "\n",
    "plt.figure()\n",
    "lw = 2\n",
    "plt.plot(fpr[1], tpr[1], color='darkorange',\n",
    "         lw=lw, label='ROC curve (area = %0.2f)' % roc_auc[1])\n",
    "plt.plot([0, 1], [0, 1], color='navy', lw=lw, linestyle='--')\n",
    "plt.xlim([0.0, 1.0])\n",
    "plt.ylim([0.0, 1.05])\n",
    "plt.xlabel('False Positive Rate')\n",
    "plt.ylabel('True Positive Rate')\n",
    "plt.title('Receiver operating characteristic example')\n",
    "plt.legend(loc=\"lower right\")\n",
    "plt.show()"
   ]
  }
 ],
 "metadata": {
  "kernelspec": {
   "display_name": "Python 3",
   "language": "python",
   "name": "python3"
  },
  "language_info": {
   "codemirror_mode": {
    "name": "ipython",
    "version": 2
   },
   "file_extension": ".py",
   "mimetype": "text/x-python",
   "name": "python",
   "nbconvert_exporter": "python",
   "pygments_lexer": "ipython2",
   "version": "2.7.15rc1"
  },
  "widgets": {
   "state": {},
   "version": "1.1.2"
  }
 },
 "nbformat": 4,
 "nbformat_minor": 2
}
