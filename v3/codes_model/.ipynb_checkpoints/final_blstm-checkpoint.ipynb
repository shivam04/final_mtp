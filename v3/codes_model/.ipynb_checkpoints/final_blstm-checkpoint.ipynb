{
 "cells": [
  {
   "cell_type": "code",
   "execution_count": 18,
   "metadata": {},
   "outputs": [
    {
     "name": "stdout",
     "output_type": "stream",
     "text": [
      "yes\n",
      "here\n"
     ]
    }
   ],
   "source": [
    "import pickle\n",
    "with open('finalset/datasets_16times.pickle', 'rb') as handle:\n",
    "    [X_train,  Y_train,X_test,Y_test] = pickle.load(handle)\n",
    "    print(\"yes\")\n",
    "print(\"here\")"
   ]
  },
  {
   "cell_type": "code",
   "execution_count": 19,
   "metadata": {},
   "outputs": [],
   "source": [
    "from keras.models import Sequential\n",
    "from keras.layers import Dense\n",
    "from keras.layers import LSTM,Add\n",
    "from keras.layers import Dropout,Bidirectional,BatchNormalization,Conv2D"
   ]
  },
  {
   "cell_type": "code",
   "execution_count": 20,
   "metadata": {},
   "outputs": [],
   "source": [
    "import numpy as np\n",
    "import matplotlib.pyplot as plt\n",
    "from itertools import cycle\n",
    "\n",
    "from sklearn import svm, datasets\n",
    "from sklearn.metrics import roc_curve, auc\n",
    "from sklearn.model_selection import train_test_split\n",
    "from sklearn.preprocessing import label_binarize\n",
    "from sklearn.multiclass import OneVsRestClassifier\n",
    "from scipy import interp\n",
    "from sklearn.metrics import mean_squared_error\n",
    "from hyperopt import fmin, tpe, hp, STATUS_OK, Trials\n",
    "from sklearn.ensemble import ExtraTreesClassifier\n",
    "from sklearn.model_selection import StratifiedKFold\n",
    "import pandas as pd;\n",
    "import numpy as np;\n",
    "from sklearn import model_selection\n",
    "from sklearn.metrics import roc_auc_score, f1_score,precision_recall_fscore_support\n",
    "from sklearn.metrics import confusion_matrix"
   ]
  },
  {
   "cell_type": "code",
   "execution_count": 27,
   "metadata": {},
   "outputs": [
    {
     "name": "stdout",
     "output_type": "stream",
     "text": [
      "_________________________________________________________________\n",
      "Layer (type)                 Output Shape              Param #   \n",
      "=================================================================\n",
      "lstm_5 (LSTM)                (None, 98, 100)           52400     \n",
      "_________________________________________________________________\n",
      "lstm_6 (LSTM)                (None, 98, 75)            52800     \n",
      "_________________________________________________________________\n",
      "bidirectional_2 (Bidirection (None, 50)                20200     \n",
      "_________________________________________________________________\n",
      "dropout_3 (Dropout)          (None, 50)                0         \n",
      "_________________________________________________________________\n",
      "dense_9 (Dense)              (None, 100)               5100      \n",
      "_________________________________________________________________\n",
      "dense_10 (Dense)             (None, 25)                2525      \n",
      "_________________________________________________________________\n",
      "dense_11 (Dense)             (None, 10)                260       \n",
      "_________________________________________________________________\n",
      "dense_12 (Dense)             (None, 1)                 11        \n",
      "=================================================================\n",
      "Total params: 133,296\n",
      "Trainable params: 133,296\n",
      "Non-trainable params: 0\n",
      "_________________________________________________________________\n",
      "None\n",
      "Train on 95000 samples, validate on 10392 samples\n",
      "Epoch 1/30\n",
      "95000/95000 [==============================] - 102s 1ms/step - loss: 0.2279 - acc: 0.6367 - val_loss: 0.2261 - val_acc: 0.6393\n",
      "Epoch 2/30\n",
      "95000/95000 [==============================] - 100s 1ms/step - loss: 0.2245 - acc: 0.6433 - val_loss: 0.2268 - val_acc: 0.6371\n",
      "Epoch 3/30\n",
      "95000/95000 [==============================] - 97s 1ms/step - loss: 0.2231 - acc: 0.6462 - val_loss: 0.2242 - val_acc: 0.6440\n",
      "Epoch 4/30\n",
      "95000/95000 [==============================] - 99s 1ms/step - loss: 0.2212 - acc: 0.6507 - val_loss: 0.2209 - val_acc: 0.6499\n",
      "Epoch 5/30\n",
      "95000/95000 [==============================] - 100s 1ms/step - loss: 0.2209 - acc: 0.6509 - val_loss: 0.2229 - val_acc: 0.6439\n",
      "Epoch 6/30\n",
      "95000/95000 [==============================] - 100s 1ms/step - loss: 0.2194 - acc: 0.6552 - val_loss: 0.2216 - val_acc: 0.6461\n",
      "Epoch 7/30\n",
      "95000/95000 [==============================] - 100s 1ms/step - loss: 0.2171 - acc: 0.6589 - val_loss: 0.2192 - val_acc: 0.6552\n",
      "Epoch 8/30\n",
      "95000/95000 [==============================] - 99s 1ms/step - loss: 0.2158 - acc: 0.6626 - val_loss: 0.2177 - val_acc: 0.6524\n",
      "Epoch 9/30\n",
      "95000/95000 [==============================] - 99s 1ms/step - loss: 0.2139 - acc: 0.6648 - val_loss: 0.2140 - val_acc: 0.6646\n",
      "Epoch 10/30\n",
      "95000/95000 [==============================] - 99s 1ms/step - loss: 0.2091 - acc: 0.6760 - val_loss: 0.2098 - val_acc: 0.6685\n",
      "Epoch 11/30\n",
      "95000/95000 [==============================] - 99s 1ms/step - loss: 0.2084 - acc: 0.6768 - val_loss: 0.2079 - val_acc: 0.6720\n",
      "Epoch 12/30\n",
      "95000/95000 [==============================] - 99s 1ms/step - loss: 0.2037 - acc: 0.6859 - val_loss: 0.2057 - val_acc: 0.6800\n",
      "Epoch 13/30\n",
      "95000/95000 [==============================] - 99s 1ms/step - loss: 0.1983 - acc: 0.6950 - val_loss: 0.1988 - val_acc: 0.6913\n",
      "Epoch 14/30\n",
      "95000/95000 [==============================] - 99s 1ms/step - loss: 0.1949 - acc: 0.7014 - val_loss: 0.1978 - val_acc: 0.6939\n",
      "Epoch 15/30\n",
      "95000/95000 [==============================] - 99s 1ms/step - loss: 0.1878 - acc: 0.7142 - val_loss: 0.1955 - val_acc: 0.6997\n",
      "Epoch 16/30\n",
      "95000/95000 [==============================] - 100s 1ms/step - loss: 0.1841 - acc: 0.7207 - val_loss: 0.1793 - val_acc: 0.7285\n",
      "Epoch 17/30\n",
      "95000/95000 [==============================] - 99s 1ms/step - loss: 0.1758 - acc: 0.7356 - val_loss: 0.1823 - val_acc: 0.7184\n",
      "Epoch 18/30\n",
      "95000/95000 [==============================] - 100s 1ms/step - loss: 0.1759 - acc: 0.7351 - val_loss: 0.1753 - val_acc: 0.7335\n",
      "Epoch 19/30\n",
      "95000/95000 [==============================] - 99s 1ms/step - loss: 0.1642 - acc: 0.7537 - val_loss: 0.1612 - val_acc: 0.7566\n",
      "Epoch 20/30\n",
      "95000/95000 [==============================] - 100s 1ms/step - loss: 0.1589 - acc: 0.7623 - val_loss: 0.1619 - val_acc: 0.7544\n",
      "Epoch 21/30\n",
      "95000/95000 [==============================] - 99s 1ms/step - loss: 0.1552 - acc: 0.7682 - val_loss: 0.1602 - val_acc: 0.7598\n",
      "Epoch 22/30\n",
      "95000/95000 [==============================] - 100s 1ms/step - loss: 0.1491 - acc: 0.7775 - val_loss: 0.1599 - val_acc: 0.7574\n",
      "Epoch 23/30\n",
      "95000/95000 [==============================] - 100s 1ms/step - loss: 0.1486 - acc: 0.7789 - val_loss: 0.1468 - val_acc: 0.7770\n",
      "Epoch 24/30\n",
      "95000/95000 [==============================] - 100s 1ms/step - loss: 0.1440 - acc: 0.7882 - val_loss: 0.1528 - val_acc: 0.7720\n",
      "Epoch 25/30\n",
      "95000/95000 [==============================] - 99s 1ms/step - loss: 0.1387 - acc: 0.7950 - val_loss: 0.1393 - val_acc: 0.7913\n",
      "Epoch 26/30\n",
      "95000/95000 [==============================] - 100s 1ms/step - loss: 0.1357 - acc: 0.8003 - val_loss: 0.1596 - val_acc: 0.7635\n",
      "Epoch 27/30\n",
      "95000/95000 [==============================] - 100s 1ms/step - loss: 0.1359 - acc: 0.8013 - val_loss: 0.1328 - val_acc: 0.8037\n",
      "Epoch 28/30\n",
      "95000/95000 [==============================] - 100s 1ms/step - loss: 0.1226 - acc: 0.8206 - val_loss: 0.1320 - val_acc: 0.8053\n",
      "Epoch 29/30\n",
      "95000/95000 [==============================] - 99s 1ms/step - loss: 0.1264 - acc: 0.8162 - val_loss: 0.1259 - val_acc: 0.8176\n",
      "Epoch 30/30\n",
      "95000/95000 [==============================] - 100s 1ms/step - loss: 0.1201 - acc: 0.8252 - val_loss: 0.1268 - val_acc: 0.8135\n"
     ]
    },
    {
     "data": {
      "text/plain": [
       "<keras.callbacks.History at 0x7fa650bce160>"
      ]
     },
     "execution_count": 27,
     "metadata": {},
     "output_type": "execute_result"
    }
   ],
   "source": [
    "modelw = Sequential()\n",
    "modelw.add(LSTM(100, input_shape=(X_train.shape[1],X_train.shape[2]),return_sequences=True))\n",
    "modelw.add(LSTM(75, input_shape=(X_train.shape[1],X_train.shape[2]),return_sequences=True))\n",
    "modelw.add(Bidirectional(LSTM(25)))\n",
    "modelw.add(Dropout(0.2))\n",
    "#modelw.add(BatchNormalization(axis=1, momentum=0.99, epsilon=0.001, center=True, scale=True, beta_initializer='zeros', gamma_initializer='ones', moving_mean_initializer='zeros', moving_variance_initializer='ones', beta_regularizer=None, gamma_regularizer=None, beta_constraint=None, gamma_constraint=None))\n",
    "modelw.add(Dense(100,activation='tanh'))\n",
    "modelw.add(Dense(25,activation='tanh'))\n",
    "modelw.add(Dense(10,activation='tanh'))\n",
    "modelw.add(Dense(1, activation='sigmoid'))\n",
    "modelw.compile(loss='mean_squared_error', optimizer='adam', metrics=['accuracy'])\n",
    "print(modelw.summary())\n",
    "modelw.fit(X_train, Y_train, validation_data=(X_test, Y_test), epochs=30,batch_size=1000,verbose=1)"
   ]
  },
  {
   "cell_type": "code",
   "execution_count": 28,
   "metadata": {},
   "outputs": [
    {
     "name": "stdout",
     "output_type": "stream",
     "text": [
      "10392/10392 [==============================] - 11s 1ms/step\n"
     ]
    },
    {
     "data": {
      "text/plain": [
       "81.35103925638147"
      ]
     },
     "execution_count": 28,
     "metadata": {},
     "output_type": "execute_result"
    }
   ],
   "source": [
    "scores = modelw.evaluate(X_test, Y_test)\n",
    "scores[1]*100"
   ]
  },
  {
   "cell_type": "code",
   "execution_count": 29,
   "metadata": {},
   "outputs": [],
   "source": [
    "y_pred = modelw.predict(X_test)"
   ]
  },
  {
   "cell_type": "code",
   "execution_count": 30,
   "metadata": {},
   "outputs": [
    {
     "data": {
      "text/plain": [
       "0.11501544614788839"
      ]
     },
     "metadata": {},
     "output_type": "display_data"
    },
    {
     "data": {
      "text/plain": [
       "0.6931602279924002"
      ]
     },
     "metadata": {},
     "output_type": "display_data"
    },
    {
     "data": {
      "text/plain": [
       "(array([0.78400701, 0.91170346]),\n",
       " array([0.9672688 , 0.55913155]),\n",
       " array([0.86604921, 0.69316023]),\n",
       " array([6477, 3915]))"
      ]
     },
     "metadata": {},
     "output_type": "display_data"
    },
    {
     "data": {
      "text/plain": [
       "0.8135103926096999"
      ]
     },
     "metadata": {},
     "output_type": "display_data"
    },
    {
     "data": {
      "text/plain": [
       "0.7796047200232943"
      ]
     },
     "metadata": {},
     "output_type": "display_data"
    },
    {
     "data": {
      "text/plain": [
       "array([[6265,  212],\n",
       "       [1726, 2189]])"
      ]
     },
     "metadata": {},
     "output_type": "display_data"
    },
    {
     "name": "stdout",
     "output_type": "stream",
     "text": [
      "AUC : 0.8849845538521116,  Score/Loss : 0.11501544614788839, F1_Score_average: 0.6931602279924002, Precision, Recall, F1_score, Support: (array([0.78400701, 0.91170346]), array([0.9672688 , 0.55913155]), array([0.86604921, 0.69316023]), array([6477, 3915]))\n",
      "F1_score_micro: 0.8135103926096999\n",
      "F1_score_macro: 0.7796047200232943\n",
      "Confusion Matrix\n",
      "[[6265  212]\n",
      " [1726 2189]]\n",
      "END\n",
      "\n",
      "\n"
     ]
    }
   ],
   "source": [
    "score = 1.0 - roc_auc_score(Y_test, y_pred)\n",
    "\n",
    "\n",
    "\n",
    "display(score)\n",
    "\n",
    "\n",
    "f_score=f1_score(Y_test,y_pred.round())\n",
    "\n",
    "display(f_score)\n",
    "\n",
    "\n",
    "\n",
    "\n",
    "\n",
    "prfs=precision_recall_fscore_support(Y_test,y_pred.round())\n",
    "\n",
    "\n",
    "display(prfs)\n",
    "\n",
    "\n",
    "\n",
    "\n",
    "f_score_micro=f1_score(Y_test,y_pred.round(),average='micro')\n",
    "f_score_macro=f1_score(Y_test,y_pred.round(),average='macro')\n",
    "\n",
    "display(f_score_micro)\n",
    "display(f_score_macro)\n",
    "\n",
    "\n",
    "\n",
    "\n",
    "cf=confusion_matrix(Y_test,y_pred.round())\n",
    "\n",
    "display(cf)\n",
    "\n",
    "\n",
    "\n",
    "\n",
    "print(\"AUC : \"+str(1.0 - score)+\",  Score/Loss : \"+str(score)+\", F1_Score_average: \"+str(f_score)+\", Precision, Recall, F1_score, Support: \"+str(prfs))\n",
    "print(\"F1_score_micro: \"+str(f_score_micro))\n",
    "print(\"F1_score_macro: \"+str(f_score_macro))\n",
    "print(\"Confusion Matrix\")\n",
    "print(cf)\n",
    "print(\"END\\n\\n\")\n",
    "\n"
   ]
  },
  {
   "cell_type": "code",
   "execution_count": 31,
   "metadata": {},
   "outputs": [
    {
     "data": {
      "text/plain": [
       "{1: 0.8849845538521116}"
      ]
     },
     "metadata": {},
     "output_type": "display_data"
    },
    {
     "data": {
      "image/png": "[encoded data removed]",
      "text/plain": [
       "<Figure size 432x288 with 1 Axes>"
      ]
     },
     "metadata": {
      "needs_background": "light"
     },
     "output_type": "display_data"
    }
   ],
   "source": [
    "\n",
    "\n",
    "\n",
    "# In[271]:\n",
    "\n",
    "\n",
    "fpr = dict()\n",
    "tpr = dict()\n",
    "roc_auc = dict()\n",
    "fpr[1], tpr[1], _ = roc_curve(Y_test[:, 0], y_pred[:, 0])\n",
    "roc_auc[1] = auc(fpr[1], tpr[1])\n",
    "\n",
    "\n",
    "# In[272]:\n",
    "\n",
    "\n",
    "display(roc_auc)\n",
    "\n",
    "\n",
    "# In[275]:\n",
    "\n",
    "\n",
    "plt.figure()\n",
    "lw = 2\n",
    "plt.plot(fpr[1], tpr[1], color='darkorange',\n",
    "         lw=lw, label='ROC curve (area = %0.2f)' % roc_auc[1])\n",
    "plt.plot([0, 1], [0, 1], color='navy', lw=lw, linestyle='--')\n",
    "plt.xlim([0.0, 1.0])\n",
    "plt.ylim([0.0, 1.05])\n",
    "plt.xlabel('False Positive Rate')\n",
    "plt.ylabel('True Positive Rate')\n",
    "plt.title('Receiver operating characteristic')\n",
    "plt.legend(loc=\"lower right\")\n",
    "plt.show()"
   ]
  }
 ],
 "metadata": {
  "kernelspec": {
   "display_name": "Python 3",
   "language": "python",
   "name": "python3"
  },
  "language_info": {
   "codemirror_mode": {
    "name": "ipython",
    "version": 2
   },
   "file_extension": ".py",
   "mimetype": "text/x-python",
   "name": "python",
   "nbconvert_exporter": "python",
   "pygments_lexer": "ipython2",
   "version": "2.7.15rc1"
  }
 },
 "nbformat": 4,
 "nbformat_minor": 2
}
