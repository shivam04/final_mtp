{
 "cells": [
  {
   "cell_type": "code",
   "execution_count": 6,
   "metadata": {},
   "outputs": [
    {
     "name": "stdout",
     "output_type": "stream",
     "text": [
      "yes\n",
      "here\n"
     ]
    }
   ],
   "source": [
    "import pickle\n",
    "with open('finalset/datasets_16times.pickle', 'rb') as handle:\n",
    "    [X_train,  Y_train,X_test,Y_test] = pickle.load(handle)\n",
    "    print(\"yes\")\n",
    "print(\"here\")"
   ]
  },
  {
   "cell_type": "code",
   "execution_count": 7,
   "metadata": {},
   "outputs": [],
   "source": [
    "from keras.models import Sequential\n",
    "from keras.layers import Dense\n",
    "from keras.layers import LSTM,Add\n",
    "from keras.layers import Dropout,Bidirectional,BatchNormalization,Conv2D,Conv1D"
   ]
  },
  {
   "cell_type": "code",
   "execution_count": 8,
   "metadata": {},
   "outputs": [],
   "source": [
    "import numpy as np\n",
    "import matplotlib.pyplot as plt\n",
    "from itertools import cycle\n",
    "\n",
    "from sklearn import svm, datasets\n",
    "from sklearn.metrics import roc_curve, auc\n",
    "from sklearn.model_selection import train_test_split\n",
    "from sklearn.preprocessing import label_binarize\n",
    "from sklearn.multiclass import OneVsRestClassifier\n",
    "from scipy import interp\n",
    "from sklearn.metrics import mean_squared_error\n",
    "from hyperopt import fmin, tpe, hp, STATUS_OK, Trials\n",
    "from sklearn.ensemble import ExtraTreesClassifier\n",
    "from sklearn.model_selection import StratifiedKFold\n",
    "import pandas as pd;\n",
    "import numpy as np;\n",
    "from sklearn import model_selection\n",
    "from sklearn.metrics import roc_auc_score, f1_score,precision_recall_fscore_support\n",
    "from sklearn.metrics import confusion_matrix"
   ]
  },
  {
   "cell_type": "code",
   "execution_count": 9,
   "metadata": {},
   "outputs": [
    {
     "data": {
      "text/plain": [
       "(95000, 1, 98, 30)"
      ]
     },
     "metadata": {},
     "output_type": "display_data"
    },
    {
     "data": {
      "text/plain": [
       "(10392, 1, 98, 30)"
      ]
     },
     "execution_count": 9,
     "metadata": {},
     "output_type": "execute_result"
    }
   ],
   "source": [
    "X_tr = X_train.reshape((X_train.shape[0],1,X_train.shape[1],X_train.shape[2]))\n",
    "X_te = X_test.reshape((X_test.shape[0],1,X_test.shape[1],X_test.shape[2]))\n",
    "display(X_tr.shape)\n",
    "X_te.shape"
   ]
  },
  {
   "cell_type": "code",
   "execution_count": null,
   "metadata": {},
   "outputs": [
    {
     "name": "stdout",
     "output_type": "stream",
     "text": [
      "_________________________________________________________________\n",
      "Layer (type)                 Output Shape              Param #   \n",
      "=================================================================\n",
      "conv1d_4 (Conv1D)            (None, 98, 32)            4832      \n",
      "_________________________________________________________________\n",
      "conv1d_5 (Conv1D)            (None, 98, 32)            5152      \n",
      "_________________________________________________________________\n",
      "conv1d_6 (Conv1D)            (None, 98, 64)            10304     \n",
      "_________________________________________________________________\n",
      "max_pooling1d_2 (MaxPooling1 (None, 98, 32)            0         \n",
      "_________________________________________________________________\n",
      "lstm_4 (LSTM)                (None, 98, 128)           82432     \n",
      "_________________________________________________________________\n",
      "bidirectional_3 (Bidirection (None, 98, 128)           98816     \n",
      "_________________________________________________________________\n",
      "dropout_5 (Dropout)          (None, 98, 128)           0         \n",
      "_________________________________________________________________\n",
      "bidirectional_4 (Bidirection (None, 64)                41216     \n",
      "_________________________________________________________________\n",
      "dropout_6 (Dropout)          (None, 64)                0         \n",
      "_________________________________________________________________\n",
      "dense_5 (Dense)              (None, 1024)              66560     \n",
      "_________________________________________________________________\n",
      "dropout_7 (Dropout)          (None, 1024)              0         \n",
      "_________________________________________________________________\n",
      "dense_6 (Dense)              (None, 256)               262400    \n",
      "_________________________________________________________________\n",
      "dropout_8 (Dropout)          (None, 256)               0         \n",
      "_________________________________________________________________\n",
      "dense_7 (Dense)              (None, 32)                8224      \n",
      "_________________________________________________________________\n",
      "dense_8 (Dense)              (None, 1)                 33        \n",
      "=================================================================\n",
      "Total params: 579,969\n",
      "Trainable params: 579,969\n",
      "Non-trainable params: 0\n",
      "_________________________________________________________________\n"
     ]
    },
    {
     "data": {
      "text/plain": [
       "None"
      ]
     },
     "metadata": {},
     "output_type": "display_data"
    },
    {
     "name": "stdout",
     "output_type": "stream",
     "text": [
      "Train on 95000 samples, validate on 10392 samples\n",
      "Epoch 1/30\n",
      "95000/95000 [==============================] - 194s 2ms/step - loss: 0.6486 - acc: 0.6334 - val_loss: 0.6404 - val_acc: 0.6406\n",
      "Epoch 2/30\n",
      "95000/95000 [==============================] - 191s 2ms/step - loss: 0.6390 - acc: 0.6466 - val_loss: 0.6381 - val_acc: 0.6432\n",
      "Epoch 3/30\n",
      "95000/95000 [==============================] - 191s 2ms/step - loss: 0.6325 - acc: 0.6527 - val_loss: 0.6317 - val_acc: 0.6515\n",
      "Epoch 4/30\n",
      "95000/95000 [==============================] - 192s 2ms/step - loss: 0.6304 - acc: 0.6537 - val_loss: 0.6330 - val_acc: 0.6487\n",
      "Epoch 5/30\n",
      "95000/95000 [==============================] - 191s 2ms/step - loss: 0.6532 - acc: 0.6369 - val_loss: 0.6540 - val_acc: 0.6244\n",
      "Epoch 6/30\n",
      "95000/95000 [==============================] - 192s 2ms/step - loss: 0.6654 - acc: 0.6229 - val_loss: 0.6629 - val_acc: 0.6233\n",
      "Epoch 7/30\n",
      "95000/95000 [==============================] - 191s 2ms/step - loss: 0.6625 - acc: 0.6259 - val_loss: 0.6625 - val_acc: 0.6233\n",
      "Epoch 8/30\n",
      "95000/95000 [==============================] - 192s 2ms/step - loss: 0.6609 - acc: 0.6267 - val_loss: 0.6625 - val_acc: 0.6233\n",
      "Epoch 9/30\n",
      "95000/95000 [==============================] - 191s 2ms/step - loss: 0.6608 - acc: 0.6267 - val_loss: 0.6626 - val_acc: 0.6233\n",
      "Epoch 10/30\n",
      "95000/95000 [==============================] - 192s 2ms/step - loss: 0.6608 - acc: 0.6267 - val_loss: 0.6625 - val_acc: 0.6233\n",
      "Epoch 11/30\n",
      "95000/95000 [==============================] - 191s 2ms/step - loss: 0.6608 - acc: 0.6267 - val_loss: 0.6625 - val_acc: 0.6233\n",
      "Epoch 12/30\n",
      "95000/95000 [==============================] - 191s 2ms/step - loss: 0.6608 - acc: 0.6267 - val_loss: 0.6625 - val_acc: 0.6233\n",
      "Epoch 13/30\n",
      "95000/95000 [==============================] - 191s 2ms/step - loss: 0.6610 - acc: 0.6267 - val_loss: 0.6630 - val_acc: 0.6233\n",
      "Epoch 14/30\n",
      "95000/95000 [==============================] - 191s 2ms/step - loss: 0.6608 - acc: 0.6267 - val_loss: 0.6625 - val_acc: 0.6233\n",
      "Epoch 15/30\n",
      "95000/95000 [==============================] - 190s 2ms/step - loss: 0.6607 - acc: 0.6267 - val_loss: 0.6624 - val_acc: 0.6233\n",
      "Epoch 16/30\n",
      "95000/95000 [==============================] - 191s 2ms/step - loss: 0.6607 - acc: 0.6267 - val_loss: 0.6625 - val_acc: 0.6233\n",
      "Epoch 17/30\n",
      "95000/95000 [==============================] - 191s 2ms/step - loss: 0.6608 - acc: 0.6267 - val_loss: 0.6626 - val_acc: 0.6233\n",
      "Epoch 18/30\n",
      "64000/95000 [===================>..........] - ETA: 1:00 - loss: 0.6624 - acc: 0.6235"
     ]
    }
   ],
   "source": [
    "from keras.layers import Reshape,MaxPooling1D,Conv1D\n",
    "model8ecw = Sequential()\n",
    "model8ecw.add(Conv1D(32, kernel_size=5, input_shape=(X_train.shape[1],X_train.shape[2]), activation='relu', padding='same',data_format=\"channels_last\"))\n",
    "model8ecw.add(Conv1D(32, 5, activation='relu', padding='same'))\n",
    "model8ecw.add(Conv1D(64, 5, activation='relu', padding='same'))\n",
    "model8ecw.add(MaxPooling1D(pool_size=2,data_format=\"channels_first\"))\n",
    "\n",
    "#model8ecw.add(Reshape((98,100)))\n",
    "model8ecw.add(LSTM(128,input_shape=(98,64),activation='relu',return_sequences=True))\n",
    "model8ecw.add(Bidirectional(LSTM(64,activation='relu',return_sequences=True)))\n",
    "model8ecw.add(Dropout(0.2))\n",
    "model8ecw.add(Bidirectional(LSTM(32,activation='relu')))\n",
    "model8ecw.add(Dropout(0.2))\n",
    "#model.add(BatchNormalization(axis=1, momentum=0.99, epsilon=0.001, center=True, scale=True, beta_initializer='zeros', gamma_initializer='ones', moving_mean_initializer='zeros', moving_variance_initializer='ones', beta_regularizer=None, gamma_regularizer=None, beta_constraint=None, gamma_constraint=None))\n",
    "model8ecw.add(Dense(1024,activation='tanh'))\n",
    "model8ecw.add(Dropout(0.2))\n",
    "model8ecw.add(Dense(256,activation='tanh'))\n",
    "model8ecw.add(Dropout(0.2))\n",
    "#model.add(Dense(20,activation='tanh'))\n",
    "model8ecw.add(Dense(32,activation='tanh'))\n",
    "model8ecw.add(Dense(1, activation='sigmoid'))\n",
    "model8ecw.compile(loss='binary_crossentropy', optimizer='adam', metrics=['accuracy'])\n",
    "display(model8ecw.summary())\n",
    "model8ecw.fit(X_train, Y_train, validation_data=(X_test, Y_test), epochs=30,batch_size=1000,verbose=1)"
   ]
  },
  {
   "cell_type": "code",
   "execution_count": null,
   "metadata": {},
   "outputs": [],
   "source": [
    "scores = model8ecw.evaluate(X_te, Y_test)\n",
    "scores[1]*100"
   ]
  },
  {
   "cell_type": "code",
   "execution_count": null,
   "metadata": {},
   "outputs": [],
   "source": [
    "y_pred = model8ecw.predict(X_te)"
   ]
  },
  {
   "cell_type": "code",
   "execution_count": null,
   "metadata": {},
   "outputs": [],
   "source": [
    "score = 1.0 - roc_auc_score(Y_test, y_pred)\n",
    "\n",
    "\n",
    "\n",
    "display(score)\n",
    "\n",
    "\n",
    "f_score=f1_score(Y_test,y_pred.round())\n",
    "\n",
    "display(f_score)\n",
    "\n",
    "\n",
    "\n",
    "\n",
    "\n",
    "prfs=precision_recall_fscore_support(Y_test,y_pred.round())\n",
    "\n",
    "\n",
    "display(prfs)\n",
    "\n",
    "\n",
    "\n",
    "\n",
    "f_score_micro=f1_score(Y_test,y_pred.round(),average='micro')\n",
    "f_score_macro=f1_score(Y_test,y_pred.round(),average='macro')\n",
    "\n",
    "display(f_score_micro)\n",
    "display(f_score_macro)\n",
    "\n",
    "\n",
    "\n",
    "\n",
    "cf=confusion_matrix(Y_test,y_pred.round())\n",
    "\n",
    "display(cf)\n",
    "\n",
    "\n",
    "\n",
    "\n",
    "print(\"AUC : \"+str(1.0 - score)+\",  Score/Loss : \"+str(score)+\", F1_Score_average: \"+str(f_score)+\", Precision, Recall, F1_score, Support: \"+str(prfs))\n",
    "print(\"F1_score_micro: \"+str(f_score_micro))\n",
    "print(\"F1_score_macro: \"+str(f_score_macro))\n",
    "print(\"Confusion Matrix\")\n",
    "print(cf)\n",
    "print(\"END\\n\\n\")\n",
    "\n"
   ]
  },
  {
   "cell_type": "code",
   "execution_count": null,
   "metadata": {},
   "outputs": [],
   "source": [
    "\n",
    "\n",
    "\n",
    "# In[271]:\n",
    "\n",
    "\n",
    "fpr = dict()\n",
    "tpr = dict()\n",
    "roc_auc = dict()\n",
    "fpr[1], tpr[1], _ = roc_curve(Y_test[:, 0], y_pred[:, 0])\n",
    "roc_auc[1] = auc(fpr[1], tpr[1])\n",
    "\n",
    "\n",
    "# In[272]:\n",
    "\n",
    "\n",
    "display(roc_auc)\n",
    "\n",
    "\n",
    "# In[275]:\n",
    "\n",
    "\n",
    "plt.figure()\n",
    "lw = 2\n",
    "plt.plot(fpr[1], tpr[1], color='darkorange',\n",
    "         lw=lw, label='ROC curve (area = %0.2f)' % roc_auc[1])\n",
    "plt.plot([0, 1], [0, 1], color='navy', lw=lw, linestyle='--')\n",
    "plt.xlim([0.0, 1.0])\n",
    "plt.ylim([0.0, 1.05])\n",
    "plt.xlabel('False Positive Rate')\n",
    "plt.ylabel('True Positive Rate')\n",
    "plt.title('Receiver operating characteristic example')\n",
    "plt.legend(loc=\"lower right\")\n",
    "plt.show()"
   ]
  }
 ],
 "metadata": {
  "kernelspec": {
   "display_name": "Python 3",
   "language": "python",
   "name": "python3"
  },
  "language_info": {
   "codemirror_mode": {
    "name": "ipython",
    "version": 2
   },
   "file_extension": ".py",
   "mimetype": "text/x-python",
   "name": "python",
   "nbconvert_exporter": "python",
   "pygments_lexer": "ipython2",
   "version": "2.7.15rc1"
  }
 },
 "nbformat": 4,
 "nbformat_minor": 2
}
