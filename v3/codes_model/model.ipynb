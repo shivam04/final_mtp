{
 "cells": [
  {
   "cell_type": "code",
   "execution_count": 29,
   "metadata": {},
   "outputs": [
    {
     "name": "stdout",
     "output_type": "stream",
     "text": [
      "6587 6587\n",
      "(6587, 49, 37)\n",
      "(6587, 1)\n",
      "(9048, 49, 37)\n"
     ]
    },
    {
     "name": "stderr",
     "output_type": "stream",
     "text": [
      "/home/yoda/.local/lib/python3.5/site-packages/ipykernel_launcher.py:20: FutureWarning: Method .as_matrix will be removed in a future version. Use .values instead.\n"
     ]
    },
    {
     "data": {
      "text/plain": [
       "(9048, 1)"
      ]
     },
     "execution_count": 29,
     "metadata": {},
     "output_type": "execute_result"
    }
   ],
   "source": [
    "import pandas as pd\n",
    "import numpy as np\n",
    "import glob, os\n",
    "import time\n",
    "import pickle\n",
    "import matplotlib.pyplot as plt\n",
    "import math\n",
    "from keras.models import Sequential\n",
    "from keras.layers import Dense, Dropout, Flatten, TimeDistributed\n",
    "from keras.layers import LSTM, GRU\n",
    "from sklearn.preprocessing import MinMaxScaler\n",
    "from sklearn.metrics import mean_squared_error\n",
    "from keras.optimizers import SGD\n",
    "\n",
    "#np.seed(7)\n",
    "\n",
    "with open('finalset/preprocess_48_hours.pickle', 'rb') as handle:\n",
    "    [X,  Y] = pickle.load(handle)\n",
    "df_murda = Y['LABEL']==1\n",
    "df_murda = df_murda.as_matrix()\n",
    "Y.drop(['SUBJECT_ID'],1, inplace=True)\n",
    "Y = np.array(Y)\n",
    "print(len(X),len(Y))\n",
    "print(X.shape)\n",
    "print(Y.shape)\n",
    "X_murda = X[df_murda]\n",
    "X_murda = np.repeat(X_murda,1,axis=0)\n",
    "X = np.concatenate((X,X_murda),axis=0)\n",
    "print(X.shape)\n",
    "Y_murda = Y[df_murda]\n",
    "Y_murda = np.repeat(Y_murda,1,axis=0)\n",
    "Y = np.concatenate((Y,Y_murda),axis=0)\n",
    "Y.shape"
   ]
  },
  {
   "cell_type": "code",
   "execution_count": 30,
   "metadata": {},
   "outputs": [
    {
     "name": "stdout",
     "output_type": "stream",
     "text": [
      "(9048, 1, 1)\n"
     ]
    },
    {
     "data": {
      "text/plain": [
       "(9048, 2, 49, 37)"
      ]
     },
     "execution_count": 30,
     "metadata": {},
     "output_type": "execute_result"
    }
   ],
   "source": [
    "X_new = X.reshape(X.shape[0],1,X.shape[1],X.shape[2])\n",
    "Y_new = Y.reshape(Y.shape[0],1,Y.shape[1])\n",
    "print(Y_new.shape)\n",
    "X_new = np.insert(X_new, 1, Y_new, axis=1)\n",
    "np.random.shuffle(X_new)\n",
    "X_new.shape"
   ]
  },
  {
   "cell_type": "code",
   "execution_count": 31,
   "metadata": {},
   "outputs": [
    {
     "data": {
      "text/plain": [
       "(9048, 49, 37)"
      ]
     },
     "execution_count": 31,
     "metadata": {},
     "output_type": "execute_result"
    }
   ],
   "source": [
    "X = X_new[:,0]\n",
    "\n",
    "X.shape"
   ]
  },
  {
   "cell_type": "code",
   "execution_count": 32,
   "metadata": {},
   "outputs": [
    {
     "data": {
      "text/plain": [
       "(9048, 1)"
      ]
     },
     "execution_count": 32,
     "metadata": {},
     "output_type": "execute_result"
    }
   ],
   "source": [
    "Y = X_new[:,1]\n",
    "Y = Y[:,0]\n",
    "Y = Y[:,0]\n",
    "Y = Y.reshape(Y.shape[0],1)\n",
    "Y.shape"
   ]
  },
  {
   "cell_type": "code",
   "execution_count": 33,
   "metadata": {},
   "outputs": [
    {
     "data": {
      "text/plain": [
       "(9048, 49, 37)"
      ]
     },
     "execution_count": 33,
     "metadata": {},
     "output_type": "execute_result"
    }
   ],
   "source": [
    "X = (X-np.mean(X))/(np.std(X))\n",
    "X.shape"
   ]
  },
  {
   "cell_type": "code",
   "execution_count": 34,
   "metadata": {},
   "outputs": [],
   "source": [
    "from sklearn.model_selection import StratifiedShuffleSplit\n",
    "sss = StratifiedShuffleSplit(n_splits=1, test_size=0.3, random_state=2)\n",
    "sss.get_n_splits(X, Y)\n",
    "\n",
    "for train_index, test_index in sss.split(X, Y):\n",
    "    #print(\"TRAIN:\", train_index, \"TEST:\", test_index)\n",
    "    train_X, test1_X = X[train_index], X[test_index]\n",
    "    train_Y, test1_Y = Y[train_index], Y[test_index]"
   ]
  },
  {
   "cell_type": "code",
   "execution_count": 35,
   "metadata": {},
   "outputs": [],
   "source": [
    "sss1 = StratifiedShuffleSplit(n_splits=1, test_size=0.5, random_state=0)\n",
    "sss1.get_n_splits(test1_X, test1_Y)\n",
    "\n",
    "for test_index, val_index in sss1.split(test1_X, test1_Y):\n",
    "    #print(\"TRAIN:\", train_index, \"TEST:\", test_index)\n",
    "    test_X, val_X = test1_X[test_index], test1_X[val_index]\n",
    "    test_Y, val_Y = test1_Y[test_index], test1_Y[val_index]"
   ]
  },
  {
   "cell_type": "code",
   "execution_count": 36,
   "metadata": {},
   "outputs": [
    {
     "name": "stdout",
     "output_type": "stream",
     "text": [
      "(6333, 49, 37) (1357, 49, 37) (6333, 1) (1357, 1) (1358, 49, 37) (1358, 1)\n"
     ]
    }
   ],
   "source": [
    "print(train_X.shape, test_X.shape, train_Y.shape, test_Y.shape, val_X.shape, val_Y.shape)"
   ]
  },
  {
   "cell_type": "code",
   "execution_count": 37,
   "metadata": {},
   "outputs": [
    {
     "name": "stdout",
     "output_type": "stream",
     "text": [
      "6333 1357\n",
      "6333 1357\n"
     ]
    }
   ],
   "source": [
    "print(len(train_X), len(test_X))\n",
    "print(len(train_Y), len(test_Y))"
   ]
  },
  {
   "cell_type": "code",
   "execution_count": 38,
   "metadata": {},
   "outputs": [],
   "source": [
    "# lstm_size = []\n",
    "# drpout = []\n",
    "# dense1 = []\n",
    "# dense2 = []\n",
    "# dense3 = []\n",
    "\n",
    "# # create and fit the LSTM network\n",
    "# model = Sequential()\n",
    "# model.add(LSTM(27, return_sequences = True, input_dim = 37, input_length = 49))\n",
    "# model.add(Dropout(0.5))\n",
    "# print model.output_shape\n",
    "# #model.add(LSTM(14, return_sequences = True))\n",
    "# #model.add(Dropout(0.5))\n",
    "# model.add(Flatten())\n",
    "# print model.output_shape\n",
    "# model.add(Dense(100, init='glorot_uniform', activation='relu'))\n",
    "# model.add(Dropout(0.5))\n",
    "# model.add(Dense(10, init='glorot_uniform', activation='relu'))\n",
    "# model.add(Dropout(0.5))\n",
    "# model.add(Dense(5, init='glorot_uniform', activation='relu'))\n",
    "# model.add(Dropout(0.5))\n",
    "# model.add(Dense(1, init='glorot_uniform', activation='sigmoid'))\n",
    "# model.compile(loss='binary_crossentropy', optimizer='RMSprop', metrics=['accuracy'])\n",
    "# model.fit(train_X, train_Y, nb_epoch=100, batch_size=40, verbose=2)\n",
    "# val_predict = model.predict(val_X,  batch_size=40)\n",
    "# from sklearn.metrics import roc_auc_score\n",
    "# roc_auc_score(val_Y, val_predict)"
   ]
  },
  {
   "cell_type": "code",
   "execution_count": null,
   "metadata": {
    "scrolled": true
   },
   "outputs": [
    {
     "name": "stdout",
     "output_type": "stream",
     "text": [
      "Training with params : \n",
      "{'attention': 10, 'dropout': 0.3, 'dense3': 6, 'dense1': 90, 'lstm_size': 15, 'dense2': 14}\n"
     ]
    },
    {
     "name": "stderr",
     "output_type": "stream",
     "text": [
      "/home/yoda/.local/lib/python3.5/site-packages/ipykernel_launcher.py:29: UserWarning: The `input_dim` and `input_length` arguments in recurrent layers are deprecated. Use `input_shape` instead.\n",
      "/home/yoda/.local/lib/python3.5/site-packages/ipykernel_launcher.py:29: UserWarning: Update your `LSTM` call to the Keras 2 API: `LSTM(15, return_sequences=True, input_shape=(49, 37))`\n",
      "/home/yoda/.local/lib/python3.5/site-packages/ipykernel_launcher.py:37: UserWarning: Update your `Dense` call to the Keras 2 API: `Dense(90, activation=\"relu\", kernel_initializer=\"glorot_uniform\")`\n",
      "/home/yoda/.local/lib/python3.5/site-packages/ipykernel_launcher.py:39: UserWarning: Update your `Dense` call to the Keras 2 API: `Dense(14, activation=\"relu\", kernel_initializer=\"glorot_uniform\")`\n",
      "/home/yoda/.local/lib/python3.5/site-packages/ipykernel_launcher.py:41: UserWarning: Update your `Dense` call to the Keras 2 API: `Dense(6, activation=\"relu\", kernel_initializer=\"glorot_uniform\")`\n",
      "/home/yoda/.local/lib/python3.5/site-packages/ipykernel_launcher.py:43: UserWarning: Update your `Dense` call to the Keras 2 API: `Dense(1, activation=\"sigmoid\", kernel_initializer=\"glorot_uniform\")`\n",
      "/home/yoda/.local/lib/python3.5/site-packages/ipykernel_launcher.py:45: UserWarning: The `nb_epoch` argument in `fit` has been renamed `epochs`.\n"
     ]
    },
    {
     "name": "stdout",
     "output_type": "stream",
     "text": [
      "AUC : 0.5625392127072126,  Score/Loss : 0.43746078729278737, F1_Score_average: 0.6958230958230958, Precision, Recall, F1_score, Support: (array([0.5      , 0.5458751]), array([0.04846527, 0.95934959]), array([0.08836524, 0.6958231 ]), array([619, 738]))\n",
      "F1_score_micro: 0.5438467207074429\n",
      "F1_score_macro: 0.392094169413757\n",
      "Confusion Matrix\n",
      "[[ 30 589]\n",
      " [ 30 708]]\n",
      "END\n",
      "\n",
      "\n",
      "Training with params : \n",
      "{'attention': 40, 'dropout': 0.3, 'dense3': 7, 'dense1': 90, 'lstm_size': 25, 'dense2': 17}\n"
     ]
    },
    {
     "name": "stderr",
     "output_type": "stream",
     "text": [
      "/home/yoda/.local/lib/python3.5/site-packages/ipykernel_launcher.py:29: UserWarning: The `input_dim` and `input_length` arguments in recurrent layers are deprecated. Use `input_shape` instead.\n",
      "/home/yoda/.local/lib/python3.5/site-packages/ipykernel_launcher.py:29: UserWarning: Update your `LSTM` call to the Keras 2 API: `LSTM(25, return_sequences=True, input_shape=(49, 37))`\n",
      "/home/yoda/.local/lib/python3.5/site-packages/ipykernel_launcher.py:37: UserWarning: Update your `Dense` call to the Keras 2 API: `Dense(90, activation=\"relu\", kernel_initializer=\"glorot_uniform\")`\n",
      "/home/yoda/.local/lib/python3.5/site-packages/ipykernel_launcher.py:39: UserWarning: Update your `Dense` call to the Keras 2 API: `Dense(17, activation=\"relu\", kernel_initializer=\"glorot_uniform\")`\n",
      "/home/yoda/.local/lib/python3.5/site-packages/ipykernel_launcher.py:41: UserWarning: Update your `Dense` call to the Keras 2 API: `Dense(7, activation=\"relu\", kernel_initializer=\"glorot_uniform\")`\n",
      "/home/yoda/.local/lib/python3.5/site-packages/ipykernel_launcher.py:43: UserWarning: Update your `Dense` call to the Keras 2 API: `Dense(1, activation=\"sigmoid\", kernel_initializer=\"glorot_uniform\")`\n",
      "/home/yoda/.local/lib/python3.5/site-packages/ipykernel_launcher.py:45: UserWarning: The `nb_epoch` argument in `fit` has been renamed `epochs`.\n"
     ]
    },
    {
     "name": "stdout",
     "output_type": "stream",
     "text": [
      "AUC : 0.5532013964642435,  Score/Loss : 0.4467986035357565, F1_Score_average: 0.669050051072523, Precision, Recall, F1_score, Support: (array([0.39416058, 0.53688525]), array([0.08723748, 0.88753388]), array([0.14285714, 0.66905005]), array([619, 738]))\n",
      "F1_score_micro: 0.522476050110538\n",
      "F1_score_macro: 0.40595359696483296\n",
      "Confusion Matrix\n",
      "[[ 54 565]\n",
      " [ 83 655]]\n",
      "END\n",
      "\n",
      "\n",
      "Training with params : \n",
      "{'attention': 40, 'dropout': 0.3, 'dense3': 5, 'dense1': 100, 'lstm_size': 30, 'dense2': 11}\n"
     ]
    },
    {
     "name": "stderr",
     "output_type": "stream",
     "text": [
      "/home/yoda/.local/lib/python3.5/site-packages/ipykernel_launcher.py:29: UserWarning: The `input_dim` and `input_length` arguments in recurrent layers are deprecated. Use `input_shape` instead.\n",
      "/home/yoda/.local/lib/python3.5/site-packages/ipykernel_launcher.py:29: UserWarning: Update your `LSTM` call to the Keras 2 API: `LSTM(30, return_sequences=True, input_shape=(49, 37))`\n",
      "/home/yoda/.local/lib/python3.5/site-packages/ipykernel_launcher.py:37: UserWarning: Update your `Dense` call to the Keras 2 API: `Dense(100, activation=\"relu\", kernel_initializer=\"glorot_uniform\")`\n",
      "/home/yoda/.local/lib/python3.5/site-packages/ipykernel_launcher.py:39: UserWarning: Update your `Dense` call to the Keras 2 API: `Dense(11, activation=\"relu\", kernel_initializer=\"glorot_uniform\")`\n",
      "/home/yoda/.local/lib/python3.5/site-packages/ipykernel_launcher.py:41: UserWarning: Update your `Dense` call to the Keras 2 API: `Dense(5, activation=\"relu\", kernel_initializer=\"glorot_uniform\")`\n",
      "/home/yoda/.local/lib/python3.5/site-packages/ipykernel_launcher.py:43: UserWarning: Update your `Dense` call to the Keras 2 API: `Dense(1, activation=\"sigmoid\", kernel_initializer=\"glorot_uniform\")`\n",
      "/home/yoda/.local/lib/python3.5/site-packages/ipykernel_launcher.py:45: UserWarning: The `nb_epoch` argument in `fit` has been renamed `epochs`.\n"
     ]
    },
    {
     "name": "stdout",
     "output_type": "stream",
     "text": [
      "AUC : 0.5099542891870208,  Score/Loss : 0.4900457108129792, F1_Score_average: 0.7036859741503112, Precision, Recall, F1_score, Support: (array([0.5       , 0.54404145]), array([0.00484653, 0.99593496]), array([0.0096    , 0.70368597]), array([619, 738]))\n",
      "F1_score_micro: 0.5438467207074429\n",
      "F1_score_macro: 0.3566429870751556\n",
      "Confusion Matrix\n",
      "[[  3 616]\n",
      " [  3 735]]\n",
      "END\n",
      "\n",
      "\n",
      "Training with params : \n",
      "{'attention': 30, 'dropout': 0.3, 'dense3': 6, 'dense1': 100, 'lstm_size': 20, 'dense2': 14}\n"
     ]
    },
    {
     "name": "stderr",
     "output_type": "stream",
     "text": [
      "/home/yoda/.local/lib/python3.5/site-packages/ipykernel_launcher.py:29: UserWarning: The `input_dim` and `input_length` arguments in recurrent layers are deprecated. Use `input_shape` instead.\n",
      "/home/yoda/.local/lib/python3.5/site-packages/ipykernel_launcher.py:29: UserWarning: Update your `LSTM` call to the Keras 2 API: `LSTM(20, return_sequences=True, input_shape=(49, 37))`\n",
      "/home/yoda/.local/lib/python3.5/site-packages/ipykernel_launcher.py:37: UserWarning: Update your `Dense` call to the Keras 2 API: `Dense(100, activation=\"relu\", kernel_initializer=\"glorot_uniform\")`\n",
      "/home/yoda/.local/lib/python3.5/site-packages/ipykernel_launcher.py:39: UserWarning: Update your `Dense` call to the Keras 2 API: `Dense(14, activation=\"relu\", kernel_initializer=\"glorot_uniform\")`\n",
      "/home/yoda/.local/lib/python3.5/site-packages/ipykernel_launcher.py:41: UserWarning: Update your `Dense` call to the Keras 2 API: `Dense(6, activation=\"relu\", kernel_initializer=\"glorot_uniform\")`\n",
      "/home/yoda/.local/lib/python3.5/site-packages/ipykernel_launcher.py:43: UserWarning: Update your `Dense` call to the Keras 2 API: `Dense(1, activation=\"sigmoid\", kernel_initializer=\"glorot_uniform\")`\n",
      "/home/yoda/.local/lib/python3.5/site-packages/ipykernel_launcher.py:45: UserWarning: The `nb_epoch` argument in `fit` has been renamed `epochs`.\n"
     ]
    },
    {
     "name": "stdout",
     "output_type": "stream",
     "text": [
      "AUC : 0.5503452904308971,  Score/Loss : 0.4496547095691029, F1_Score_average: 0.7037392138063279, Precision, Recall, F1_score, Support: (array([0.55555556, 0.54451039]), array([0.00807754, 0.99457995]), array([0.01592357, 0.70373921]), array([619, 738]))\n",
      "F1_score_micro: 0.5445836403831983\n",
      "F1_score_macro: 0.3598313903426544\n",
      "Confusion Matrix\n",
      "[[  5 614]\n",
      " [  4 734]]\n",
      "END\n",
      "\n",
      "\n",
      "Training with params : \n",
      "{'attention': 40, 'dropout': 0.3, 'dense3': 6, 'dense1': 125, 'lstm_size': 20, 'dense2': 17}\n"
     ]
    },
    {
     "name": "stderr",
     "output_type": "stream",
     "text": [
      "/home/yoda/.local/lib/python3.5/site-packages/ipykernel_launcher.py:29: UserWarning: The `input_dim` and `input_length` arguments in recurrent layers are deprecated. Use `input_shape` instead.\n",
      "/home/yoda/.local/lib/python3.5/site-packages/ipykernel_launcher.py:29: UserWarning: Update your `LSTM` call to the Keras 2 API: `LSTM(20, return_sequences=True, input_shape=(49, 37))`\n",
      "/home/yoda/.local/lib/python3.5/site-packages/ipykernel_launcher.py:37: UserWarning: Update your `Dense` call to the Keras 2 API: `Dense(125, activation=\"relu\", kernel_initializer=\"glorot_uniform\")`\n",
      "/home/yoda/.local/lib/python3.5/site-packages/ipykernel_launcher.py:39: UserWarning: Update your `Dense` call to the Keras 2 API: `Dense(17, activation=\"relu\", kernel_initializer=\"glorot_uniform\")`\n",
      "/home/yoda/.local/lib/python3.5/site-packages/ipykernel_launcher.py:41: UserWarning: Update your `Dense` call to the Keras 2 API: `Dense(6, activation=\"relu\", kernel_initializer=\"glorot_uniform\")`\n",
      "/home/yoda/.local/lib/python3.5/site-packages/ipykernel_launcher.py:43: UserWarning: Update your `Dense` call to the Keras 2 API: `Dense(1, activation=\"sigmoid\", kernel_initializer=\"glorot_uniform\")`\n",
      "/home/yoda/.local/lib/python3.5/site-packages/ipykernel_launcher.py:45: UserWarning: The `nb_epoch` argument in `fit` has been renamed `epochs`.\n"
     ]
    },
    {
     "name": "stdout",
     "output_type": "stream",
     "text": [
      "AUC : 0.5745178066679638,  Score/Loss : 0.4254821933320362, F1_Score_average: 0.7030420086914534, Precision, Recall, F1_score, Support: (array([0.58333333, 0.54613653]), array([0.02261712, 0.98644986]), array([0.04354588, 0.70304201]), array([619, 738]))\n",
      "F1_score_micro: 0.5467943994104643\n",
      "F1_score_macro: 0.3732939436925385\n",
      "Confusion Matrix\n",
      "[[ 14 605]\n",
      " [ 10 728]]\n",
      "END\n",
      "\n",
      "\n",
      "Training with params : \n",
      "{'attention': 10, 'dropout': 0.3, 'dense3': 5, 'dense1': 70, 'lstm_size': 20, 'dense2': 14}\n"
     ]
    },
    {
     "name": "stderr",
     "output_type": "stream",
     "text": [
      "/home/yoda/.local/lib/python3.5/site-packages/ipykernel_launcher.py:29: UserWarning: The `input_dim` and `input_length` arguments in recurrent layers are deprecated. Use `input_shape` instead.\n",
      "/home/yoda/.local/lib/python3.5/site-packages/ipykernel_launcher.py:29: UserWarning: Update your `LSTM` call to the Keras 2 API: `LSTM(20, return_sequences=True, input_shape=(49, 37))`\n",
      "/home/yoda/.local/lib/python3.5/site-packages/ipykernel_launcher.py:37: UserWarning: Update your `Dense` call to the Keras 2 API: `Dense(70, activation=\"relu\", kernel_initializer=\"glorot_uniform\")`\n",
      "/home/yoda/.local/lib/python3.5/site-packages/ipykernel_launcher.py:39: UserWarning: Update your `Dense` call to the Keras 2 API: `Dense(14, activation=\"relu\", kernel_initializer=\"glorot_uniform\")`\n",
      "/home/yoda/.local/lib/python3.5/site-packages/ipykernel_launcher.py:41: UserWarning: Update your `Dense` call to the Keras 2 API: `Dense(5, activation=\"relu\", kernel_initializer=\"glorot_uniform\")`\n",
      "/home/yoda/.local/lib/python3.5/site-packages/ipykernel_launcher.py:43: UserWarning: Update your `Dense` call to the Keras 2 API: `Dense(1, activation=\"sigmoid\", kernel_initializer=\"glorot_uniform\")`\n",
      "/home/yoda/.local/lib/python3.5/site-packages/ipykernel_launcher.py:45: UserWarning: The `nb_epoch` argument in `fit` has been renamed `epochs`.\n",
      "/home/yoda/.local/lib/python3.5/site-packages/sklearn/metrics/classification.py:1143: UndefinedMetricWarning: Precision and F-score are ill-defined and being set to 0.0 in labels with no predicted samples.\n",
      "  'precision', 'predicted', average, warn_for)\n",
      "/home/yoda/.local/lib/python3.5/site-packages/sklearn/metrics/classification.py:1143: UndefinedMetricWarning: F-score is ill-defined and being set to 0.0 in labels with no predicted samples.\n",
      "  'precision', 'predicted', average, warn_for)\n",
      "/home/yoda/.local/lib/python3.5/site-packages/ipykernel_launcher.py:29: UserWarning: The `input_dim` and `input_length` arguments in recurrent layers are deprecated. Use `input_shape` instead.\n",
      "/home/yoda/.local/lib/python3.5/site-packages/ipykernel_launcher.py:29: UserWarning: Update your `LSTM` call to the Keras 2 API: `LSTM(20, return_sequences=True, input_shape=(49, 37))`\n",
      "/home/yoda/.local/lib/python3.5/site-packages/ipykernel_launcher.py:37: UserWarning: Update your `Dense` call to the Keras 2 API: `Dense(100, activation=\"relu\", kernel_initializer=\"glorot_uniform\")`\n"
     ]
    },
    {
     "name": "stdout",
     "output_type": "stream",
     "text": [
      "AUC : 0.5610122398298361,  Score/Loss : 0.43898776017016394, F1_Score_average: 0.7045346062052505, Precision, Recall, F1_score, Support: (array([0.        , 0.54384672]), array([0., 1.]), array([0.        , 0.70453461]), array([619, 738]))\n",
      "F1_score_micro: 0.5438467207074429\n",
      "F1_score_macro: 0.3522673031026253\n",
      "Confusion Matrix\n",
      "[[  0 619]\n",
      " [  0 738]]\n",
      "END\n",
      "\n",
      "\n",
      "Training with params : \n",
      "{'attention': 10, 'dropout': 0.5, 'dense3': 6, 'dense1': 100, 'lstm_size': 20, 'dense2': 14}\n"
     ]
    },
    {
     "name": "stderr",
     "output_type": "stream",
     "text": [
      "/home/yoda/.local/lib/python3.5/site-packages/ipykernel_launcher.py:39: UserWarning: Update your `Dense` call to the Keras 2 API: `Dense(14, activation=\"relu\", kernel_initializer=\"glorot_uniform\")`\n",
      "/home/yoda/.local/lib/python3.5/site-packages/ipykernel_launcher.py:41: UserWarning: Update your `Dense` call to the Keras 2 API: `Dense(6, activation=\"relu\", kernel_initializer=\"glorot_uniform\")`\n",
      "/home/yoda/.local/lib/python3.5/site-packages/ipykernel_launcher.py:43: UserWarning: Update your `Dense` call to the Keras 2 API: `Dense(1, activation=\"sigmoid\", kernel_initializer=\"glorot_uniform\")`\n",
      "/home/yoda/.local/lib/python3.5/site-packages/ipykernel_launcher.py:45: UserWarning: The `nb_epoch` argument in `fit` has been renamed `epochs`.\n",
      "/home/yoda/.local/lib/python3.5/site-packages/sklearn/metrics/classification.py:1143: UndefinedMetricWarning: Precision and F-score are ill-defined and being set to 0.0 in labels with no predicted samples.\n",
      "  'precision', 'predicted', average, warn_for)\n",
      "/home/yoda/.local/lib/python3.5/site-packages/sklearn/metrics/classification.py:1143: UndefinedMetricWarning: F-score is ill-defined and being set to 0.0 in labels with no predicted samples.\n",
      "  'precision', 'predicted', average, warn_for)\n",
      "/home/yoda/.local/lib/python3.5/site-packages/ipykernel_launcher.py:29: UserWarning: The `input_dim` and `input_length` arguments in recurrent layers are deprecated. Use `input_shape` instead.\n",
      "/home/yoda/.local/lib/python3.5/site-packages/ipykernel_launcher.py:29: UserWarning: Update your `LSTM` call to the Keras 2 API: `LSTM(25, return_sequences=True, input_shape=(49, 37))`\n"
     ]
    },
    {
     "name": "stdout",
     "output_type": "stream",
     "text": [
      "AUC : 0.5369982139773217,  Score/Loss : 0.4630017860226783, F1_Score_average: 0.7045346062052505, Precision, Recall, F1_score, Support: (array([0.        , 0.54384672]), array([0., 1.]), array([0.        , 0.70453461]), array([619, 738]))\n",
      "F1_score_micro: 0.5438467207074429\n",
      "F1_score_macro: 0.3522673031026253\n",
      "Confusion Matrix\n",
      "[[  0 619]\n",
      " [  0 738]]\n",
      "END\n",
      "\n",
      "\n",
      "Training with params : \n",
      "{'attention': 30, 'dropout': 0.3, 'dense3': 5, 'dense1': 70, 'lstm_size': 25, 'dense2': 14}\n"
     ]
    },
    {
     "name": "stderr",
     "output_type": "stream",
     "text": [
      "/home/yoda/.local/lib/python3.5/site-packages/ipykernel_launcher.py:37: UserWarning: Update your `Dense` call to the Keras 2 API: `Dense(70, activation=\"relu\", kernel_initializer=\"glorot_uniform\")`\n",
      "/home/yoda/.local/lib/python3.5/site-packages/ipykernel_launcher.py:39: UserWarning: Update your `Dense` call to the Keras 2 API: `Dense(14, activation=\"relu\", kernel_initializer=\"glorot_uniform\")`\n",
      "/home/yoda/.local/lib/python3.5/site-packages/ipykernel_launcher.py:41: UserWarning: Update your `Dense` call to the Keras 2 API: `Dense(5, activation=\"relu\", kernel_initializer=\"glorot_uniform\")`\n",
      "/home/yoda/.local/lib/python3.5/site-packages/ipykernel_launcher.py:43: UserWarning: Update your `Dense` call to the Keras 2 API: `Dense(1, activation=\"sigmoid\", kernel_initializer=\"glorot_uniform\")`\n",
      "/home/yoda/.local/lib/python3.5/site-packages/ipykernel_launcher.py:45: UserWarning: The `nb_epoch` argument in `fit` has been renamed `epochs`.\n"
     ]
    },
    {
     "name": "stdout",
     "output_type": "stream",
     "text": [
      "AUC : 0.5571734934122652,  Score/Loss : 0.4428265065877348, F1_Score_average: 0.6849315068493151, Precision, Recall, F1_score, Support: (array([0.49193548, 0.54744526]), array([0.09854604, 0.91463415]), array([0.16419919, 0.68493151]), array([619, 738]))\n",
      "F1_score_micro: 0.5423728813559322\n",
      "F1_score_macro: 0.4245653496561515\n",
      "Confusion Matrix\n",
      "[[ 61 558]\n",
      " [ 63 675]]\n",
      "END\n",
      "\n",
      "\n",
      "Training with params : \n",
      "{'attention': 40, 'dropout': 0.3, 'dense3': 5, 'dense1': 90, 'lstm_size': 15, 'dense2': 8}\n"
     ]
    },
    {
     "name": "stderr",
     "output_type": "stream",
     "text": [
      "/home/yoda/.local/lib/python3.5/site-packages/ipykernel_launcher.py:29: UserWarning: The `input_dim` and `input_length` arguments in recurrent layers are deprecated. Use `input_shape` instead.\n",
      "/home/yoda/.local/lib/python3.5/site-packages/ipykernel_launcher.py:29: UserWarning: Update your `LSTM` call to the Keras 2 API: `LSTM(15, return_sequences=True, input_shape=(49, 37))`\n",
      "/home/yoda/.local/lib/python3.5/site-packages/ipykernel_launcher.py:37: UserWarning: Update your `Dense` call to the Keras 2 API: `Dense(90, activation=\"relu\", kernel_initializer=\"glorot_uniform\")`\n",
      "/home/yoda/.local/lib/python3.5/site-packages/ipykernel_launcher.py:39: UserWarning: Update your `Dense` call to the Keras 2 API: `Dense(8, activation=\"relu\", kernel_initializer=\"glorot_uniform\")`\n",
      "/home/yoda/.local/lib/python3.5/site-packages/ipykernel_launcher.py:41: UserWarning: Update your `Dense` call to the Keras 2 API: `Dense(5, activation=\"relu\", kernel_initializer=\"glorot_uniform\")`\n",
      "/home/yoda/.local/lib/python3.5/site-packages/ipykernel_launcher.py:43: UserWarning: Update your `Dense` call to the Keras 2 API: `Dense(1, activation=\"sigmoid\", kernel_initializer=\"glorot_uniform\")`\n",
      "/home/yoda/.local/lib/python3.5/site-packages/ipykernel_launcher.py:45: UserWarning: The `nb_epoch` argument in `fit` has been renamed `epochs`.\n",
      "/home/yoda/.local/lib/python3.5/site-packages/sklearn/metrics/classification.py:1143: UndefinedMetricWarning: Precision and F-score are ill-defined and being set to 0.0 in labels with no predicted samples.\n",
      "  'precision', 'predicted', average, warn_for)\n",
      "/home/yoda/.local/lib/python3.5/site-packages/sklearn/metrics/classification.py:1143: UndefinedMetricWarning: F-score is ill-defined and being set to 0.0 in labels with no predicted samples.\n",
      "  'precision', 'predicted', average, warn_for)\n",
      "/home/yoda/.local/lib/python3.5/site-packages/ipykernel_launcher.py:29: UserWarning: The `input_dim` and `input_length` arguments in recurrent layers are deprecated. Use `input_shape` instead.\n",
      "/home/yoda/.local/lib/python3.5/site-packages/ipykernel_launcher.py:29: UserWarning: Update your `LSTM` call to the Keras 2 API: `LSTM(30, return_sequences=True, input_shape=(49, 37))`\n"
     ]
    },
    {
     "name": "stdout",
     "output_type": "stream",
     "text": [
      "AUC : 0.4972695932371607,  Score/Loss : 0.5027304067628393, F1_Score_average: 0.7045346062052505, Precision, Recall, F1_score, Support: (array([0.        , 0.54384672]), array([0., 1.]), array([0.        , 0.70453461]), array([619, 738]))\n",
      "F1_score_micro: 0.5438467207074429\n",
      "F1_score_macro: 0.3522673031026253\n",
      "Confusion Matrix\n",
      "[[  0 619]\n",
      " [  0 738]]\n",
      "END\n",
      "\n",
      "\n",
      "Training with params : \n",
      "{'attention': 40, 'dropout': 0.3, 'dense3': 6, 'dense1': 90, 'lstm_size': 30, 'dense2': 17}\n"
     ]
    },
    {
     "name": "stderr",
     "output_type": "stream",
     "text": [
      "/home/yoda/.local/lib/python3.5/site-packages/ipykernel_launcher.py:37: UserWarning: Update your `Dense` call to the Keras 2 API: `Dense(90, activation=\"relu\", kernel_initializer=\"glorot_uniform\")`\n",
      "/home/yoda/.local/lib/python3.5/site-packages/ipykernel_launcher.py:39: UserWarning: Update your `Dense` call to the Keras 2 API: `Dense(17, activation=\"relu\", kernel_initializer=\"glorot_uniform\")`\n",
      "/home/yoda/.local/lib/python3.5/site-packages/ipykernel_launcher.py:41: UserWarning: Update your `Dense` call to the Keras 2 API: `Dense(6, activation=\"relu\", kernel_initializer=\"glorot_uniform\")`\n",
      "/home/yoda/.local/lib/python3.5/site-packages/ipykernel_launcher.py:43: UserWarning: Update your `Dense` call to the Keras 2 API: `Dense(1, activation=\"sigmoid\", kernel_initializer=\"glorot_uniform\")`\n",
      "/home/yoda/.local/lib/python3.5/site-packages/ipykernel_launcher.py:45: UserWarning: The `nb_epoch` argument in `fit` has been renamed `epochs`.\n"
     ]
    },
    {
     "name": "stdout",
     "output_type": "stream",
     "text": [
      "AUC : 0.5652849219899397,  Score/Loss : 0.43471507801006026, F1_Score_average: 0.5921052631578947, Precision, Recall, F1_score, Support: (array([0.49913043, 0.57544757]), array([0.46365105, 0.6097561 ]), array([0.48073702, 0.59210526]), array([619, 738]))\n",
      "F1_score_micro: 0.5431098010316876\n",
      "F1_score_macro: 0.5364211407916777\n",
      "Confusion Matrix\n",
      "[[287 332]\n",
      " [288 450]]\n",
      "END\n",
      "\n",
      "\n",
      "Training with params : \n",
      "{'attention': 10, 'dropout': 0.3, 'dense3': 5, 'dense1': 100, 'lstm_size': 15, 'dense2': 11}\n"
     ]
    },
    {
     "name": "stderr",
     "output_type": "stream",
     "text": [
      "/home/yoda/.local/lib/python3.5/site-packages/ipykernel_launcher.py:29: UserWarning: The `input_dim` and `input_length` arguments in recurrent layers are deprecated. Use `input_shape` instead.\n",
      "/home/yoda/.local/lib/python3.5/site-packages/ipykernel_launcher.py:29: UserWarning: Update your `LSTM` call to the Keras 2 API: `LSTM(15, return_sequences=True, input_shape=(49, 37))`\n",
      "/home/yoda/.local/lib/python3.5/site-packages/ipykernel_launcher.py:37: UserWarning: Update your `Dense` call to the Keras 2 API: `Dense(100, activation=\"relu\", kernel_initializer=\"glorot_uniform\")`\n",
      "/home/yoda/.local/lib/python3.5/site-packages/ipykernel_launcher.py:39: UserWarning: Update your `Dense` call to the Keras 2 API: `Dense(11, activation=\"relu\", kernel_initializer=\"glorot_uniform\")`\n",
      "/home/yoda/.local/lib/python3.5/site-packages/ipykernel_launcher.py:41: UserWarning: Update your `Dense` call to the Keras 2 API: `Dense(5, activation=\"relu\", kernel_initializer=\"glorot_uniform\")`\n",
      "/home/yoda/.local/lib/python3.5/site-packages/ipykernel_launcher.py:43: UserWarning: Update your `Dense` call to the Keras 2 API: `Dense(1, activation=\"sigmoid\", kernel_initializer=\"glorot_uniform\")`\n",
      "/home/yoda/.local/lib/python3.5/site-packages/ipykernel_launcher.py:45: UserWarning: The `nb_epoch` argument in `fit` has been renamed `epochs`.\n"
     ]
    },
    {
     "name": "stdout",
     "output_type": "stream",
     "text": [
      "AUC : 0.5699926329297111,  Score/Loss : 0.43000736707028886, F1_Score_average: 0.6983972802331229, Precision, Recall, F1_score, Support: (array([0.47222222, 0.54428463]), array([0.02746365, 0.97425474]), array([0.0519084 , 0.69839728]), array([619, 738]))\n",
      "F1_score_micro: 0.5423728813559322\n",
      "F1_score_macro: 0.3751528385898439\n",
      "Confusion Matrix\n",
      "[[ 17 602]\n",
      " [ 19 719]]\n",
      "END\n",
      "\n",
      "\n",
      "Training with params : \n",
      "{'attention': 40, 'dropout': 0.5, 'dense3': 5, 'dense1': 125, 'lstm_size': 25, 'dense2': 8}\n"
     ]
    },
    {
     "name": "stderr",
     "output_type": "stream",
     "text": [
      "/home/yoda/.local/lib/python3.5/site-packages/ipykernel_launcher.py:29: UserWarning: The `input_dim` and `input_length` arguments in recurrent layers are deprecated. Use `input_shape` instead.\n",
      "/home/yoda/.local/lib/python3.5/site-packages/ipykernel_launcher.py:29: UserWarning: Update your `LSTM` call to the Keras 2 API: `LSTM(25, return_sequences=True, input_shape=(49, 37))`\n",
      "/home/yoda/.local/lib/python3.5/site-packages/ipykernel_launcher.py:37: UserWarning: Update your `Dense` call to the Keras 2 API: `Dense(125, activation=\"relu\", kernel_initializer=\"glorot_uniform\")`\n",
      "/home/yoda/.local/lib/python3.5/site-packages/ipykernel_launcher.py:39: UserWarning: Update your `Dense` call to the Keras 2 API: `Dense(8, activation=\"relu\", kernel_initializer=\"glorot_uniform\")`\n",
      "/home/yoda/.local/lib/python3.5/site-packages/ipykernel_launcher.py:41: UserWarning: Update your `Dense` call to the Keras 2 API: `Dense(5, activation=\"relu\", kernel_initializer=\"glorot_uniform\")`\n",
      "/home/yoda/.local/lib/python3.5/site-packages/ipykernel_launcher.py:43: UserWarning: Update your `Dense` call to the Keras 2 API: `Dense(1, activation=\"sigmoid\", kernel_initializer=\"glorot_uniform\")`\n",
      "/home/yoda/.local/lib/python3.5/site-packages/ipykernel_launcher.py:45: UserWarning: The `nb_epoch` argument in `fit` has been renamed `epochs`.\n",
      "/home/yoda/.local/lib/python3.5/site-packages/sklearn/metrics/classification.py:1143: UndefinedMetricWarning: Precision and F-score are ill-defined and being set to 0.0 in labels with no predicted samples.\n",
      "  'precision', 'predicted', average, warn_for)\n",
      "/home/yoda/.local/lib/python3.5/site-packages/sklearn/metrics/classification.py:1143: UndefinedMetricWarning: F-score is ill-defined and being set to 0.0 in labels with no predicted samples.\n",
      "  'precision', 'predicted', average, warn_for)\n",
      "/home/yoda/.local/lib/python3.5/site-packages/ipykernel_launcher.py:29: UserWarning: The `input_dim` and `input_length` arguments in recurrent layers are deprecated. Use `input_shape` instead.\n",
      "/home/yoda/.local/lib/python3.5/site-packages/ipykernel_launcher.py:29: UserWarning: Update your `LSTM` call to the Keras 2 API: `LSTM(20, return_sequences=True, input_shape=(49, 37))`\n"
     ]
    },
    {
     "name": "stdout",
     "output_type": "stream",
     "text": [
      "AUC : 0.5147352336148269,  Score/Loss : 0.48526476638517313, F1_Score_average: 0.7045346062052505, Precision, Recall, F1_score, Support: (array([0.        , 0.54384672]), array([0., 1.]), array([0.        , 0.70453461]), array([619, 738]))\n",
      "F1_score_micro: 0.5438467207074429\n",
      "F1_score_macro: 0.3522673031026253\n",
      "Confusion Matrix\n",
      "[[  0 619]\n",
      " [  0 738]]\n",
      "END\n",
      "\n",
      "\n",
      "Training with params : \n",
      "{'attention': 10, 'dropout': 0.3, 'dense3': 5, 'dense1': 70, 'lstm_size': 20, 'dense2': 11}\n"
     ]
    },
    {
     "name": "stderr",
     "output_type": "stream",
     "text": [
      "/home/yoda/.local/lib/python3.5/site-packages/ipykernel_launcher.py:37: UserWarning: Update your `Dense` call to the Keras 2 API: `Dense(70, activation=\"relu\", kernel_initializer=\"glorot_uniform\")`\n",
      "/home/yoda/.local/lib/python3.5/site-packages/ipykernel_launcher.py:39: UserWarning: Update your `Dense` call to the Keras 2 API: `Dense(11, activation=\"relu\", kernel_initializer=\"glorot_uniform\")`\n",
      "/home/yoda/.local/lib/python3.5/site-packages/ipykernel_launcher.py:41: UserWarning: Update your `Dense` call to the Keras 2 API: `Dense(5, activation=\"relu\", kernel_initializer=\"glorot_uniform\")`\n",
      "/home/yoda/.local/lib/python3.5/site-packages/ipykernel_launcher.py:43: UserWarning: Update your `Dense` call to the Keras 2 API: `Dense(1, activation=\"sigmoid\", kernel_initializer=\"glorot_uniform\")`\n",
      "/home/yoda/.local/lib/python3.5/site-packages/ipykernel_launcher.py:45: UserWarning: The `nb_epoch` argument in `fit` has been renamed `epochs`.\n",
      "/home/yoda/.local/lib/python3.5/site-packages/sklearn/metrics/classification.py:1143: UndefinedMetricWarning: Precision and F-score are ill-defined and being set to 0.0 in labels with no predicted samples.\n",
      "  'precision', 'predicted', average, warn_for)\n",
      "/home/yoda/.local/lib/python3.5/site-packages/sklearn/metrics/classification.py:1143: UndefinedMetricWarning: F-score is ill-defined and being set to 0.0 in labels with no predicted samples.\n",
      "  'precision', 'predicted', average, warn_for)\n",
      "/home/yoda/.local/lib/python3.5/site-packages/ipykernel_launcher.py:29: UserWarning: The `input_dim` and `input_length` arguments in recurrent layers are deprecated. Use `input_shape` instead.\n",
      "/home/yoda/.local/lib/python3.5/site-packages/ipykernel_launcher.py:29: UserWarning: Update your `LSTM` call to the Keras 2 API: `LSTM(15, return_sequences=True, input_shape=(49, 37))`\n"
     ]
    },
    {
     "name": "stdout",
     "output_type": "stream",
     "text": [
      "AUC : 0.5631491274284552,  Score/Loss : 0.43685087257154476, F1_Score_average: 0.7045346062052505, Precision, Recall, F1_score, Support: (array([0.        , 0.54384672]), array([0., 1.]), array([0.        , 0.70453461]), array([619, 738]))\n",
      "F1_score_micro: 0.5438467207074429\n",
      "F1_score_macro: 0.3522673031026253\n",
      "Confusion Matrix\n",
      "[[  0 619]\n",
      " [  0 738]]\n",
      "END\n",
      "\n",
      "\n",
      "Training with params : \n",
      "{'attention': 40, 'dropout': 0.3, 'dense3': 5, 'dense1': 90, 'lstm_size': 15, 'dense2': 14}\n"
     ]
    },
    {
     "name": "stderr",
     "output_type": "stream",
     "text": [
      "/home/yoda/.local/lib/python3.5/site-packages/ipykernel_launcher.py:37: UserWarning: Update your `Dense` call to the Keras 2 API: `Dense(90, activation=\"relu\", kernel_initializer=\"glorot_uniform\")`\n",
      "/home/yoda/.local/lib/python3.5/site-packages/ipykernel_launcher.py:39: UserWarning: Update your `Dense` call to the Keras 2 API: `Dense(14, activation=\"relu\", kernel_initializer=\"glorot_uniform\")`\n",
      "/home/yoda/.local/lib/python3.5/site-packages/ipykernel_launcher.py:41: UserWarning: Update your `Dense` call to the Keras 2 API: `Dense(5, activation=\"relu\", kernel_initializer=\"glorot_uniform\")`\n",
      "/home/yoda/.local/lib/python3.5/site-packages/ipykernel_launcher.py:43: UserWarning: Update your `Dense` call to the Keras 2 API: `Dense(1, activation=\"sigmoid\", kernel_initializer=\"glorot_uniform\")`\n",
      "/home/yoda/.local/lib/python3.5/site-packages/ipykernel_launcher.py:45: UserWarning: The `nb_epoch` argument in `fit` has been renamed `epochs`.\n"
     ]
    },
    {
     "name": "stdout",
     "output_type": "stream",
     "text": [
      "AUC : 0.5348908383813431,  Score/Loss : 0.4651091616186569, F1_Score_average: 0.7048710601719198, Precision, Recall, F1_score, Support: (array([1.        , 0.54424779]), array([0.00161551, 1.        ]), array([0.00322581, 0.70487106]), array([619, 738]))\n",
      "F1_score_micro: 0.5445836403831983\n",
      "F1_score_macro: 0.35404843331176633\n",
      "Confusion Matrix\n",
      "[[  1 618]\n",
      " [  0 738]]\n",
      "END\n",
      "\n",
      "\n",
      "Training with params : \n",
      "{'attention': 20, 'dropout': 0.5, 'dense3': 7, 'dense1': 70, 'lstm_size': 20, 'dense2': 17}\n"
     ]
    },
    {
     "name": "stderr",
     "output_type": "stream",
     "text": [
      "/home/yoda/.local/lib/python3.5/site-packages/ipykernel_launcher.py:29: UserWarning: The `input_dim` and `input_length` arguments in recurrent layers are deprecated. Use `input_shape` instead.\n",
      "/home/yoda/.local/lib/python3.5/site-packages/ipykernel_launcher.py:29: UserWarning: Update your `LSTM` call to the Keras 2 API: `LSTM(20, return_sequences=True, input_shape=(49, 37))`\n",
      "/home/yoda/.local/lib/python3.5/site-packages/ipykernel_launcher.py:37: UserWarning: Update your `Dense` call to the Keras 2 API: `Dense(70, activation=\"relu\", kernel_initializer=\"glorot_uniform\")`\n",
      "/home/yoda/.local/lib/python3.5/site-packages/ipykernel_launcher.py:39: UserWarning: Update your `Dense` call to the Keras 2 API: `Dense(17, activation=\"relu\", kernel_initializer=\"glorot_uniform\")`\n",
      "/home/yoda/.local/lib/python3.5/site-packages/ipykernel_launcher.py:41: UserWarning: Update your `Dense` call to the Keras 2 API: `Dense(7, activation=\"relu\", kernel_initializer=\"glorot_uniform\")`\n",
      "/home/yoda/.local/lib/python3.5/site-packages/ipykernel_launcher.py:43: UserWarning: Update your `Dense` call to the Keras 2 API: `Dense(1, activation=\"sigmoid\", kernel_initializer=\"glorot_uniform\")`\n",
      "/home/yoda/.local/lib/python3.5/site-packages/ipykernel_launcher.py:45: UserWarning: The `nb_epoch` argument in `fit` has been renamed `epochs`.\n"
     ]
    },
    {
     "name": "stdout",
     "output_type": "stream",
     "text": [
      "AUC : 0.5514798629768648,  Score/Loss : 0.4485201370231352, F1_Score_average: 0.7048710601719198, Precision, Recall, F1_score, Support: (array([1.        , 0.54424779]), array([0.00161551, 1.        ]), array([0.00322581, 0.70487106]), array([619, 738]))\n",
      "F1_score_micro: 0.5445836403831983\n",
      "F1_score_macro: 0.35404843331176633\n",
      "Confusion Matrix\n",
      "[[  1 618]\n",
      " [  0 738]]\n",
      "END\n",
      "\n",
      "\n",
      "Training with params : \n",
      "{'attention': 30, 'dropout': 0.3, 'dense3': 5, 'dense1': 90, 'lstm_size': 25, 'dense2': 11}\n"
     ]
    },
    {
     "name": "stderr",
     "output_type": "stream",
     "text": [
      "/home/yoda/.local/lib/python3.5/site-packages/ipykernel_launcher.py:29: UserWarning: The `input_dim` and `input_length` arguments in recurrent layers are deprecated. Use `input_shape` instead.\n",
      "/home/yoda/.local/lib/python3.5/site-packages/ipykernel_launcher.py:29: UserWarning: Update your `LSTM` call to the Keras 2 API: `LSTM(25, return_sequences=True, input_shape=(49, 37))`\n",
      "/home/yoda/.local/lib/python3.5/site-packages/ipykernel_launcher.py:37: UserWarning: Update your `Dense` call to the Keras 2 API: `Dense(90, activation=\"relu\", kernel_initializer=\"glorot_uniform\")`\n",
      "/home/yoda/.local/lib/python3.5/site-packages/ipykernel_launcher.py:39: UserWarning: Update your `Dense` call to the Keras 2 API: `Dense(11, activation=\"relu\", kernel_initializer=\"glorot_uniform\")`\n",
      "/home/yoda/.local/lib/python3.5/site-packages/ipykernel_launcher.py:41: UserWarning: Update your `Dense` call to the Keras 2 API: `Dense(5, activation=\"relu\", kernel_initializer=\"glorot_uniform\")`\n",
      "/home/yoda/.local/lib/python3.5/site-packages/ipykernel_launcher.py:43: UserWarning: Update your `Dense` call to the Keras 2 API: `Dense(1, activation=\"sigmoid\", kernel_initializer=\"glorot_uniform\")`\n",
      "/home/yoda/.local/lib/python3.5/site-packages/ipykernel_launcher.py:45: UserWarning: The `nb_epoch` argument in `fit` has been renamed `epochs`.\n"
     ]
    },
    {
     "name": "stdout",
     "output_type": "stream",
     "text": [
      "AUC : 0.5390334491224006,  Score/Loss : 0.4609665508775994, F1_Score_average: 0.7043478260869565, Precision, Recall, F1_score, Support: (array([0.64     , 0.5472973]), array([0.02584814, 0.98780488]), array([0.04968944, 0.70434783]), array([619, 738]))\n",
      "F1_score_micro: 0.5490051584377302\n",
      "F1_score_macro: 0.3770186335403726\n",
      "Confusion Matrix\n",
      "[[ 16 603]\n",
      " [  9 729]]\n",
      "END\n",
      "\n",
      "\n",
      "Training with params : \n",
      "{'attention': 40, 'dropout': 0.3, 'dense3': 5, 'dense1': 125, 'lstm_size': 30, 'dense2': 8}\n"
     ]
    },
    {
     "name": "stderr",
     "output_type": "stream",
     "text": [
      "/home/yoda/.local/lib/python3.5/site-packages/ipykernel_launcher.py:29: UserWarning: The `input_dim` and `input_length` arguments in recurrent layers are deprecated. Use `input_shape` instead.\n",
      "/home/yoda/.local/lib/python3.5/site-packages/ipykernel_launcher.py:29: UserWarning: Update your `LSTM` call to the Keras 2 API: `LSTM(30, return_sequences=True, input_shape=(49, 37))`\n",
      "/home/yoda/.local/lib/python3.5/site-packages/ipykernel_launcher.py:37: UserWarning: Update your `Dense` call to the Keras 2 API: `Dense(125, activation=\"relu\", kernel_initializer=\"glorot_uniform\")`\n",
      "/home/yoda/.local/lib/python3.5/site-packages/ipykernel_launcher.py:39: UserWarning: Update your `Dense` call to the Keras 2 API: `Dense(8, activation=\"relu\", kernel_initializer=\"glorot_uniform\")`\n",
      "/home/yoda/.local/lib/python3.5/site-packages/ipykernel_launcher.py:41: UserWarning: Update your `Dense` call to the Keras 2 API: `Dense(5, activation=\"relu\", kernel_initializer=\"glorot_uniform\")`\n",
      "/home/yoda/.local/lib/python3.5/site-packages/ipykernel_launcher.py:43: UserWarning: Update your `Dense` call to the Keras 2 API: `Dense(1, activation=\"sigmoid\", kernel_initializer=\"glorot_uniform\")`\n",
      "/home/yoda/.local/lib/python3.5/site-packages/ipykernel_launcher.py:45: UserWarning: The `nb_epoch` argument in `fit` has been renamed `epochs`.\n"
     ]
    },
    {
     "name": "stdout",
     "output_type": "stream",
     "text": [
      "AUC : 0.5095422141871848,  Score/Loss : 0.4904577858128152, F1_Score_average: 0.5681969394544244, Precision, Recall, F1_score, Support: (array([0.47466216, 0.55816993]), array([0.453958  , 0.57859079]), array([0.46407927, 0.56819694]), array([619, 738]))\n",
      "F1_score_micro: 0.5217391304347826\n",
      "F1_score_macro: 0.5161381063911263\n",
      "Confusion Matrix\n",
      "[[281 338]\n",
      " [311 427]]\n",
      "END\n",
      "\n",
      "\n",
      "Training with params : \n",
      "{'attention': 10, 'dropout': 0.3, 'dense3': 5, 'dense1': 80, 'lstm_size': 30, 'dense2': 14}\n"
     ]
    },
    {
     "name": "stderr",
     "output_type": "stream",
     "text": [
      "/home/yoda/.local/lib/python3.5/site-packages/ipykernel_launcher.py:29: UserWarning: The `input_dim` and `input_length` arguments in recurrent layers are deprecated. Use `input_shape` instead.\n",
      "/home/yoda/.local/lib/python3.5/site-packages/ipykernel_launcher.py:29: UserWarning: Update your `LSTM` call to the Keras 2 API: `LSTM(30, return_sequences=True, input_shape=(49, 37))`\n",
      "/home/yoda/.local/lib/python3.5/site-packages/ipykernel_launcher.py:37: UserWarning: Update your `Dense` call to the Keras 2 API: `Dense(80, activation=\"relu\", kernel_initializer=\"glorot_uniform\")`\n",
      "/home/yoda/.local/lib/python3.5/site-packages/ipykernel_launcher.py:39: UserWarning: Update your `Dense` call to the Keras 2 API: `Dense(14, activation=\"relu\", kernel_initializer=\"glorot_uniform\")`\n",
      "/home/yoda/.local/lib/python3.5/site-packages/ipykernel_launcher.py:41: UserWarning: Update your `Dense` call to the Keras 2 API: `Dense(5, activation=\"relu\", kernel_initializer=\"glorot_uniform\")`\n",
      "/home/yoda/.local/lib/python3.5/site-packages/ipykernel_launcher.py:43: UserWarning: Update your `Dense` call to the Keras 2 API: `Dense(1, activation=\"sigmoid\", kernel_initializer=\"glorot_uniform\")`\n",
      "/home/yoda/.local/lib/python3.5/site-packages/ipykernel_launcher.py:45: UserWarning: The `nb_epoch` argument in `fit` has been renamed `epochs`.\n"
     ]
    },
    {
     "name": "stdout",
     "output_type": "stream",
     "text": [
      "AUC : 0.562018927031027,  Score/Loss : 0.43798107296897304, F1_Score_average: 0.700587084148728, Precision, Recall, F1_score, Support: (array([0.56862745, 0.5482389 ]), array([0.04684976, 0.9701897 ]), array([0.08656716, 0.70058708]), array([619, 738]))\n",
      "F1_score_micro: 0.5490051584377302\n",
      "F1_score_macro: 0.3935771241639162\n",
      "Confusion Matrix\n",
      "[[ 29 590]\n",
      " [ 22 716]]\n",
      "END\n",
      "\n",
      "\n",
      "Training with params : \n",
      "{'attention': 10, 'dropout': 0.3, 'dense3': 5, 'dense1': 125, 'lstm_size': 20, 'dense2': 11}\n"
     ]
    },
    {
     "name": "stderr",
     "output_type": "stream",
     "text": [
      "/home/yoda/.local/lib/python3.5/site-packages/ipykernel_launcher.py:29: UserWarning: The `input_dim` and `input_length` arguments in recurrent layers are deprecated. Use `input_shape` instead.\n",
      "/home/yoda/.local/lib/python3.5/site-packages/ipykernel_launcher.py:29: UserWarning: Update your `LSTM` call to the Keras 2 API: `LSTM(20, return_sequences=True, input_shape=(49, 37))`\n",
      "/home/yoda/.local/lib/python3.5/site-packages/ipykernel_launcher.py:37: UserWarning: Update your `Dense` call to the Keras 2 API: `Dense(125, activation=\"relu\", kernel_initializer=\"glorot_uniform\")`\n",
      "/home/yoda/.local/lib/python3.5/site-packages/ipykernel_launcher.py:39: UserWarning: Update your `Dense` call to the Keras 2 API: `Dense(11, activation=\"relu\", kernel_initializer=\"glorot_uniform\")`\n",
      "/home/yoda/.local/lib/python3.5/site-packages/ipykernel_launcher.py:41: UserWarning: Update your `Dense` call to the Keras 2 API: `Dense(5, activation=\"relu\", kernel_initializer=\"glorot_uniform\")`\n",
      "/home/yoda/.local/lib/python3.5/site-packages/ipykernel_launcher.py:43: UserWarning: Update your `Dense` call to the Keras 2 API: `Dense(1, activation=\"sigmoid\", kernel_initializer=\"glorot_uniform\")`\n",
      "/home/yoda/.local/lib/python3.5/site-packages/ipykernel_launcher.py:45: UserWarning: The `nb_epoch` argument in `fit` has been renamed `epochs`.\n"
     ]
    },
    {
     "name": "stdout",
     "output_type": "stream",
     "text": [
      "AUC : 0.5537828922199801,  Score/Loss : 0.4462171077800199, F1_Score_average: 0.6793227296049256, Precision, Recall, F1_score, Support: (array([0.47945205, 0.54665566]), array([0.11308562, 0.89701897]), array([0.18300654, 0.67932273]), array([619, 738]))\n",
      "F1_score_micro: 0.5394252026529108\n",
      "F1_score_macro: 0.431164632776319\n",
      "Confusion Matrix\n",
      "[[ 70 549]\n",
      " [ 76 662]]\n",
      "END\n",
      "\n",
      "\n",
      "Training with params : \n",
      "{'attention': 10, 'dropout': 0.3, 'dense3': 7, 'dense1': 80, 'lstm_size': 20, 'dense2': 14}\n"
     ]
    },
    {
     "name": "stderr",
     "output_type": "stream",
     "text": [
      "/home/yoda/.local/lib/python3.5/site-packages/ipykernel_launcher.py:29: UserWarning: The `input_dim` and `input_length` arguments in recurrent layers are deprecated. Use `input_shape` instead.\n",
      "/home/yoda/.local/lib/python3.5/site-packages/ipykernel_launcher.py:29: UserWarning: Update your `LSTM` call to the Keras 2 API: `LSTM(20, return_sequences=True, input_shape=(49, 37))`\n",
      "/home/yoda/.local/lib/python3.5/site-packages/ipykernel_launcher.py:37: UserWarning: Update your `Dense` call to the Keras 2 API: `Dense(80, activation=\"relu\", kernel_initializer=\"glorot_uniform\")`\n",
      "/home/yoda/.local/lib/python3.5/site-packages/ipykernel_launcher.py:39: UserWarning: Update your `Dense` call to the Keras 2 API: `Dense(14, activation=\"relu\", kernel_initializer=\"glorot_uniform\")`\n",
      "/home/yoda/.local/lib/python3.5/site-packages/ipykernel_launcher.py:41: UserWarning: Update your `Dense` call to the Keras 2 API: `Dense(7, activation=\"relu\", kernel_initializer=\"glorot_uniform\")`\n",
      "/home/yoda/.local/lib/python3.5/site-packages/ipykernel_launcher.py:43: UserWarning: Update your `Dense` call to the Keras 2 API: `Dense(1, activation=\"sigmoid\", kernel_initializer=\"glorot_uniform\")`\n",
      "/home/yoda/.local/lib/python3.5/site-packages/ipykernel_launcher.py:45: UserWarning: The `nb_epoch` argument in `fit` has been renamed `epochs`.\n"
     ]
    },
    {
     "name": "stdout",
     "output_type": "stream",
     "text": [
      "AUC : 0.5436296702744179,  Score/Loss : 0.4563703297255821, F1_Score_average: 0.5834957764782327, Precision, Recall, F1_score, Support: (array([0.48021583, 0.56054931]), array([0.43134087, 0.60840108]), array([0.45446809, 0.58349578]), array([619, 738]))\n",
      "F1_score_micro: 0.5276344878408253\n",
      "F1_score_macro: 0.5189819307923078\n",
      "Confusion Matrix\n",
      "[[267 352]\n",
      " [289 449]]\n",
      "END\n",
      "\n",
      "\n",
      "Training with params : \n",
      "{'attention': 20, 'dropout': 0.5, 'dense3': 6, 'dense1': 100, 'lstm_size': 15, 'dense2': 17}\n"
     ]
    },
    {
     "name": "stderr",
     "output_type": "stream",
     "text": [
      "/home/yoda/.local/lib/python3.5/site-packages/ipykernel_launcher.py:29: UserWarning: The `input_dim` and `input_length` arguments in recurrent layers are deprecated. Use `input_shape` instead.\n",
      "/home/yoda/.local/lib/python3.5/site-packages/ipykernel_launcher.py:29: UserWarning: Update your `LSTM` call to the Keras 2 API: `LSTM(15, return_sequences=True, input_shape=(49, 37))`\n",
      "/home/yoda/.local/lib/python3.5/site-packages/ipykernel_launcher.py:37: UserWarning: Update your `Dense` call to the Keras 2 API: `Dense(100, activation=\"relu\", kernel_initializer=\"glorot_uniform\")`\n",
      "/home/yoda/.local/lib/python3.5/site-packages/ipykernel_launcher.py:39: UserWarning: Update your `Dense` call to the Keras 2 API: `Dense(17, activation=\"relu\", kernel_initializer=\"glorot_uniform\")`\n",
      "/home/yoda/.local/lib/python3.5/site-packages/ipykernel_launcher.py:41: UserWarning: Update your `Dense` call to the Keras 2 API: `Dense(6, activation=\"relu\", kernel_initializer=\"glorot_uniform\")`\n",
      "/home/yoda/.local/lib/python3.5/site-packages/ipykernel_launcher.py:43: UserWarning: Update your `Dense` call to the Keras 2 API: `Dense(1, activation=\"sigmoid\", kernel_initializer=\"glorot_uniform\")`\n",
      "/home/yoda/.local/lib/python3.5/site-packages/ipykernel_launcher.py:45: UserWarning: The `nb_epoch` argument in `fit` has been renamed `epochs`.\n"
     ]
    },
    {
     "name": "stdout",
     "output_type": "stream",
     "text": [
      "AUC : 0.5122278064274955,  Score/Loss : 0.48777219357250445, F1_Score_average: 0.7000964320154291, Precision, Recall, F1_score, Support: (array([0.42857143, 0.54341317]), array([0.01453958, 0.98373984]), array([0.028125  , 0.70009643]), array([619, 738]))\n",
      "F1_score_micro: 0.5416359616801769\n",
      "F1_score_macro: 0.36411071600771455\n",
      "Confusion Matrix\n",
      "[[  9 610]\n",
      " [ 12 726]]\n",
      "END\n",
      "\n",
      "\n",
      "Training with params : \n",
      "{'attention': 20, 'dropout': 0.5, 'dense3': 6, 'dense1': 125, 'lstm_size': 15, 'dense2': 17}\n"
     ]
    },
    {
     "name": "stderr",
     "output_type": "stream",
     "text": [
      "/home/yoda/.local/lib/python3.5/site-packages/ipykernel_launcher.py:29: UserWarning: The `input_dim` and `input_length` arguments in recurrent layers are deprecated. Use `input_shape` instead.\n",
      "/home/yoda/.local/lib/python3.5/site-packages/ipykernel_launcher.py:29: UserWarning: Update your `LSTM` call to the Keras 2 API: `LSTM(15, return_sequences=True, input_shape=(49, 37))`\n",
      "/home/yoda/.local/lib/python3.5/site-packages/ipykernel_launcher.py:37: UserWarning: Update your `Dense` call to the Keras 2 API: `Dense(125, activation=\"relu\", kernel_initializer=\"glorot_uniform\")`\n",
      "/home/yoda/.local/lib/python3.5/site-packages/ipykernel_launcher.py:39: UserWarning: Update your `Dense` call to the Keras 2 API: `Dense(17, activation=\"relu\", kernel_initializer=\"glorot_uniform\")`\n",
      "/home/yoda/.local/lib/python3.5/site-packages/ipykernel_launcher.py:41: UserWarning: Update your `Dense` call to the Keras 2 API: `Dense(6, activation=\"relu\", kernel_initializer=\"glorot_uniform\")`\n",
      "/home/yoda/.local/lib/python3.5/site-packages/ipykernel_launcher.py:43: UserWarning: Update your `Dense` call to the Keras 2 API: `Dense(1, activation=\"sigmoid\", kernel_initializer=\"glorot_uniform\")`\n",
      "/home/yoda/.local/lib/python3.5/site-packages/ipykernel_launcher.py:45: UserWarning: The `nb_epoch` argument in `fit` has been renamed `epochs`.\n"
     ]
    },
    {
     "name": "stdout",
     "output_type": "stream",
     "text": [
      "AUC : 0.5028156636593573,  Score/Loss : 0.49718433634064274, F1_Score_average: 0.6750503018108652, Precision, Recall, F1_score, Support: (array([0.37383178, 0.5368    ]), array([0.06462036, 0.90921409]), array([0.11019284, 0.6750503 ]), array([619, 738]))\n",
      "F1_score_micro: 0.5239498894620487\n",
      "F1_score_macro: 0.392621569638215\n",
      "Confusion Matrix\n",
      "[[ 40 579]\n",
      " [ 67 671]]\n",
      "END\n",
      "\n",
      "\n",
      "Training with params : \n",
      "{'attention': 40, 'dropout': 0.3, 'dense3': 6, 'dense1': 125, 'lstm_size': 15, 'dense2': 11}\n"
     ]
    },
    {
     "name": "stderr",
     "output_type": "stream",
     "text": [
      "/home/yoda/.local/lib/python3.5/site-packages/ipykernel_launcher.py:29: UserWarning: The `input_dim` and `input_length` arguments in recurrent layers are deprecated. Use `input_shape` instead.\n",
      "/home/yoda/.local/lib/python3.5/site-packages/ipykernel_launcher.py:29: UserWarning: Update your `LSTM` call to the Keras 2 API: `LSTM(15, return_sequences=True, input_shape=(49, 37))`\n",
      "/home/yoda/.local/lib/python3.5/site-packages/ipykernel_launcher.py:37: UserWarning: Update your `Dense` call to the Keras 2 API: `Dense(125, activation=\"relu\", kernel_initializer=\"glorot_uniform\")`\n",
      "/home/yoda/.local/lib/python3.5/site-packages/ipykernel_launcher.py:39: UserWarning: Update your `Dense` call to the Keras 2 API: `Dense(11, activation=\"relu\", kernel_initializer=\"glorot_uniform\")`\n",
      "/home/yoda/.local/lib/python3.5/site-packages/ipykernel_launcher.py:41: UserWarning: Update your `Dense` call to the Keras 2 API: `Dense(6, activation=\"relu\", kernel_initializer=\"glorot_uniform\")`\n",
      "/home/yoda/.local/lib/python3.5/site-packages/ipykernel_launcher.py:43: UserWarning: Update your `Dense` call to the Keras 2 API: `Dense(1, activation=\"sigmoid\", kernel_initializer=\"glorot_uniform\")`\n",
      "/home/yoda/.local/lib/python3.5/site-packages/ipykernel_launcher.py:45: UserWarning: The `nb_epoch` argument in `fit` has been renamed `epochs`.\n"
     ]
    },
    {
     "name": "stdout",
     "output_type": "stream",
     "text": [
      "AUC : 0.5445937290273499,  Score/Loss : 0.4554062709726501, F1_Score_average: 0.7052631578947368, Precision, Recall, F1_score, Support: (array([0.8       , 0.54511834]), array([0.00646204, 0.99864499]), array([0.01282051, 0.70526316]), array([619, 738]))\n",
      "F1_score_micro: 0.5460574797347089\n",
      "F1_score_macro: 0.3590418353576248\n",
      "Confusion Matrix\n",
      "[[  4 615]\n",
      " [  1 737]]\n",
      "END\n",
      "\n",
      "\n",
      "Training with params : \n",
      "{'attention': 30, 'dropout': 0.3, 'dense3': 6, 'dense1': 100, 'lstm_size': 15, 'dense2': 11}\n"
     ]
    },
    {
     "name": "stderr",
     "output_type": "stream",
     "text": [
      "/home/yoda/.local/lib/python3.5/site-packages/ipykernel_launcher.py:29: UserWarning: The `input_dim` and `input_length` arguments in recurrent layers are deprecated. Use `input_shape` instead.\n",
      "/home/yoda/.local/lib/python3.5/site-packages/ipykernel_launcher.py:29: UserWarning: Update your `LSTM` call to the Keras 2 API: `LSTM(15, return_sequences=True, input_shape=(49, 37))`\n",
      "/home/yoda/.local/lib/python3.5/site-packages/ipykernel_launcher.py:37: UserWarning: Update your `Dense` call to the Keras 2 API: `Dense(100, activation=\"relu\", kernel_initializer=\"glorot_uniform\")`\n",
      "/home/yoda/.local/lib/python3.5/site-packages/ipykernel_launcher.py:39: UserWarning: Update your `Dense` call to the Keras 2 API: `Dense(11, activation=\"relu\", kernel_initializer=\"glorot_uniform\")`\n",
      "/home/yoda/.local/lib/python3.5/site-packages/ipykernel_launcher.py:41: UserWarning: Update your `Dense` call to the Keras 2 API: `Dense(6, activation=\"relu\", kernel_initializer=\"glorot_uniform\")`\n",
      "/home/yoda/.local/lib/python3.5/site-packages/ipykernel_launcher.py:43: UserWarning: Update your `Dense` call to the Keras 2 API: `Dense(1, activation=\"sigmoid\", kernel_initializer=\"glorot_uniform\")`\n",
      "/home/yoda/.local/lib/python3.5/site-packages/ipykernel_launcher.py:45: UserWarning: The `nb_epoch` argument in `fit` has been renamed `epochs`.\n",
      "/home/yoda/.local/lib/python3.5/site-packages/sklearn/metrics/classification.py:1143: UndefinedMetricWarning: Precision and F-score are ill-defined and being set to 0.0 in labels with no predicted samples.\n",
      "  'precision', 'predicted', average, warn_for)\n",
      "/home/yoda/.local/lib/python3.5/site-packages/sklearn/metrics/classification.py:1143: UndefinedMetricWarning: F-score is ill-defined and being set to 0.0 in labels with no predicted samples.\n",
      "  'precision', 'predicted', average, warn_for)\n",
      "/home/yoda/.local/lib/python3.5/site-packages/ipykernel_launcher.py:29: UserWarning: The `input_dim` and `input_length` arguments in recurrent layers are deprecated. Use `input_shape` instead.\n",
      "/home/yoda/.local/lib/python3.5/site-packages/ipykernel_launcher.py:29: UserWarning: Update your `LSTM` call to the Keras 2 API: `LSTM(15, return_sequences=True, input_shape=(49, 37))`\n"
     ]
    },
    {
     "name": "stdout",
     "output_type": "stream",
     "text": [
      "AUC : 0.5625413987814822,  Score/Loss : 0.43745860121851776, F1_Score_average: 0.7045346062052505, Precision, Recall, F1_score, Support: (array([0.        , 0.54384672]), array([0., 1.]), array([0.        , 0.70453461]), array([619, 738]))\n",
      "F1_score_micro: 0.5438467207074429\n",
      "F1_score_macro: 0.3522673031026253\n",
      "Confusion Matrix\n",
      "[[  0 619]\n",
      " [  0 738]]\n",
      "END\n",
      "\n",
      "\n",
      "Training with params : \n",
      "{'attention': 20, 'dropout': 0.3, 'dense3': 7, 'dense1': 125, 'lstm_size': 15, 'dense2': 17}\n"
     ]
    },
    {
     "name": "stderr",
     "output_type": "stream",
     "text": [
      "/home/yoda/.local/lib/python3.5/site-packages/ipykernel_launcher.py:37: UserWarning: Update your `Dense` call to the Keras 2 API: `Dense(125, activation=\"relu\", kernel_initializer=\"glorot_uniform\")`\n",
      "/home/yoda/.local/lib/python3.5/site-packages/ipykernel_launcher.py:39: UserWarning: Update your `Dense` call to the Keras 2 API: `Dense(17, activation=\"relu\", kernel_initializer=\"glorot_uniform\")`\n",
      "/home/yoda/.local/lib/python3.5/site-packages/ipykernel_launcher.py:41: UserWarning: Update your `Dense` call to the Keras 2 API: `Dense(7, activation=\"relu\", kernel_initializer=\"glorot_uniform\")`\n",
      "/home/yoda/.local/lib/python3.5/site-packages/ipykernel_launcher.py:43: UserWarning: Update your `Dense` call to the Keras 2 API: `Dense(1, activation=\"sigmoid\", kernel_initializer=\"glorot_uniform\")`\n",
      "/home/yoda/.local/lib/python3.5/site-packages/ipykernel_launcher.py:45: UserWarning: The `nb_epoch` argument in `fit` has been renamed `epochs`.\n"
     ]
    },
    {
     "name": "stdout",
     "output_type": "stream",
     "text": [
      "AUC : 0.5828030281500785,  Score/Loss : 0.41719697184992155, F1_Score_average: 0.5105386416861827, Precision, Recall, F1_score, Support: (array([0.495086  , 0.60220994]), array([0.65105008, 0.44308943]), array([0.56245639, 0.51053864]), array([619, 738]))\n",
      "F1_score_micro: 0.5379513633014001\n",
      "F1_score_macro: 0.5364975134460223\n",
      "Confusion Matrix\n",
      "[[403 216]\n",
      " [411 327]]\n",
      "END\n",
      "\n",
      "\n",
      "Training with params : \n",
      "{'attention': 20, 'dropout': 0.5, 'dense3': 7, 'dense1': 125, 'lstm_size': 20, 'dense2': 17}\n"
     ]
    },
    {
     "name": "stderr",
     "output_type": "stream",
     "text": [
      "/home/yoda/.local/lib/python3.5/site-packages/ipykernel_launcher.py:29: UserWarning: The `input_dim` and `input_length` arguments in recurrent layers are deprecated. Use `input_shape` instead.\n",
      "/home/yoda/.local/lib/python3.5/site-packages/ipykernel_launcher.py:29: UserWarning: Update your `LSTM` call to the Keras 2 API: `LSTM(20, return_sequences=True, input_shape=(49, 37))`\n",
      "/home/yoda/.local/lib/python3.5/site-packages/ipykernel_launcher.py:37: UserWarning: Update your `Dense` call to the Keras 2 API: `Dense(125, activation=\"relu\", kernel_initializer=\"glorot_uniform\")`\n",
      "/home/yoda/.local/lib/python3.5/site-packages/ipykernel_launcher.py:39: UserWarning: Update your `Dense` call to the Keras 2 API: `Dense(17, activation=\"relu\", kernel_initializer=\"glorot_uniform\")`\n",
      "/home/yoda/.local/lib/python3.5/site-packages/ipykernel_launcher.py:41: UserWarning: Update your `Dense` call to the Keras 2 API: `Dense(7, activation=\"relu\", kernel_initializer=\"glorot_uniform\")`\n",
      "/home/yoda/.local/lib/python3.5/site-packages/ipykernel_launcher.py:43: UserWarning: Update your `Dense` call to the Keras 2 API: `Dense(1, activation=\"sigmoid\", kernel_initializer=\"glorot_uniform\")`\n",
      "/home/yoda/.local/lib/python3.5/site-packages/ipykernel_launcher.py:45: UserWarning: The `nb_epoch` argument in `fit` has been renamed `epochs`.\n"
     ]
    },
    {
     "name": "stdout",
     "output_type": "stream",
     "text": [
      "AUC : 0.5202036984004494,  Score/Loss : 0.47979630159955056, F1_Score_average: 0.2984771573604061, Precision, Recall, F1_score, Support: (array([0.46756757, 0.5951417 ]), array([0.83844911, 0.19918699]), array([0.60034702, 0.29847716]), array([619, 738]))\n",
      "F1_score_micro: 0.49078850405305824\n",
      "F1_score_macro: 0.4494120893800295\n",
      "Confusion Matrix\n",
      "[[519 100]\n",
      " [591 147]]\n",
      "END\n",
      "\n",
      "\n",
      "Training with params : \n",
      "{'attention': 20, 'dropout': 0.3, 'dense3': 7, 'dense1': 125, 'lstm_size': 15, 'dense2': 17}\n"
     ]
    },
    {
     "name": "stderr",
     "output_type": "stream",
     "text": [
      "/home/yoda/.local/lib/python3.5/site-packages/ipykernel_launcher.py:29: UserWarning: The `input_dim` and `input_length` arguments in recurrent layers are deprecated. Use `input_shape` instead.\n",
      "/home/yoda/.local/lib/python3.5/site-packages/ipykernel_launcher.py:29: UserWarning: Update your `LSTM` call to the Keras 2 API: `LSTM(15, return_sequences=True, input_shape=(49, 37))`\n",
      "/home/yoda/.local/lib/python3.5/site-packages/ipykernel_launcher.py:37: UserWarning: Update your `Dense` call to the Keras 2 API: `Dense(125, activation=\"relu\", kernel_initializer=\"glorot_uniform\")`\n",
      "/home/yoda/.local/lib/python3.5/site-packages/ipykernel_launcher.py:39: UserWarning: Update your `Dense` call to the Keras 2 API: `Dense(17, activation=\"relu\", kernel_initializer=\"glorot_uniform\")`\n",
      "/home/yoda/.local/lib/python3.5/site-packages/ipykernel_launcher.py:41: UserWarning: Update your `Dense` call to the Keras 2 API: `Dense(7, activation=\"relu\", kernel_initializer=\"glorot_uniform\")`\n",
      "/home/yoda/.local/lib/python3.5/site-packages/ipykernel_launcher.py:43: UserWarning: Update your `Dense` call to the Keras 2 API: `Dense(1, activation=\"sigmoid\", kernel_initializer=\"glorot_uniform\")`\n",
      "/home/yoda/.local/lib/python3.5/site-packages/ipykernel_launcher.py:45: UserWarning: The `nb_epoch` argument in `fit` has been renamed `epochs`.\n",
      "/home/yoda/.local/lib/python3.5/site-packages/sklearn/metrics/classification.py:1143: UndefinedMetricWarning: Precision and F-score are ill-defined and being set to 0.0 in labels with no predicted samples.\n",
      "  'precision', 'predicted', average, warn_for)\n",
      "/home/yoda/.local/lib/python3.5/site-packages/sklearn/metrics/classification.py:1143: UndefinedMetricWarning: F-score is ill-defined and being set to 0.0 in labels with no predicted samples.\n",
      "  'precision', 'predicted', average, warn_for)\n",
      "/home/yoda/.local/lib/python3.5/site-packages/ipykernel_launcher.py:29: UserWarning: The `input_dim` and `input_length` arguments in recurrent layers are deprecated. Use `input_shape` instead.\n",
      "/home/yoda/.local/lib/python3.5/site-packages/ipykernel_launcher.py:29: UserWarning: Update your `LSTM` call to the Keras 2 API: `LSTM(20, return_sequences=True, input_shape=(49, 37))`\n"
     ]
    },
    {
     "name": "stdout",
     "output_type": "stream",
     "text": [
      "AUC : 0.5337606379839149,  Score/Loss : 0.46623936201608507, F1_Score_average: 0.7045346062052505, Precision, Recall, F1_score, Support: (array([0.        , 0.54384672]), array([0., 1.]), array([0.        , 0.70453461]), array([619, 738]))\n",
      "F1_score_micro: 0.5438467207074429\n",
      "F1_score_macro: 0.3522673031026253\n",
      "Confusion Matrix\n",
      "[[  0 619]\n",
      " [  0 738]]\n",
      "END\n",
      "\n",
      "\n",
      "Training with params : \n",
      "{'attention': 20, 'dropout': 0.3, 'dense3': 7, 'dense1': 125, 'lstm_size': 20, 'dense2': 17}\n"
     ]
    },
    {
     "name": "stderr",
     "output_type": "stream",
     "text": [
      "/home/yoda/.local/lib/python3.5/site-packages/ipykernel_launcher.py:37: UserWarning: Update your `Dense` call to the Keras 2 API: `Dense(125, activation=\"relu\", kernel_initializer=\"glorot_uniform\")`\n",
      "/home/yoda/.local/lib/python3.5/site-packages/ipykernel_launcher.py:39: UserWarning: Update your `Dense` call to the Keras 2 API: `Dense(17, activation=\"relu\", kernel_initializer=\"glorot_uniform\")`\n",
      "/home/yoda/.local/lib/python3.5/site-packages/ipykernel_launcher.py:41: UserWarning: Update your `Dense` call to the Keras 2 API: `Dense(7, activation=\"relu\", kernel_initializer=\"glorot_uniform\")`\n",
      "/home/yoda/.local/lib/python3.5/site-packages/ipykernel_launcher.py:43: UserWarning: Update your `Dense` call to the Keras 2 API: `Dense(1, activation=\"sigmoid\", kernel_initializer=\"glorot_uniform\")`\n",
      "/home/yoda/.local/lib/python3.5/site-packages/ipykernel_launcher.py:45: UserWarning: The `nb_epoch` argument in `fit` has been renamed `epochs`.\n"
     ]
    },
    {
     "name": "stdout",
     "output_type": "stream",
     "text": [
      "AUC : 0.5692111113782978,  Score/Loss : 0.43078888862170217, F1_Score_average: 0.521875, Precision, Recall, F1_score, Support: (array([0.50429448, 0.61623616]), array([0.66397415, 0.45257453]), array([0.57322176, 0.521875  ]), array([619, 738]))\n",
      "F1_score_micro: 0.5490051584377302\n",
      "F1_score_macro: 0.5475483786610879\n",
      "Confusion Matrix\n",
      "[[411 208]\n",
      " [404 334]]\n",
      "END\n",
      "\n",
      "\n",
      "Training with params : \n",
      "{'attention': 20, 'dropout': 0.3, 'dense3': 7, 'dense1': 125, 'lstm_size': 15, 'dense2': 17}\n"
     ]
    },
    {
     "name": "stderr",
     "output_type": "stream",
     "text": [
      "/home/yoda/.local/lib/python3.5/site-packages/ipykernel_launcher.py:29: UserWarning: The `input_dim` and `input_length` arguments in recurrent layers are deprecated. Use `input_shape` instead.\n",
      "/home/yoda/.local/lib/python3.5/site-packages/ipykernel_launcher.py:29: UserWarning: Update your `LSTM` call to the Keras 2 API: `LSTM(15, return_sequences=True, input_shape=(49, 37))`\n",
      "/home/yoda/.local/lib/python3.5/site-packages/ipykernel_launcher.py:37: UserWarning: Update your `Dense` call to the Keras 2 API: `Dense(125, activation=\"relu\", kernel_initializer=\"glorot_uniform\")`\n",
      "/home/yoda/.local/lib/python3.5/site-packages/ipykernel_launcher.py:39: UserWarning: Update your `Dense` call to the Keras 2 API: `Dense(17, activation=\"relu\", kernel_initializer=\"glorot_uniform\")`\n",
      "/home/yoda/.local/lib/python3.5/site-packages/ipykernel_launcher.py:41: UserWarning: Update your `Dense` call to the Keras 2 API: `Dense(7, activation=\"relu\", kernel_initializer=\"glorot_uniform\")`\n",
      "/home/yoda/.local/lib/python3.5/site-packages/ipykernel_launcher.py:43: UserWarning: Update your `Dense` call to the Keras 2 API: `Dense(1, activation=\"sigmoid\", kernel_initializer=\"glorot_uniform\")`\n",
      "/home/yoda/.local/lib/python3.5/site-packages/ipykernel_launcher.py:45: UserWarning: The `nb_epoch` argument in `fit` has been renamed `epochs`.\n"
     ]
    },
    {
     "name": "stdout",
     "output_type": "stream",
     "text": [
      "AUC : 0.5592404266342546,  Score/Loss : 0.44075957336574545, F1_Score_average: 0.6943209876543209, Precision, Recall, F1_score, Support: (array([0.5       , 0.54623155]), array([0.05654281, 0.95257453]), array([0.10159652, 0.69432099]), array([619, 738]))\n",
      "F1_score_micro: 0.5438467207074429\n",
      "F1_score_macro: 0.39795875217258864\n",
      "Confusion Matrix\n",
      "[[ 35 584]\n",
      " [ 35 703]]\n",
      "END\n",
      "\n",
      "\n",
      "Training with params : \n",
      "{'attention': 20, 'dropout': 0.5, 'dense3': 7, 'dense1': 80, 'lstm_size': 30, 'dense2': 17}\n"
     ]
    },
    {
     "name": "stderr",
     "output_type": "stream",
     "text": [
      "/home/yoda/.local/lib/python3.5/site-packages/ipykernel_launcher.py:29: UserWarning: The `input_dim` and `input_length` arguments in recurrent layers are deprecated. Use `input_shape` instead.\n",
      "/home/yoda/.local/lib/python3.5/site-packages/ipykernel_launcher.py:29: UserWarning: Update your `LSTM` call to the Keras 2 API: `LSTM(30, return_sequences=True, input_shape=(49, 37))`\n",
      "/home/yoda/.local/lib/python3.5/site-packages/ipykernel_launcher.py:37: UserWarning: Update your `Dense` call to the Keras 2 API: `Dense(80, activation=\"relu\", kernel_initializer=\"glorot_uniform\")`\n",
      "/home/yoda/.local/lib/python3.5/site-packages/ipykernel_launcher.py:39: UserWarning: Update your `Dense` call to the Keras 2 API: `Dense(17, activation=\"relu\", kernel_initializer=\"glorot_uniform\")`\n",
      "/home/yoda/.local/lib/python3.5/site-packages/ipykernel_launcher.py:41: UserWarning: Update your `Dense` call to the Keras 2 API: `Dense(7, activation=\"relu\", kernel_initializer=\"glorot_uniform\")`\n",
      "/home/yoda/.local/lib/python3.5/site-packages/ipykernel_launcher.py:43: UserWarning: Update your `Dense` call to the Keras 2 API: `Dense(1, activation=\"sigmoid\", kernel_initializer=\"glorot_uniform\")`\n",
      "/home/yoda/.local/lib/python3.5/site-packages/ipykernel_launcher.py:45: UserWarning: The `nb_epoch` argument in `fit` has been renamed `epochs`.\n",
      "/home/yoda/.local/lib/python3.5/site-packages/sklearn/metrics/classification.py:1143: UndefinedMetricWarning: Precision and F-score are ill-defined and being set to 0.0 in labels with no predicted samples.\n",
      "  'precision', 'predicted', average, warn_for)\n",
      "/home/yoda/.local/lib/python3.5/site-packages/sklearn/metrics/classification.py:1143: UndefinedMetricWarning: F-score is ill-defined and being set to 0.0 in labels with no predicted samples.\n",
      "  'precision', 'predicted', average, warn_for)\n",
      "/home/yoda/.local/lib/python3.5/site-packages/ipykernel_launcher.py:29: UserWarning: The `input_dim` and `input_length` arguments in recurrent layers are deprecated. Use `input_shape` instead.\n",
      "/home/yoda/.local/lib/python3.5/site-packages/ipykernel_launcher.py:29: UserWarning: Update your `LSTM` call to the Keras 2 API: `LSTM(25, return_sequences=True, input_shape=(49, 37))`\n"
     ]
    },
    {
     "name": "stdout",
     "output_type": "stream",
     "text": [
      "AUC : 0.5096176337494891,  Score/Loss : 0.4903823662505109, F1_Score_average: 0.7045346062052505, Precision, Recall, F1_score, Support: (array([0.        , 0.54384672]), array([0., 1.]), array([0.        , 0.70453461]), array([619, 738]))\n",
      "F1_score_micro: 0.5438467207074429\n",
      "F1_score_macro: 0.3522673031026253\n",
      "Confusion Matrix\n",
      "[[  0 619]\n",
      " [  0 738]]\n",
      "END\n",
      "\n",
      "\n",
      "Training with params : \n",
      "{'attention': 40, 'dropout': 0.3, 'dense3': 6, 'dense1': 125, 'lstm_size': 25, 'dense2': 17}\n"
     ]
    },
    {
     "name": "stderr",
     "output_type": "stream",
     "text": [
      "/home/yoda/.local/lib/python3.5/site-packages/ipykernel_launcher.py:37: UserWarning: Update your `Dense` call to the Keras 2 API: `Dense(125, activation=\"relu\", kernel_initializer=\"glorot_uniform\")`\n",
      "/home/yoda/.local/lib/python3.5/site-packages/ipykernel_launcher.py:39: UserWarning: Update your `Dense` call to the Keras 2 API: `Dense(17, activation=\"relu\", kernel_initializer=\"glorot_uniform\")`\n",
      "/home/yoda/.local/lib/python3.5/site-packages/ipykernel_launcher.py:41: UserWarning: Update your `Dense` call to the Keras 2 API: `Dense(6, activation=\"relu\", kernel_initializer=\"glorot_uniform\")`\n",
      "/home/yoda/.local/lib/python3.5/site-packages/ipykernel_launcher.py:43: UserWarning: Update your `Dense` call to the Keras 2 API: `Dense(1, activation=\"sigmoid\", kernel_initializer=\"glorot_uniform\")`\n",
      "/home/yoda/.local/lib/python3.5/site-packages/ipykernel_launcher.py:45: UserWarning: The `nb_epoch` argument in `fit` has been renamed `epochs`.\n",
      "/home/yoda/.local/lib/python3.5/site-packages/sklearn/metrics/classification.py:1143: UndefinedMetricWarning: Precision and F-score are ill-defined and being set to 0.0 in labels with no predicted samples.\n",
      "  'precision', 'predicted', average, warn_for)\n",
      "/home/yoda/.local/lib/python3.5/site-packages/sklearn/metrics/classification.py:1143: UndefinedMetricWarning: F-score is ill-defined and being set to 0.0 in labels with no predicted samples.\n",
      "  'precision', 'predicted', average, warn_for)\n",
      "/home/yoda/.local/lib/python3.5/site-packages/ipykernel_launcher.py:29: UserWarning: The `input_dim` and `input_length` arguments in recurrent layers are deprecated. Use `input_shape` instead.\n",
      "/home/yoda/.local/lib/python3.5/site-packages/ipykernel_launcher.py:29: UserWarning: Update your `LSTM` call to the Keras 2 API: `LSTM(20, return_sequences=True, input_shape=(49, 37))`\n"
     ]
    },
    {
     "name": "stdout",
     "output_type": "stream",
     "text": [
      "AUC : 0.5621806965269838,  Score/Loss : 0.43781930347301623, F1_Score_average: 0.7045346062052505, Precision, Recall, F1_score, Support: (array([0.        , 0.54384672]), array([0., 1.]), array([0.        , 0.70453461]), array([619, 738]))\n",
      "F1_score_micro: 0.5438467207074429\n",
      "F1_score_macro: 0.3522673031026253\n",
      "Confusion Matrix\n",
      "[[  0 619]\n",
      " [  0 738]]\n",
      "END\n",
      "\n",
      "\n",
      "Training with params : \n",
      "{'attention': 20, 'dropout': 0.3, 'dense3': 7, 'dense1': 125, 'lstm_size': 20, 'dense2': 17}\n"
     ]
    },
    {
     "name": "stderr",
     "output_type": "stream",
     "text": [
      "/home/yoda/.local/lib/python3.5/site-packages/ipykernel_launcher.py:37: UserWarning: Update your `Dense` call to the Keras 2 API: `Dense(125, activation=\"relu\", kernel_initializer=\"glorot_uniform\")`\n",
      "/home/yoda/.local/lib/python3.5/site-packages/ipykernel_launcher.py:39: UserWarning: Update your `Dense` call to the Keras 2 API: `Dense(17, activation=\"relu\", kernel_initializer=\"glorot_uniform\")`\n",
      "/home/yoda/.local/lib/python3.5/site-packages/ipykernel_launcher.py:41: UserWarning: Update your `Dense` call to the Keras 2 API: `Dense(7, activation=\"relu\", kernel_initializer=\"glorot_uniform\")`\n",
      "/home/yoda/.local/lib/python3.5/site-packages/ipykernel_launcher.py:43: UserWarning: Update your `Dense` call to the Keras 2 API: `Dense(1, activation=\"sigmoid\", kernel_initializer=\"glorot_uniform\")`\n",
      "/home/yoda/.local/lib/python3.5/site-packages/ipykernel_launcher.py:45: UserWarning: The `nb_epoch` argument in `fit` has been renamed `epochs`.\n"
     ]
    },
    {
     "name": "stdout",
     "output_type": "stream",
     "text": [
      "AUC : 0.6082675142805303,  Score/Loss : 0.3917324857194697, F1_Score_average: 0.6875310481867858, Precision, Recall, F1_score, Support: (array([0.43902439, 0.5427451 ]), array([0.05815832, 0.93766938]), array([0.10271041, 0.68753105]), array([619, 738]))\n",
      "F1_score_micro: 0.5364775239498895\n",
      "F1_score_macro: 0.3951207309407538\n",
      "Confusion Matrix\n",
      "[[ 36 583]\n",
      " [ 46 692]]\n",
      "END\n",
      "\n",
      "\n",
      "Training with params : \n",
      "{'attention': 20, 'dropout': 0.3, 'dense3': 7, 'dense1': 80, 'lstm_size': 15, 'dense2': 8}\n"
     ]
    },
    {
     "name": "stderr",
     "output_type": "stream",
     "text": [
      "/home/yoda/.local/lib/python3.5/site-packages/ipykernel_launcher.py:29: UserWarning: The `input_dim` and `input_length` arguments in recurrent layers are deprecated. Use `input_shape` instead.\n",
      "/home/yoda/.local/lib/python3.5/site-packages/ipykernel_launcher.py:29: UserWarning: Update your `LSTM` call to the Keras 2 API: `LSTM(15, return_sequences=True, input_shape=(49, 37))`\n",
      "/home/yoda/.local/lib/python3.5/site-packages/ipykernel_launcher.py:37: UserWarning: Update your `Dense` call to the Keras 2 API: `Dense(80, activation=\"relu\", kernel_initializer=\"glorot_uniform\")`\n",
      "/home/yoda/.local/lib/python3.5/site-packages/ipykernel_launcher.py:39: UserWarning: Update your `Dense` call to the Keras 2 API: `Dense(8, activation=\"relu\", kernel_initializer=\"glorot_uniform\")`\n",
      "/home/yoda/.local/lib/python3.5/site-packages/ipykernel_launcher.py:41: UserWarning: Update your `Dense` call to the Keras 2 API: `Dense(7, activation=\"relu\", kernel_initializer=\"glorot_uniform\")`\n",
      "/home/yoda/.local/lib/python3.5/site-packages/ipykernel_launcher.py:43: UserWarning: Update your `Dense` call to the Keras 2 API: `Dense(1, activation=\"sigmoid\", kernel_initializer=\"glorot_uniform\")`\n",
      "/home/yoda/.local/lib/python3.5/site-packages/ipykernel_launcher.py:45: UserWarning: The `nb_epoch` argument in `fit` has been renamed `epochs`.\n"
     ]
    },
    {
     "name": "stdout",
     "output_type": "stream",
     "text": [
      "AUC : 0.5179476697541322,  Score/Loss : 0.4820523302458678, F1_Score_average: 0.7043062200956938, Precision, Recall, F1_score, Support: (array([0.6      , 0.5443787]), array([0.00484653, 0.99728997]), array([0.00961538, 0.70430622]), array([619, 738]))\n",
      "F1_score_micro: 0.5445836403831983\n",
      "F1_score_macro: 0.3569608023555392\n",
      "Confusion Matrix\n",
      "[[  3 616]\n",
      " [  2 736]]\n",
      "END\n",
      "\n",
      "\n",
      "Training with params : \n",
      "{'attention': 20, 'dropout': 0.3, 'dense3': 7, 'dense1': 125, 'lstm_size': 20, 'dense2': 17}\n"
     ]
    },
    {
     "name": "stderr",
     "output_type": "stream",
     "text": [
      "/home/yoda/.local/lib/python3.5/site-packages/ipykernel_launcher.py:29: UserWarning: The `input_dim` and `input_length` arguments in recurrent layers are deprecated. Use `input_shape` instead.\n",
      "/home/yoda/.local/lib/python3.5/site-packages/ipykernel_launcher.py:29: UserWarning: Update your `LSTM` call to the Keras 2 API: `LSTM(20, return_sequences=True, input_shape=(49, 37))`\n",
      "/home/yoda/.local/lib/python3.5/site-packages/ipykernel_launcher.py:37: UserWarning: Update your `Dense` call to the Keras 2 API: `Dense(125, activation=\"relu\", kernel_initializer=\"glorot_uniform\")`\n",
      "/home/yoda/.local/lib/python3.5/site-packages/ipykernel_launcher.py:39: UserWarning: Update your `Dense` call to the Keras 2 API: `Dense(17, activation=\"relu\", kernel_initializer=\"glorot_uniform\")`\n",
      "/home/yoda/.local/lib/python3.5/site-packages/ipykernel_launcher.py:41: UserWarning: Update your `Dense` call to the Keras 2 API: `Dense(7, activation=\"relu\", kernel_initializer=\"glorot_uniform\")`\n",
      "/home/yoda/.local/lib/python3.5/site-packages/ipykernel_launcher.py:43: UserWarning: Update your `Dense` call to the Keras 2 API: `Dense(1, activation=\"sigmoid\", kernel_initializer=\"glorot_uniform\")`\n",
      "/home/yoda/.local/lib/python3.5/site-packages/ipykernel_launcher.py:45: UserWarning: The `nb_epoch` argument in `fit` has been renamed `epochs`.\n"
     ]
    },
    {
     "name": "stdout",
     "output_type": "stream",
     "text": [
      "AUC : 0.5833812447944107,  Score/Loss : 0.41661875520558933, F1_Score_average: 0.6264150943396227, Precision, Recall, F1_score, Support: (array([0.52475248, 0.58450704]), array([0.42810985, 0.67479675]), array([0.47153025, 0.62641509]), array([619, 738]))\n",
      "F1_score_micro: 0.5622697126013264\n",
      "F1_score_macro: 0.5489726717249714\n",
      "Confusion Matrix\n",
      "[[265 354]\n",
      " [240 498]]\n",
      "END\n",
      "\n",
      "\n",
      "Training with params : \n",
      "{'attention': 20, 'dropout': 0.3, 'dense3': 7, 'dense1': 125, 'lstm_size': 20, 'dense2': 17}\n"
     ]
    },
    {
     "name": "stderr",
     "output_type": "stream",
     "text": [
      "/home/yoda/.local/lib/python3.5/site-packages/ipykernel_launcher.py:29: UserWarning: The `input_dim` and `input_length` arguments in recurrent layers are deprecated. Use `input_shape` instead.\n",
      "/home/yoda/.local/lib/python3.5/site-packages/ipykernel_launcher.py:29: UserWarning: Update your `LSTM` call to the Keras 2 API: `LSTM(20, return_sequences=True, input_shape=(49, 37))`\n",
      "/home/yoda/.local/lib/python3.5/site-packages/ipykernel_launcher.py:37: UserWarning: Update your `Dense` call to the Keras 2 API: `Dense(125, activation=\"relu\", kernel_initializer=\"glorot_uniform\")`\n",
      "/home/yoda/.local/lib/python3.5/site-packages/ipykernel_launcher.py:39: UserWarning: Update your `Dense` call to the Keras 2 API: `Dense(17, activation=\"relu\", kernel_initializer=\"glorot_uniform\")`\n",
      "/home/yoda/.local/lib/python3.5/site-packages/ipykernel_launcher.py:41: UserWarning: Update your `Dense` call to the Keras 2 API: `Dense(7, activation=\"relu\", kernel_initializer=\"glorot_uniform\")`\n",
      "/home/yoda/.local/lib/python3.5/site-packages/ipykernel_launcher.py:43: UserWarning: Update your `Dense` call to the Keras 2 API: `Dense(1, activation=\"sigmoid\", kernel_initializer=\"glorot_uniform\")`\n",
      "/home/yoda/.local/lib/python3.5/site-packages/ipykernel_launcher.py:45: UserWarning: The `nb_epoch` argument in `fit` has been renamed `epochs`.\n"
     ]
    },
    {
     "name": "stdout",
     "output_type": "stream",
     "text": [
      "AUC : 0.5425431913623834,  Score/Loss : 0.4574568086376166, F1_Score_average: 0.7039159503342884, Precision, Recall, F1_score, Support: (array([0.        , 0.54351032]), array([0.        , 0.99864499]), array([0.        , 0.70391595]), array([619, 738]))\n",
      "F1_score_micro: 0.5431098010316876\n",
      "F1_score_macro: 0.3519579751671442\n",
      "Confusion Matrix\n",
      "[[  0 619]\n",
      " [  1 737]]\n",
      "END\n",
      "\n",
      "\n",
      "Training with params : \n",
      "{'attention': 20, 'dropout': 0.3, 'dense3': 7, 'dense1': 125, 'lstm_size': 20, 'dense2': 17}\n"
     ]
    },
    {
     "name": "stderr",
     "output_type": "stream",
     "text": [
      "/home/yoda/.local/lib/python3.5/site-packages/ipykernel_launcher.py:29: UserWarning: The `input_dim` and `input_length` arguments in recurrent layers are deprecated. Use `input_shape` instead.\n",
      "/home/yoda/.local/lib/python3.5/site-packages/ipykernel_launcher.py:29: UserWarning: Update your `LSTM` call to the Keras 2 API: `LSTM(20, return_sequences=True, input_shape=(49, 37))`\n",
      "/home/yoda/.local/lib/python3.5/site-packages/ipykernel_launcher.py:37: UserWarning: Update your `Dense` call to the Keras 2 API: `Dense(125, activation=\"relu\", kernel_initializer=\"glorot_uniform\")`\n",
      "/home/yoda/.local/lib/python3.5/site-packages/ipykernel_launcher.py:39: UserWarning: Update your `Dense` call to the Keras 2 API: `Dense(17, activation=\"relu\", kernel_initializer=\"glorot_uniform\")`\n",
      "/home/yoda/.local/lib/python3.5/site-packages/ipykernel_launcher.py:41: UserWarning: Update your `Dense` call to the Keras 2 API: `Dense(7, activation=\"relu\", kernel_initializer=\"glorot_uniform\")`\n",
      "/home/yoda/.local/lib/python3.5/site-packages/ipykernel_launcher.py:43: UserWarning: Update your `Dense` call to the Keras 2 API: `Dense(1, activation=\"sigmoid\", kernel_initializer=\"glorot_uniform\")`\n",
      "/home/yoda/.local/lib/python3.5/site-packages/ipykernel_launcher.py:45: UserWarning: The `nb_epoch` argument in `fit` has been renamed `epochs`.\n"
     ]
    },
    {
     "name": "stdout",
     "output_type": "stream",
     "text": [
      "AUC : 0.5536954492491927,  Score/Loss : 0.4463045507508073, F1_Score_average: 0.7056567593480345, Precision, Recall, F1_score, Support: (array([0.77777778, 0.54599407]), array([0.01130856, 0.99728997]), array([0.02229299, 0.70565676]), array([619, 738]))\n",
      "F1_score_micro: 0.5475313190862195\n",
      "F1_score_macro: 0.3639748764893039\n",
      "Confusion Matrix\n",
      "[[  7 612]\n",
      " [  2 736]]\n",
      "END\n",
      "\n",
      "\n",
      "Training with params : \n",
      "{'attention': 30, 'dropout': 0.5, 'dense3': 7, 'dense1': 70, 'lstm_size': 20, 'dense2': 17}\n"
     ]
    },
    {
     "name": "stderr",
     "output_type": "stream",
     "text": [
      "/home/yoda/.local/lib/python3.5/site-packages/ipykernel_launcher.py:29: UserWarning: The `input_dim` and `input_length` arguments in recurrent layers are deprecated. Use `input_shape` instead.\n",
      "/home/yoda/.local/lib/python3.5/site-packages/ipykernel_launcher.py:29: UserWarning: Update your `LSTM` call to the Keras 2 API: `LSTM(20, return_sequences=True, input_shape=(49, 37))`\n",
      "/home/yoda/.local/lib/python3.5/site-packages/ipykernel_launcher.py:37: UserWarning: Update your `Dense` call to the Keras 2 API: `Dense(70, activation=\"relu\", kernel_initializer=\"glorot_uniform\")`\n",
      "/home/yoda/.local/lib/python3.5/site-packages/ipykernel_launcher.py:39: UserWarning: Update your `Dense` call to the Keras 2 API: `Dense(17, activation=\"relu\", kernel_initializer=\"glorot_uniform\")`\n",
      "/home/yoda/.local/lib/python3.5/site-packages/ipykernel_launcher.py:41: UserWarning: Update your `Dense` call to the Keras 2 API: `Dense(7, activation=\"relu\", kernel_initializer=\"glorot_uniform\")`\n",
      "/home/yoda/.local/lib/python3.5/site-packages/ipykernel_launcher.py:43: UserWarning: Update your `Dense` call to the Keras 2 API: `Dense(1, activation=\"sigmoid\", kernel_initializer=\"glorot_uniform\")`\n",
      "/home/yoda/.local/lib/python3.5/site-packages/ipykernel_launcher.py:45: UserWarning: The `nb_epoch` argument in `fit` has been renamed `epochs`.\n",
      "/home/yoda/.local/lib/python3.5/site-packages/sklearn/metrics/classification.py:1143: UndefinedMetricWarning: Precision and F-score are ill-defined and being set to 0.0 in labels with no predicted samples.\n",
      "  'precision', 'predicted', average, warn_for)\n",
      "/home/yoda/.local/lib/python3.5/site-packages/sklearn/metrics/classification.py:1143: UndefinedMetricWarning: F-score is ill-defined and being set to 0.0 in labels with no predicted samples.\n",
      "  'precision', 'predicted', average, warn_for)\n",
      "/home/yoda/.local/lib/python3.5/site-packages/ipykernel_launcher.py:29: UserWarning: The `input_dim` and `input_length` arguments in recurrent layers are deprecated. Use `input_shape` instead.\n",
      "/home/yoda/.local/lib/python3.5/site-packages/ipykernel_launcher.py:29: UserWarning: Update your `LSTM` call to the Keras 2 API: `LSTM(20, return_sequences=True, input_shape=(49, 37))`\n",
      "/home/yoda/.local/lib/python3.5/site-packages/ipykernel_launcher.py:37: UserWarning: Update your `Dense` call to the Keras 2 API: `Dense(125, activation=\"relu\", kernel_initializer=\"glorot_uniform\")`\n",
      "/home/yoda/.local/lib/python3.5/site-packages/ipykernel_launcher.py:39: UserWarning: Update your `Dense` call to the Keras 2 API: `Dense(8, activation=\"relu\", kernel_initializer=\"glorot_uniform\")`\n"
     ]
    },
    {
     "name": "stdout",
     "output_type": "stream",
     "text": [
      "AUC : 0.5354799853970238,  Score/Loss : 0.4645200146029762, F1_Score_average: 0.7045346062052505, Precision, Recall, F1_score, Support: (array([0.        , 0.54384672]), array([0., 1.]), array([0.        , 0.70453461]), array([619, 738]))\n",
      "F1_score_micro: 0.5438467207074429\n",
      "F1_score_macro: 0.3522673031026253\n",
      "Confusion Matrix\n",
      "[[  0 619]\n",
      " [  0 738]]\n",
      "END\n",
      "\n",
      "\n",
      "Training with params : \n",
      "{'attention': 20, 'dropout': 0.3, 'dense3': 7, 'dense1': 125, 'lstm_size': 20, 'dense2': 8}\n"
     ]
    },
    {
     "name": "stderr",
     "output_type": "stream",
     "text": [
      "/home/yoda/.local/lib/python3.5/site-packages/ipykernel_launcher.py:41: UserWarning: Update your `Dense` call to the Keras 2 API: `Dense(7, activation=\"relu\", kernel_initializer=\"glorot_uniform\")`\n",
      "/home/yoda/.local/lib/python3.5/site-packages/ipykernel_launcher.py:43: UserWarning: Update your `Dense` call to the Keras 2 API: `Dense(1, activation=\"sigmoid\", kernel_initializer=\"glorot_uniform\")`\n",
      "/home/yoda/.local/lib/python3.5/site-packages/ipykernel_launcher.py:45: UserWarning: The `nb_epoch` argument in `fit` has been renamed `epochs`.\n"
     ]
    },
    {
     "name": "stdout",
     "output_type": "stream",
     "text": [
      "AUC : 0.521535017630689,  Score/Loss : 0.478464982369311, F1_Score_average: 0.6624605678233438, Precision, Recall, F1_score, Support: (array([0.44041451, 0.54123711]), array([0.13731826, 0.85365854]), array([0.20935961, 0.66246057]), array([619, 738]))\n",
      "F1_score_micro: 0.52689756816507\n",
      "F1_score_macro: 0.43591008686733695\n",
      "Confusion Matrix\n",
      "[[ 85 534]\n",
      " [108 630]]\n",
      "END\n",
      "\n",
      "\n",
      "Training with params : \n",
      "{'attention': 20, 'dropout': 0.3, 'dense3': 7, 'dense1': 90, 'lstm_size': 20, 'dense2': 17}\n"
     ]
    },
    {
     "name": "stderr",
     "output_type": "stream",
     "text": [
      "/home/yoda/.local/lib/python3.5/site-packages/ipykernel_launcher.py:29: UserWarning: The `input_dim` and `input_length` arguments in recurrent layers are deprecated. Use `input_shape` instead.\n",
      "/home/yoda/.local/lib/python3.5/site-packages/ipykernel_launcher.py:29: UserWarning: Update your `LSTM` call to the Keras 2 API: `LSTM(20, return_sequences=True, input_shape=(49, 37))`\n",
      "/home/yoda/.local/lib/python3.5/site-packages/ipykernel_launcher.py:37: UserWarning: Update your `Dense` call to the Keras 2 API: `Dense(90, activation=\"relu\", kernel_initializer=\"glorot_uniform\")`\n",
      "/home/yoda/.local/lib/python3.5/site-packages/ipykernel_launcher.py:39: UserWarning: Update your `Dense` call to the Keras 2 API: `Dense(17, activation=\"relu\", kernel_initializer=\"glorot_uniform\")`\n",
      "/home/yoda/.local/lib/python3.5/site-packages/ipykernel_launcher.py:41: UserWarning: Update your `Dense` call to the Keras 2 API: `Dense(7, activation=\"relu\", kernel_initializer=\"glorot_uniform\")`\n",
      "/home/yoda/.local/lib/python3.5/site-packages/ipykernel_launcher.py:43: UserWarning: Update your `Dense` call to the Keras 2 API: `Dense(1, activation=\"sigmoid\", kernel_initializer=\"glorot_uniform\")`\n",
      "/home/yoda/.local/lib/python3.5/site-packages/ipykernel_launcher.py:45: UserWarning: The `nb_epoch` argument in `fit` has been renamed `epochs`.\n"
     ]
    }
   ],
   "source": [
    "from sklearn.metrics import mean_squared_error\n",
    "from hyperopt import fmin, tpe, hp, STATUS_OK, Trials\n",
    "from sklearn.ensemble import ExtraTreesClassifier\n",
    "from sklearn.model_selection import StratifiedKFold\n",
    "import pandas as pd;\n",
    "import numpy as np;\n",
    "from sklearn import model_selection\n",
    "\n",
    "best_params = None\n",
    "best_score = 1000\n",
    "auc = None\n",
    "model_final = None\n",
    "def score(params):\n",
    "    global best_score\n",
    "    global best_params\n",
    "    global auc\n",
    "    global model_final\n",
    "    print(\"Training with params : \")\n",
    "    print(params)\n",
    "    lstm_size = params['lstm_size']\n",
    "    attention = params['attention']\n",
    "    dropout = params['dropout']\n",
    "    dense1 = params['dense1']\n",
    "    dense2 = params['dense2']\n",
    "    dense3 = params['dense3']\n",
    "\n",
    "    \n",
    "    model = Sequential()\n",
    "    model.add(LSTM(lstm_size, return_sequences = True, input_dim = 37, input_length = 49))\n",
    "    model.add(TimeDistributed(Dense(attention, activation='tanh')))\n",
    "    #model.add(Dropout(dropout))\n",
    "    #print model.output_shape\n",
    "    #model.add(LSTM(14, return_sequences = True))\n",
    "    #model.add(Dropout(0.5))\n",
    "    model.add(Flatten())\n",
    "    #print model.output_shape\n",
    "    model.add(Dense(dense1, init='glorot_uniform', activation='relu'))\n",
    "    model.add(Dropout(dropout))\n",
    "    model.add(Dense(dense2, init='glorot_uniform', activation='relu'))\n",
    "    model.add(Dropout(dropout))\n",
    "    model.add(Dense(dense3, init='glorot_uniform', activation='relu'))\n",
    "    model.add(Dropout(dropout))\n",
    "    model.add(Dense(1, init='glorot_uniform', activation='sigmoid'))\n",
    "    model.compile(loss='binary_crossentropy', optimizer='RMSprop', metrics=['accuracy'])\n",
    "    model.fit(train_X, train_Y, nb_epoch=1, batch_size=40, verbose=0)\n",
    "    val_predict = model.predict(val_X,  batch_size=40)\n",
    "    test_predict=model.predict(test_X,batch_size=40)\n",
    "    from sklearn.metrics import roc_auc_score, f1_score,precision_recall_fscore_support\n",
    "    from sklearn.metrics import confusion_matrix\n",
    "    score = 1.0 - roc_auc_score(val_Y, val_predict)\n",
    "    f_score=f1_score(test_Y,test_predict.round())\n",
    "    prfs=precision_recall_fscore_support(test_Y,test_predict.round())\n",
    "    f_score_micro=f1_score(test_Y,test_predict.round(),average='micro')\n",
    "    f_score_macro=f1_score(test_Y,test_predict.round(),average='macro')\n",
    "    cf=confusion_matrix(test_Y,test_predict.round())\n",
    "    #scores = model_selection.cross_val_score(model, X, y, scoring='roc_auc', cv=sss, n_jobs=-1, verbose=0)\n",
    "    #score = 1.0-scores.mean()\n",
    "    if best_score > score:\n",
    "        best_score = score\n",
    "        best_params = params\n",
    "        auc = 1.0 - score\n",
    "        model_final = model\n",
    "    print(\"AUC : \"+str(1.0 - score)+\",  Score/Loss : \"+str(score)+\", F1_Score_average: \"+str(f_score)+\", Precision, Recall, F1_score, Support: \"+str(prfs))\n",
    "    print(\"F1_score_micro: \"+str(f_score_micro))\n",
    "    print(\"F1_score_macro: \"+str(f_score_macro))\n",
    "    print(\"Confusion Matrix\")\n",
    "    print(cf)\n",
    "    print(\"END\\n\\n\")\n",
    "    return {'loss': score, 'status': STATUS_OK}\n",
    "\n",
    "def optimize(trials):\n",
    "    space = {\n",
    "    'lstm_size': hp.choice('lstm_size', np.arange(15, 35, 5, dtype=int)),\n",
    "    'attention': hp.choice('attention',[10, 20, 30, 40]),  \n",
    "    'dropout': hp.choice('dropout',[0.5, 0.3]),\n",
    "    'dense1': hp.choice('dense1', [70, 80, 90, 100, 125]),\n",
    "    'dense2' : hp.choice('dense2', np.arange(8, 20, 3, dtype=int)),\n",
    "    \"dense3\": hp.choice('dense3', np.arange(5, 8, 1, dtype=int))\n",
    "    }\n",
    "    best = fmin(score, space, algo=tpe.suggest, trials=trials, max_evals=40)\n",
    "    #print \"optimize best\", best\n",
    "    return best\n",
    "\n",
    "\n",
    "\n",
    "# from sklearn import datasets\n",
    "# iris = datasets.load_iris()\n",
    "# iris_X = iris.data\n",
    "# iris_y = iris.target\n",
    "# #print set(iris_y)\n",
    "\n",
    "# X, y = iris_X,iris_y\n",
    "# y[y[:] == 2] = 1\n",
    "# y[y[:] == 3] = 2\n",
    "\n",
    "# #print set(y)\n",
    "# #print \"Splitting data into train and valid ...\\n\\n\"\n",
    "# sss = StratifiedKFold(y, n_folds=3,shuffle=True, random_state=42)\n",
    "\n",
    "# #Trials object where the history of search will be stored\n",
    "trials = Trials()\n",
    "best = optimize(trials)\n",
    "#print \"best\", best\n",
    "print(\"best_score : \", best_score)\n",
    "print(\"best_params\\n\\n\", best_params)\n",
    "print(\"\\n\\nauc : \", auc)"
   ]
  },
  {
   "cell_type": "code",
   "execution_count": null,
   "metadata": {},
   "outputs": [],
   "source": [
    "test_predict = model_final.predict(test_X,  batch_size=40)\n",
    "#print(test_predict.shape)\n",
    "score = model_final.evaluate(test_X, test_Y, verbose=0)\n",
    "print(score)\n",
    "from sklearn.metrics import roc_auc_score\n",
    "print(roc_auc_score(test_Y, test_predict))"
   ]
  },
  {
   "cell_type": "code",
   "execution_count": 15,
   "metadata": {
    "collapsed": true
   },
   "outputs": [],
   "source": [
    "from keras.models import load_model\n",
    "model.save('model.h5')"
   ]
  },
  {
   "cell_type": "code",
   "execution_count": 27,
   "metadata": {
    "scrolled": false
   },
   "outputs": [
    {
     "name": "stderr",
     "output_type": "stream",
     "text": [
      "/home/yoda/.local/lib/python3.5/site-packages/ipykernel_launcher.py:2: UserWarning: The `input_dim` and `input_length` arguments in recurrent layers are deprecated. Use `input_shape` instead.\n",
      "  \n",
      "/home/yoda/.local/lib/python3.5/site-packages/ipykernel_launcher.py:2: UserWarning: Update your `LSTM` call to the Keras 2 API: `LSTM(20, return_sequences=20, input_shape=(49, 37))`\n",
      "  \n",
      "/home/yoda/.local/lib/python3.5/site-packages/ipykernel_launcher.py:9: UserWarning: Update your `Dense` call to the Keras 2 API: `Dense(125, activation=\"relu\", kernel_initializer=\"glorot_uniform\")`\n",
      "  if __name__ == '__main__':\n",
      "/home/yoda/.local/lib/python3.5/site-packages/ipykernel_launcher.py:11: UserWarning: Update your `Dense` call to the Keras 2 API: `Dense(11, activation=\"relu\", kernel_initializer=\"glorot_uniform\")`\n",
      "  # This is added back by InteractiveShellApp.init_path()\n",
      "/home/yoda/.local/lib/python3.5/site-packages/ipykernel_launcher.py:13: UserWarning: Update your `Dense` call to the Keras 2 API: `Dense(7, activation=\"relu\", kernel_initializer=\"glorot_uniform\")`\n",
      "  del sys.path[0]\n",
      "/home/yoda/.local/lib/python3.5/site-packages/ipykernel_launcher.py:15: UserWarning: Update your `Dense` call to the Keras 2 API: `Dense(1, activation=\"sigmoid\", kernel_initializer=\"glorot_uniform\")`\n",
      "  from ipykernel import kernelapp as app\n",
      "/home/yoda/.local/lib/python3.5/site-packages/ipykernel_launcher.py:17: UserWarning: The `nb_epoch` argument in `fit` has been renamed `epochs`.\n"
     ]
    },
    {
     "name": "stdout",
     "output_type": "stream",
     "text": [
      "Epoch 1/10\n",
      "5663/5663 [==============================] - 16s 3ms/step - loss: 0.6940 - acc: 0.5352\n",
      "Epoch 2/10\n",
      "5663/5663 [==============================] - 4s 780us/step - loss: 0.6846 - acc: 0.5400\n",
      "Epoch 3/10\n",
      "5663/5663 [==============================] - 4s 762us/step - loss: 0.6809 - acc: 0.5403\n",
      "Epoch 4/10\n",
      "5663/5663 [==============================] - 5s 851us/step - loss: 0.6842 - acc: 0.5430\n",
      "Epoch 5/10\n",
      "5663/5663 [==============================] - 5s 808us/step - loss: 0.6848 - acc: 0.5411\n",
      "Epoch 6/10\n",
      "5663/5663 [==============================] - 4s 774us/step - loss: 0.6814 - acc: 0.5476\n",
      "Epoch 7/10\n",
      "5663/5663 [==============================] - 4s 771us/step - loss: 0.6845 - acc: 0.5458\n",
      "Epoch 8/10\n",
      "5663/5663 [==============================] - 5s 866us/step - loss: 0.6811 - acc: 0.5418\n",
      "Epoch 9/10\n",
      "5663/5663 [==============================] - 5s 798us/step - loss: 0.6838 - acc: 0.5483\n",
      "Epoch 10/10\n",
      "5663/5663 [==============================] - 4s 772us/step - loss: 0.6818 - acc: 0.5524\n",
      "0.5563692089335026\n",
      "0.5509963433173097\n"
     ]
    }
   ],
   "source": [
    "model = Sequential()\n",
    "model.add(LSTM(20, return_sequences = 20, input_dim = 37, input_length = 49))\n",
    "model.add(Dropout(0.3))\n",
    "#print model.output_shape\n",
    "#model.add(LSTM(14, return_sequences = True))\n",
    "#model.add(Dropout(0.5))\n",
    "model.add(Flatten())\n",
    "#print model.output_shape\n",
    "model.add(Dense(125, init='glorot_uniform', activation='relu'))\n",
    "model.add(Dropout(0.3))\n",
    "model.add(Dense(11, init='glorot_uniform', activation='relu'))\n",
    "model.add(Dropout(0.3))\n",
    "model.add(Dense(7, init='glorot_uniform', activation='relu'))\n",
    "model.add(Dropout(0.3))\n",
    "model.add(Dense(1, init='glorot_uniform', activation='sigmoid'))\n",
    "model.compile(loss='binary_crossentropy', optimizer='RMSprop', metrics=['accuracy'])\n",
    "model.fit(train_X, train_Y, nb_epoch=10, batch_size=40, verbose=1)\n",
    "val_predict = model.predict(val_X,  batch_size=40)\n",
    "from sklearn.metrics import roc_auc_score\n",
    "from sklearn.metrics import f1_score\n",
    "test_predict = model.predict(test_X,  batch_size=40)\n",
    "\n",
    "print(roc_auc_score(val_Y, val_predict))\n",
    "print(roc_auc_score(test_Y, test_predict))"
   ]
  },
  {
   "cell_type": "code",
   "execution_count": 28,
   "metadata": {},
   "outputs": [
    {
     "name": "stdout",
     "output_type": "stream",
     "text": [
      "[0.6829080685752228, 0.5560131796698594]\n",
      "0.5509963433173097\n"
     ]
    }
   ],
   "source": [
    "test_predict = model.predict(test_X,  batch_size=40)\n",
    "#print(test_predict.shape)\n",
    "score = model.evaluate(test_X, test_Y, verbose=0)\n",
    "print(score)\n",
    "from sklearn.metrics import roc_auc_score\n",
    "print(roc_auc_score(test_Y, test_predict))"
   ]
  },
  {
   "cell_type": "code",
   "execution_count": 11,
   "metadata": {
    "collapsed": true
   },
   "outputs": [
    {
     "name": "stderr",
     "output_type": "stream",
     "text": [
      "/home/iiitm/.local/lib/python2.7/site-packages/ipykernel_launcher.py:2: UserWarning: The `input_dim` and `input_length` arguments in recurrent layers are deprecated. Use `input_shape` instead.\n",
      "  \n",
      "/home/iiitm/.local/lib/python2.7/site-packages/ipykernel_launcher.py:2: UserWarning: Update your `LSTM` call to the Keras 2 API: `LSTM(20, return_sequences=True, input_shape=(49, 37))`\n",
      "  \n",
      "/home/iiitm/.local/lib/python2.7/site-packages/ipykernel_launcher.py:9: UserWarning: Update your `Dense` call to the Keras 2 API: `Dense(125, activation=\"relu\", kernel_initializer=\"glorot_uniform\")`\n",
      "  if __name__ == '__main__':\n",
      "/home/iiitm/.local/lib/python2.7/site-packages/ipykernel_launcher.py:11: UserWarning: Update your `Dense` call to the Keras 2 API: `Dense(11, activation=\"relu\", kernel_initializer=\"glorot_uniform\")`\n",
      "  # This is added back by InteractiveShellApp.init_path()\n",
      "/home/iiitm/.local/lib/python2.7/site-packages/ipykernel_launcher.py:13: UserWarning: Update your `Dense` call to the Keras 2 API: `Dense(7, activation=\"relu\", kernel_initializer=\"glorot_uniform\")`\n",
      "  del sys.path[0]\n",
      "/home/iiitm/.local/lib/python2.7/site-packages/ipykernel_launcher.py:15: UserWarning: Update your `Dense` call to the Keras 2 API: `Dense(1, activation=\"sigmoid\", kernel_initializer=\"glorot_uniform\")`\n",
      "  from ipykernel import kernelapp as app\n"
     ]
    },
    {
     "name": "stdout",
     "output_type": "stream",
     "text": [
      "Epoch 1/100\n",
      "0s - loss: 0.7007 - acc: 0.5000\n",
      "Epoch 2/100\n",
      "0s - loss: 0.6520 - acc: 0.5000\n",
      "Epoch 3/100\n",
      "0s - loss: 0.6647 - acc: 0.6364\n",
      "Epoch 4/100\n",
      "0s - loss: 0.5765 - acc: 0.6364\n",
      "Epoch 5/100\n",
      "0s - loss: 0.7702 - acc: 0.6364\n",
      "Epoch 6/100\n",
      "0s - loss: 0.6653 - acc: 0.6818\n",
      "Epoch 7/100\n",
      "0s - loss: 0.7310 - acc: 0.6364\n",
      "Epoch 8/100\n",
      "0s - loss: 0.6079 - acc: 0.6364\n",
      "Epoch 9/100\n",
      "0s - loss: 0.6622 - acc: 0.6818\n",
      "Epoch 10/100\n",
      "0s - loss: 0.5511 - acc: 0.7727\n",
      "Epoch 11/100\n",
      "0s - loss: 0.6399 - acc: 0.7273\n",
      "Epoch 12/100\n",
      "0s - loss: 0.6586 - acc: 0.5455\n",
      "Epoch 13/100\n",
      "0s - loss: 0.6123 - acc: 0.6818\n",
      "Epoch 14/100\n",
      "0s - loss: 0.6352 - acc: 0.6364\n",
      "Epoch 15/100\n",
      "0s - loss: 0.5678 - acc: 0.6364\n",
      "Epoch 16/100\n",
      "0s - loss: 0.6097 - acc: 0.7273\n",
      "Epoch 17/100\n",
      "0s - loss: 0.6475 - acc: 0.7273\n",
      "Epoch 18/100\n",
      "0s - loss: 0.6234 - acc: 0.6818\n",
      "Epoch 19/100\n",
      "0s - loss: 0.6129 - acc: 0.6364\n",
      "Epoch 20/100\n",
      "0s - loss: 0.5391 - acc: 0.7273\n",
      "Epoch 21/100\n",
      "0s - loss: 0.5309 - acc: 0.7273\n",
      "Epoch 22/100\n",
      "0s - loss: 0.5764 - acc: 0.7273\n",
      "Epoch 23/100\n",
      "0s - loss: 0.5979 - acc: 0.6818\n",
      "Epoch 24/100\n",
      "0s - loss: 0.6182 - acc: 0.6364\n",
      "Epoch 25/100\n",
      "0s - loss: 0.6303 - acc: 0.6364\n",
      "Epoch 26/100\n",
      "0s - loss: 0.5486 - acc: 0.7273\n",
      "Epoch 27/100\n",
      "0s - loss: 0.5194 - acc: 0.6818\n",
      "Epoch 28/100\n",
      "0s - loss: 0.5711 - acc: 0.7273\n",
      "Epoch 29/100\n",
      "0s - loss: 0.5806 - acc: 0.5909\n",
      "Epoch 30/100\n",
      "0s - loss: 0.5282 - acc: 0.7273\n",
      "Epoch 31/100\n",
      "0s - loss: 0.5352 - acc: 0.6818\n",
      "Epoch 32/100\n",
      "0s - loss: 0.5014 - acc: 0.6818\n",
      "Epoch 33/100\n",
      "0s - loss: 0.5299 - acc: 0.7273\n",
      "Epoch 34/100\n",
      "0s - loss: 0.6130 - acc: 0.6818\n",
      "Epoch 35/100\n",
      "0s - loss: 0.6023 - acc: 0.6364\n",
      "Epoch 36/100\n",
      "0s - loss: 0.5985 - acc: 0.6818\n",
      "Epoch 37/100\n",
      "0s - loss: 0.4964 - acc: 0.6818\n",
      "Epoch 38/100\n",
      "0s - loss: 0.6535 - acc: 0.7273\n",
      "Epoch 39/100\n",
      "0s - loss: 0.5757 - acc: 0.6818\n",
      "Epoch 40/100\n",
      "0s - loss: 0.4867 - acc: 0.7273\n",
      "Epoch 41/100\n",
      "0s - loss: 0.5150 - acc: 0.6818\n",
      "Epoch 42/100\n",
      "0s - loss: 0.5613 - acc: 0.6818\n",
      "Epoch 43/100\n",
      "0s - loss: 0.6232 - acc: 0.6818\n",
      "Epoch 44/100\n",
      "0s - loss: 0.5354 - acc: 0.7273\n",
      "Epoch 45/100\n",
      "0s - loss: 0.5088 - acc: 0.6818\n",
      "Epoch 46/100\n",
      "0s - loss: 0.5780 - acc: 0.6364\n",
      "Epoch 47/100\n",
      "0s - loss: 0.4923 - acc: 0.7273\n",
      "Epoch 48/100\n",
      "0s - loss: 0.5159 - acc: 0.7273\n",
      "Epoch 49/100\n",
      "0s - loss: 0.4370 - acc: 0.7273\n",
      "Epoch 50/100\n",
      "0s - loss: 0.4479 - acc: 0.7273\n",
      "Epoch 51/100\n",
      "0s - loss: 0.4883 - acc: 0.6818\n",
      "Epoch 52/100\n",
      "0s - loss: 0.4765 - acc: 0.7273\n",
      "Epoch 53/100\n",
      "0s - loss: 0.4609 - acc: 0.7727\n",
      "Epoch 54/100\n",
      "0s - loss: 0.5179 - acc: 0.7273\n",
      "Epoch 55/100\n",
      "0s - loss: 0.5476 - acc: 0.7727\n",
      "Epoch 56/100\n",
      "0s - loss: 0.4873 - acc: 0.7273\n",
      "Epoch 57/100\n",
      "0s - loss: 0.4833 - acc: 0.6364\n",
      "Epoch 58/100\n",
      "0s - loss: 0.4766 - acc: 0.7273\n",
      "Epoch 59/100\n",
      "0s - loss: 0.4109 - acc: 0.7727\n",
      "Epoch 60/100\n",
      "0s - loss: 0.4544 - acc: 0.7727\n",
      "Epoch 61/100\n",
      "0s - loss: 0.4791 - acc: 0.6364\n",
      "Epoch 62/100\n",
      "0s - loss: 0.4185 - acc: 0.7273\n",
      "Epoch 63/100\n",
      "0s - loss: 0.4858 - acc: 0.7273\n",
      "Epoch 64/100\n",
      "0s - loss: 0.6160 - acc: 0.6818\n",
      "Epoch 65/100\n",
      "0s - loss: 0.4211 - acc: 0.7727\n",
      "Epoch 66/100\n",
      "0s - loss: 0.5017 - acc: 0.7273\n",
      "Epoch 67/100\n",
      "0s - loss: 0.5816 - acc: 0.6818\n",
      "Epoch 68/100\n",
      "0s - loss: 0.4474 - acc: 0.7273\n",
      "Epoch 69/100\n",
      "0s - loss: 0.4823 - acc: 0.7727\n",
      "Epoch 70/100\n",
      "0s - loss: 0.4544 - acc: 0.6818\n",
      "Epoch 71/100\n",
      "0s - loss: 0.4336 - acc: 0.7273\n",
      "Epoch 72/100\n",
      "0s - loss: 0.5282 - acc: 0.7273\n",
      "Epoch 73/100\n",
      "0s - loss: 0.5022 - acc: 0.6818\n",
      "Epoch 74/100\n",
      "0s - loss: 0.4585 - acc: 0.6818\n",
      "Epoch 75/100\n",
      "0s - loss: 0.4828 - acc: 0.7273\n",
      "Epoch 76/100\n",
      "0s - loss: 0.4393 - acc: 0.7273\n",
      "Epoch 77/100\n",
      "0s - loss: 0.5468 - acc: 0.6364\n",
      "Epoch 78/100\n",
      "0s - loss: 0.4201 - acc: 0.8182\n",
      "Epoch 79/100\n",
      "0s - loss: 0.4102 - acc: 0.7273\n",
      "Epoch 80/100\n",
      "0s - loss: 0.4554 - acc: 0.7273\n",
      "Epoch 81/100\n",
      "0s - loss: 0.5090 - acc: 0.6818\n",
      "Epoch 82/100\n",
      "0s - loss: 0.3996 - acc: 0.7273\n",
      "Epoch 83/100\n",
      "0s - loss: 0.5025 - acc: 0.7273\n",
      "Epoch 84/100\n",
      "0s - loss: 0.4907 - acc: 0.6818\n",
      "Epoch 85/100\n",
      "0s - loss: 0.4640 - acc: 0.7273\n",
      "Epoch 86/100\n",
      "0s - loss: 0.4722 - acc: 0.6818\n",
      "Epoch 87/100\n",
      "0s - loss: 0.4588 - acc: 0.7273\n",
      "Epoch 88/100\n",
      "0s - loss: 0.4831 - acc: 0.7273\n",
      "Epoch 89/100\n",
      "0s - loss: 0.3349 - acc: 0.7727\n",
      "Epoch 90/100\n",
      "0s - loss: 0.3986 - acc: 0.7727\n",
      "Epoch 91/100\n",
      "0s - loss: 0.4706 - acc: 0.7273\n",
      "Epoch 92/100\n",
      "0s - loss: 0.4699 - acc: 0.7273\n",
      "Epoch 93/100\n",
      "0s - loss: 0.3874 - acc: 0.7273\n",
      "Epoch 94/100\n",
      "0s - loss: 0.6696 - acc: 0.6364\n",
      "Epoch 95/100\n",
      "0s - loss: 0.3437 - acc: 0.7273\n",
      "Epoch 96/100\n",
      "0s - loss: 0.3255 - acc: 0.7273\n",
      "Epoch 97/100\n",
      "0s - loss: 0.4630 - acc: 0.7273\n",
      "Epoch 98/100\n",
      "0s - loss: 0.4320 - acc: 0.6818\n",
      "Epoch 99/100\n",
      "0s - loss: 0.3403 - acc: 0.6818\n",
      "Epoch 100/100\n",
      "0s - loss: 0.4103 - acc: 0.6818\n",
      "Accuracy on validation dataset:\n",
      "0.666666666667\n",
      "Accuracy on test dataset:\n",
      "0.25\n",
      "Patient 1 critical illness probability: 0.309072\n",
      "Patient 2 critical illness probability: 0.483615\n",
      "Patient 3 critical illness probability: 0.11227\n",
      "Patient 4 critical illness probability: 8.0422e-06\n",
      "Patient 5 critical illness probability: 0.189652\n",
      "Patient 6 critical illness probability: 7.81007e-07\n",
      "Patient 7 critical illness probability: 4.61097e-06\n"
     ]
    }
   ],
   "source": [
    "model = Sequential()\n",
    "model.add(LSTM(20, return_sequences = True, input_dim = 37, input_length = 49))\n",
    "model.add(Dropout(0.5))\n",
    "#print model.output_shape\n",
    "#model.add(LSTM(14, return_sequences = True))\n",
    "#model.add(Dropout(0.5))\n",
    "model.add(Flatten())\n",
    "#print model.output_shape\n",
    "model.add(Dense(125, init='glorot_uniform', activation='relu'))\n",
    "model.add(Dropout(0.5))\n",
    "model.add(Dense(11, init='glorot_uniform', activation='relu'))\n",
    "model.add(Dropout(0.5))\n",
    "model.add(Dense(7, init='glorot_uniform', activation='relu'))\n",
    "model.add(Dropout(0.5))\n",
    "model.add(Dense(1, init='glorot_uniform', activation='sigmoid'))\n",
    "model.compile(loss='binary_crossentropy', optimizer='RMSprop', metrics=['accuracy'])\n",
    "model.fit(train_X, train_Y, nb_epoch=100, batch_size=40, verbose=2)\n",
    "val_predict = model.predict(val_X,  batch_size=40)\n",
    "test_predict = model.predict(test_X,  batch_size=1)\n",
    "# print test_predict\n",
    "# test_out=model_final.predict_classes(test_X,batch_size=40)\n",
    "# val_out=model.predict_classes(val_X,  batch_size=40)\n",
    "from sklearn.metrics import roc_auc_score,f1_score,precision_recall_fscore_support\n",
    "print \"Accuracy on validation dataset:\"\n",
    "print roc_auc_score(val_Y,val_predict)\n",
    "print \"Accuracy on test dataset:\"\n",
    "print roc_auc_score(test_Y,test_predict)\n",
    "for i in range(1,len(test_predict)):\n",
    "    print \"Patient \"+str(i)+ \" critical illness probability: \"+str(test_predict[i][0])\n",
    "# print precision_recall_fscore_support(test_Y,test_predict.round())\n",
    "# print f1_score(test_Y,test_predict.round(),average='macro')\n",
    "# print f1_score(test_Y,test_predict.round(),average='micro')"
   ]
  },
  {
   "cell_type": "code",
   "execution_count": null,
   "metadata": {
    "collapsed": true
   },
   "outputs": [],
   "source": []
  }
 ],
 "metadata": {
  "kernelspec": {
   "display_name": "Python 2",
   "language": "python",
   "name": "python2"
  },
  "language_info": {
   "codemirror_mode": {
    "name": "ipython",
    "version": 3
   },
   "file_extension": ".py",
   "mimetype": "text/x-python",
   "name": "python",
   "nbconvert_exporter": "python",
   "pygments_lexer": "ipython3",
   "version": "3.6.6"
  }
 },
 "nbformat": 4,
 "nbformat_minor": 1
}
